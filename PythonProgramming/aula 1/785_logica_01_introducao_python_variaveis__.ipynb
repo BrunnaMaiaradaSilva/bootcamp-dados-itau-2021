{
 "cells": [
  {
   "cell_type": "markdown",
   "metadata": {
    "heading_collapsed": true
   },
   "source": [
    "# Aula 1 - Introdução ao Python e variáveis"
   ]
  },
  {
   "cell_type": "markdown",
   "metadata": {
    "hidden": true
   },
   "source": [
    "Na aula de hoje, vamos explorar os seguintes tópicos em Python:\n",
    "\n",
    "- 1) Introdução: Python;\n",
    "- 2) Variáveis.\n",
    "- 3) Tipos básicos de dados/variáveis;\n",
    "- 4) Comentários;\n",
    "- 5) Saída (output);\n",
    "- 6) Entrada (input);\n",
    "- 7) Operadores Matemáticos;"
   ]
  },
  {
   "cell_type": "markdown",
   "metadata": {
    "heading_collapsed": true
   },
   "source": [
    "# Habilidades a serem desenvolvidas"
   ]
  },
  {
   "cell_type": "markdown",
   "metadata": {
    "hidden": true
   },
   "source": [
    "Ao final da aula, o aluno dever saber:\n",
    "\n",
    "\n",
    "- Primeiro programa em Python;\n",
    "    - No Jupyter, mostrar como as células de código são executadas;\n",
    "- Variáveis: conceito, criação e boas práticas;\n",
    "- Saber dos diferentes tipos de dados básicos em Python, e em que situação utilizar cada um;\n",
    "- Saber definir comentários em meio ao código;\n",
    "- Saber fazer a saída de dados através do print;\n",
    "- Saber fazer a entrada de dados através do input:\n",
    "    - Saber converter entre diferentes tipos de dados;\n",
    "    - Fazer as conversões necessárias na entrada de dados.\n",
    "- Conhecer as operações matemáticas e seus símbolos em Python."
   ]
  },
  {
   "cell_type": "markdown",
   "metadata": {
    "heading_collapsed": true
   },
   "source": [
    "# Introdução: Python"
   ]
  },
  {
   "cell_type": "markdown",
   "metadata": {
    "hidden": true
   },
   "source": [
    "Tradicionalmente, o primeiro programa feito em uma nova linguagem de programação consiste em exibir a frase \"Olá, mundo!\" na tela.\n",
    "\n",
    "Vamos fazer isso em Python?\n",
    "\n",
    "Para isso, basta utilizar a função `print()`, e indicar o texto a ser exibido entre aspas: \"Olá, mundo!\""
   ]
  },
  {
   "cell_type": "code",
   "execution_count": 1,
   "metadata": {
    "hidden": true
   },
   "outputs": [
    {
     "name": "stdout",
     "output_type": "stream",
     "text": [
      "Olá, mundo!\n"
     ]
    }
   ],
   "source": [
    "print(\"Olá, mundo!\")"
   ]
  },
  {
   "cell_type": "markdown",
   "metadata": {
    "hidden": true
   },
   "source": [
    "Parabéns! Seu primeiro programa em Python foi executado com sucesso!"
   ]
  },
  {
   "cell_type": "markdown",
   "metadata": {
    "heading_collapsed": true
   },
   "source": [
    "# Variáveis"
   ]
  },
  {
   "cell_type": "markdown",
   "metadata": {
    "hidden": true
   },
   "source": [
    "Seria legal se pudéssemos **guardar** o valor das operações matemáticas que fizemos acima, não é mesmo?\n",
    "\n",
    "Isso é possível com o uso das **variáveis**, que são um pedacinho da memória onde armazenamos as operações do Python\n",
    "\n",
    "\n",
    "Uma variável pode legar qualquer nome, mas existem algumas regras:\n",
    "\n",
    "- O Python **diferencia** maiúscula de minúscula (ex: \"variavel\" é diferente de \"Variavel\", \"VaRiAvEl\" ou \"VARIAVEL\")\n",
    "    - Dica: melhor usar letras minúsculas pra nomes de variáveis\n",
    "- O nome das variáveis **não** pode ter espaço! Use um underline ao invés de espaço: \"minha_variavel\" ao invés de \"minha variavel\"\n",
    "- É melhor que o nome da variável **não** tenha acento (ex: não usar o nome \"variável\")\n",
    "- Existem algumas palavras reservadas do Python, que **não** podem ser usadas como nome de variável, ex: and, or, if, else, lambda, etc.\n",
    "- Também **não** use nome de funções para variáveis (ex: print)\n",
    "- Dica geral: o nome de variavel fica preto em python!\n",
    "    - Se o nome que você for dar ficar colorido, melhor escolher outro nome!"
   ]
  },
  {
   "cell_type": "markdown",
   "metadata": {
    "hidden": true
   },
   "source": [
    "## Criando três variaveis\n",
    "\n",
    "Agora, vamos criar três variáveis para armazenar os calores dos cálculos matemáticos\n",
    "\n",
    "__IMPORTANTE (dica): O sinal \"=\" é lido como \"recebe\", pois o que estamos fazendo é guardando o valor da operação matemática no pedacinho de memória com o nome da variável, então o pedacinho de memória recebe o valor indicado depois do sinal de \"=\"__\n",
    "\n",
    "Ou seja, lemos o código a seguir como:\n",
    "\n",
    "- A variável que demos o nome de \"meu_numero\", **recebe** o valor da operação \"2+3\" (que é 5);\n",
    "- A variável que demos o nome de \"variavel\", **recebe** o valor da operação \"1+1\" (que é 2);\n",
    "- A variável que demos o nome de \"x\", **recebe** o valor da operação \"2*3\" (que é 6);\n",
    "\n",
    "O código a seguir apenas cria as variáveis: note que não há nenhum output!"
   ]
  },
  {
   "cell_type": "code",
   "execution_count": 5,
   "metadata": {
    "hidden": true
   },
   "outputs": [],
   "source": [
    "meu_numero = 3 + 2\n",
    "variavel = 1 + 1\n",
    "x = 3 * 2"
   ]
  },
  {
   "cell_type": "markdown",
   "metadata": {
    "hidden": true
   },
   "source": [
    "Para examinarmos o valor armazenado nas variáveis, podemos, individualmente, \"chamar\" a variável na célula:"
   ]
  },
  {
   "cell_type": "code",
   "execution_count": 6,
   "metadata": {
    "hidden": true
   },
   "outputs": [
    {
     "data": {
      "text/plain": [
       "6"
      ]
     },
     "execution_count": 6,
     "metadata": {},
     "output_type": "execute_result"
    }
   ],
   "source": [
    "x"
   ]
  },
  {
   "cell_type": "code",
   "execution_count": 7,
   "metadata": {
    "hidden": true
   },
   "outputs": [
    {
     "data": {
      "text/plain": [
       "2"
      ]
     },
     "execution_count": 7,
     "metadata": {},
     "output_type": "execute_result"
    }
   ],
   "source": [
    "variavel"
   ]
  },
  {
   "cell_type": "code",
   "execution_count": 8,
   "metadata": {
    "hidden": true
   },
   "outputs": [
    {
     "data": {
      "text/plain": [
       "5"
      ]
     },
     "execution_count": 8,
     "metadata": {},
     "output_type": "execute_result"
    }
   ],
   "source": [
    "meu_numero"
   ]
  },
  {
   "cell_type": "markdown",
   "metadata": {
    "hidden": true
   },
   "source": [
    "Se quisermos exibir o valor das 3 variáveis em seguida, podemos usar o print\n",
    "\n",
    "Note que de fato são exibidos os **valores armazenados nas variáveis!!**"
   ]
  },
  {
   "cell_type": "code",
   "execution_count": 9,
   "metadata": {
    "hidden": true
   },
   "outputs": [
    {
     "name": "stdout",
     "output_type": "stream",
     "text": [
      "5\n",
      "2\n",
      "6\n"
     ]
    }
   ],
   "source": [
    "print(meu_numero)\n",
    "print(variavel)\n",
    "print(x)"
   ]
  },
  {
   "cell_type": "markdown",
   "metadata": {
    "hidden": true
   },
   "source": [
    "Como o próprio nome diz, variáveis podem variar, ou seja, eu posso mudar o valor que tá armazenado na variável.\n",
    "\n",
    "Se, por exemplo, eu quiser que a variável \"x\" passe a receber o valor \"42\", eu faço simplesmente o código a seguir, que é lido como \"a variável x recebe o valor 42\"."
   ]
  },
  {
   "cell_type": "code",
   "execution_count": 10,
   "metadata": {
    "hidden": true
   },
   "outputs": [],
   "source": [
    "x = 42"
   ]
  },
  {
   "cell_type": "markdown",
   "metadata": {
    "hidden": true
   },
   "source": [
    "Após fazer isso, o valor anterior (6), é completamente esquecido, e a variável x agora tem apenas o valor 42.\n",
    "\n",
    "Chamando a variável:"
   ]
  },
  {
   "cell_type": "code",
   "execution_count": 11,
   "metadata": {
    "hidden": true
   },
   "outputs": [
    {
     "data": {
      "text/plain": [
       "42"
      ]
     },
     "execution_count": 11,
     "metadata": {},
     "output_type": "execute_result"
    }
   ],
   "source": [
    "x"
   ]
  },
  {
   "cell_type": "markdown",
   "metadata": {
    "heading_collapsed": true,
    "hidden": true
   },
   "source": [
    "## Tipos de dados/variáveis"
   ]
  },
  {
   "cell_type": "markdown",
   "metadata": {
    "hidden": true
   },
   "source": [
    "Em python, temos 4 **tipos** principais de dados básicos\n",
    "\n",
    "### Tipo **inteiros** (int): são números inteiros, isto é, sem casas decimais.\n",
    "\n",
    "- Ex:\n",
    "    - 1 \n",
    "    - 456\n",
    "    - 124023\n",
    "    - 0\n",
    "    - -2 (números to tipo int podem ser negativos!)\n",
    "\n",
    "No Jupyter, números inteiros são destacados em cor verde clara"
   ]
  },
  {
   "cell_type": "markdown",
   "metadata": {
    "hidden": true
   },
   "source": [
    "Exemplo: a idade de uma pessoa em anos, número de filhos de uma pessoa, etc."
   ]
  },
  {
   "cell_type": "code",
   "execution_count": 1,
   "metadata": {
    "hidden": true
   },
   "outputs": [],
   "source": [
    "numero_de_filhos = 3"
   ]
  },
  {
   "cell_type": "code",
   "execution_count": 2,
   "metadata": {
    "hidden": true
   },
   "outputs": [
    {
     "data": {
      "text/plain": [
       "3"
      ]
     },
     "execution_count": 2,
     "metadata": {},
     "output_type": "execute_result"
    }
   ],
   "source": [
    "numero_de_filhos"
   ]
  },
  {
   "cell_type": "markdown",
   "metadata": {
    "hidden": true
   },
   "source": [
    "### Tipo **float** (float): são números com casas decimais (**em python usamos ponto ao invés de vírgula para indicar cadas decimais!**)\n",
    "\n",
    "- Ex:\n",
    "    - 3.1415\n",
    "    - 1.78\n",
    "    - 10.0 (essa é a representação float de um número inteiro, 10) \n",
    "    - -42.73 (números do tipo float podem ser negativos!)\n",
    "\n",
    "No Jupyter, números float também são destacados em cor verde clara"
   ]
  },
  {
   "cell_type": "markdown",
   "metadata": {
    "hidden": true
   },
   "source": [
    "Exemplo: a altura de uma pessoa em metros"
   ]
  },
  {
   "cell_type": "code",
   "execution_count": 3,
   "metadata": {
    "hidden": true
   },
   "outputs": [
    {
     "data": {
      "text/plain": [
       "1.78"
      ]
     },
     "execution_count": 3,
     "metadata": {},
     "output_type": "execute_result"
    }
   ],
   "source": [
    "altura = 1.78\n",
    "\n",
    "altura"
   ]
  },
  {
   "cell_type": "markdown",
   "metadata": {
    "hidden": true
   },
   "source": [
    "### Tipo **string** (str): são textos, que devem ser indicados entre aspas duplas \" \" ou aspas simples ' ' \n",
    "\n",
    "- Ex:\n",
    "    - \"Olá, mundo!\" (para strings, podemos usar pontuação e acentuação sem problemas!)\n",
    "    - \"Nos encontramos às 9h30 amanhã?\" (strings podem conter numeros!)\n",
    "    - \"100\" (neste caso, é uma string que representa um numero inteiro)\n",
    "    - \"3.1415\" (neste caso, é uma string que representa um numero float)\n",
    "\n",
    "No Jupyter, strings são destacadas em cor vermelha"
   ]
  },
  {
   "cell_type": "markdown",
   "metadata": {
    "hidden": true
   },
   "source": [
    "Exemplo: uma frase de despedida e um encontro marcado"
   ]
  },
  {
   "cell_type": "code",
   "execution_count": 4,
   "metadata": {
    "hidden": true
   },
   "outputs": [
    {
     "data": {
      "text/plain": [
       "'André'"
      ]
     },
     "execution_count": 4,
     "metadata": {},
     "output_type": "execute_result"
    }
   ],
   "source": [
    "nome = \"André\"\n",
    "\n",
    "nome"
   ]
  },
  {
   "cell_type": "markdown",
   "metadata": {
    "hidden": true
   },
   "source": [
    "### Tipo **booleanos** (bool): Verdadeiro (True) ou Falso (False)\n",
    "\n",
    "- Únicos dois valores possíveis: **True** ou **False**\n",
    "\n",
    "Vamos entender a enorme importância deste tipo de dado mais a frente no curso (operações lógicas, estruturas condicionais, etc.)\n",
    "\n",
    "No Jupyter, bools são destacados em cor verde escuro"
   ]
  },
  {
   "cell_type": "code",
   "execution_count": 5,
   "metadata": {
    "hidden": true
   },
   "outputs": [
    {
     "data": {
      "text/plain": [
       "False"
      ]
     },
     "execution_count": 5,
     "metadata": {},
     "output_type": "execute_result"
    }
   ],
   "source": [
    "True\n",
    "\n",
    "False"
   ]
  },
  {
   "cell_type": "markdown",
   "metadata": {
    "heading_collapsed": true
   },
   "source": [
    "# Comentários"
   ]
  },
  {
   "cell_type": "markdown",
   "metadata": {
    "hidden": true
   },
   "source": [
    "\n",
    "São utilizados para melhor explicar um trecho de código.\n",
    "\n",
    "Os comentários não são executados pelo Python. \n",
    "\n",
    "Tudo o que está comentado é ignorado, serve apenas para guiar o usuário.\n",
    "\n",
    "É indicado com o uso da #, e em cor azul marinho no Jupyter\n",
    "\n",
    "- Atalho: CTRL + / : A LINHA VIRA UM COMENTÁRIO"
   ]
  },
  {
   "cell_type": "code",
   "execution_count": 6,
   "metadata": {
    "hidden": true
   },
   "outputs": [],
   "source": [
    "# definindo uma variavel que aramzena altura\n",
    "\n",
    "altura = 1.80  \n",
    "\n",
    "# print(altura)"
   ]
  },
  {
   "cell_type": "markdown",
   "metadata": {
    "hidden": true
   },
   "source": [
    "Embora você possa fazer comentários de várias linhas apenas colocando o # na frente de cada linha:"
   ]
  },
  {
   "cell_type": "code",
   "execution_count": 7,
   "metadata": {
    "hidden": true
   },
   "outputs": [],
   "source": [
    "# esse é um comentário muito grande, e por isso pode ser interessante\n",
    "# quebrar ele em várias linhas, para ficar mais fácil de ler\n",
    "# um comentário grande e complexo como esse no meio do código"
   ]
  },
  {
   "cell_type": "markdown",
   "metadata": {
    "hidden": true
   },
   "source": [
    "Também é possível fazer comentários de várias linhas utilizando três aspas:"
   ]
  },
  {
   "cell_type": "code",
   "execution_count": 8,
   "metadata": {
    "hidden": true
   },
   "outputs": [
    {
     "data": {
      "text/plain": [
       "'\\nesse é um comentário muito grande, e por isso pode ser interessante\\nquebrar ele em várias linhas, para ficar mais fácil de ler\\num comentário grande e complexo como esse no meio do código\\n\\n'"
      ]
     },
     "execution_count": 8,
     "metadata": {},
     "output_type": "execute_result"
    }
   ],
   "source": [
    "\"\"\"\n",
    "esse é um comentário muito grande, e por isso pode ser interessante\n",
    "quebrar ele em várias linhas, para ficar mais fácil de ler\n",
    "um comentário grande e complexo como esse no meio do código\n",
    "\n",
    "\"\"\""
   ]
  },
  {
   "cell_type": "markdown",
   "metadata": {
    "hidden": true
   },
   "source": [
    "Note que estes \"comentários\" feitos com 3 aspas na verdade são strings de muitas linhas: mas o Python irá ignorá-las caso elas não sejá atribuídas a uma variável, funcionando, assim, como comentário.\n",
    "\n",
    "De qualquer forma, o modo acima, com um # em casa linha é preferível!"
   ]
  },
  {
   "cell_type": "markdown",
   "metadata": {
    "heading_collapsed": true
   },
   "source": [
    "# Saída (output)"
   ]
  },
  {
   "cell_type": "markdown",
   "metadata": {
    "hidden": true
   },
   "source": [
    "É como o computador **apresenta dados de saída** para um usuário.\n",
    "\n",
    "Utilizamos a função print() para exibir o conteúdo na tela"
   ]
  },
  {
   "cell_type": "code",
   "execution_count": 9,
   "metadata": {
    "hidden": true
   },
   "outputs": [
    {
     "name": "stdout",
     "output_type": "stream",
     "text": [
      "André, tudo bem?\n"
     ]
    }
   ],
   "source": [
    "# definição de uma string\n",
    "nome = \"André, tudo bem?\"\n",
    "\n",
    "# função que exibe para o usuário o que foi pedido\n",
    "print(nome)"
   ]
  },
  {
   "cell_type": "markdown",
   "metadata": {
    "hidden": true
   },
   "source": [
    "Podemos imprimir diversas strings ou diversas variáveis em sequência, utilizando vírgula para separá-las dentro do print:"
   ]
  },
  {
   "cell_type": "code",
   "execution_count": 10,
   "metadata": {
    "hidden": true
   },
   "outputs": [
    {
     "name": "stdout",
     "output_type": "stream",
     "text": [
      "50 cinquenta\n"
     ]
    }
   ],
   "source": [
    "# definindo uma variavel do tipo inteiro\n",
    "numero = 50\n",
    "\n",
    "# definindo uma string\n",
    "nome_do_numero = \"cinquenta\"\n",
    "\n",
    "# exibindo as duas variáveis acima após uma outra string\n",
    "print(numero, nome_do_numero)"
   ]
  },
  {
   "cell_type": "code",
   "execution_count": 11,
   "metadata": {
    "hidden": true
   },
   "outputs": [
    {
     "name": "stdout",
     "output_type": "stream",
     "text": [
      "50 cinquenta lablabala\n"
     ]
    }
   ],
   "source": [
    "print(50, \"cinquenta\", \"lablabala\")"
   ]
  },
  {
   "cell_type": "markdown",
   "metadata": {
    "hidden": true
   },
   "source": [
    "Um caractere especial do print é o \"\\n\", que serve para fazer a quebra de linha:"
   ]
  },
  {
   "cell_type": "code",
   "execution_count": 12,
   "metadata": {
    "hidden": true
   },
   "outputs": [
    {
     "name": "stdout",
     "output_type": "stream",
     "text": [
      "ola\n",
      "mundo\n"
     ]
    }
   ],
   "source": [
    "print(\"ola\\nmundo\")"
   ]
  },
  {
   "cell_type": "markdown",
   "metadata": {
    "hidden": true
   },
   "source": [
    "Depois vamos falar melhor sobre operações matemáticas em Python, mas podemos exibir o resultado de algumas operações simples usando a funçao print()\n",
    "\n",
    "Note que as instruções são executadas __na ordem em que aparecem!__"
   ]
  },
  {
   "cell_type": "code",
   "execution_count": 2,
   "metadata": {
    "hidden": true
   },
   "outputs": [
    {
     "name": "stdout",
     "output_type": "stream",
     "text": [
      "1\n",
      "350\n",
      "4\n"
     ]
    }
   ],
   "source": [
    "print(2-1)\n",
    "print(35*10)\n",
    "print(2+2)"
   ]
  },
  {
   "cell_type": "markdown",
   "metadata": {
    "hidden": true
   },
   "source": [
    "O jupyter nos permite também examinar o valor de uma expressão sem a necessidade de usar o print()\n",
    "\n",
    "Mas note que logo abaixo do código, aparece um \"Out[]\", o que não acontece quando usamos a função print()\n",
    "\n",
    "Esse é um jeito de \"espiar\" o output das operações do Python de forma direta!"
   ]
  },
  {
   "cell_type": "code",
   "execution_count": 3,
   "metadata": {
    "hidden": true
   },
   "outputs": [
    {
     "data": {
      "text/plain": [
       "4"
      ]
     },
     "execution_count": 3,
     "metadata": {},
     "output_type": "execute_result"
    }
   ],
   "source": [
    "2 + 2"
   ]
  },
  {
   "cell_type": "markdown",
   "metadata": {
    "hidden": true
   },
   "source": [
    "Outra coisa importante é que o Jupyter só permite examinar o valor da **última** expressão no código:"
   ]
  },
  {
   "cell_type": "code",
   "execution_count": 4,
   "metadata": {
    "hidden": true
   },
   "outputs": [
    {
     "data": {
      "text/plain": [
       "4"
      ]
     },
     "execution_count": 4,
     "metadata": {},
     "output_type": "execute_result"
    }
   ],
   "source": [
    "2 - 1\n",
    "35 * 10\n",
    "2 + 2"
   ]
  },
  {
   "cell_type": "markdown",
   "metadata": {
    "heading_collapsed": true
   },
   "source": [
    "# Entrada (input)"
   ]
  },
  {
   "cell_type": "markdown",
   "metadata": {
    "hidden": true
   },
   "source": [
    "É como o computador **coleta dados de entrada** de um usuário através do teclado.\n",
    "\n",
    "Utilizamos a função input() para receber os dados do usuário, que deve digitá-los\n",
    "\n",
    "Opcionalmente, podemos colocar uma frase de instrução ao usuário na função input, dentro dos parênteses"
   ]
  },
  {
   "cell_type": "code",
   "execution_count": 13,
   "metadata": {
    "hidden": true
   },
   "outputs": [
    {
     "name": "stdout",
     "output_type": "stream",
     "text": [
      "Qual é o seu nome? João\n",
      "\n",
      "Olá, João\n"
     ]
    }
   ],
   "source": [
    "# recebo os dados do usuário através da função input,\n",
    "# e armazeno o resultado na variável \"meu_nome\"\n",
    "\n",
    "nome = input(\"Qual é o seu nome? \")\n",
    "\n",
    "print(\"\\nOlá,\", nome)"
   ]
  },
  {
   "cell_type": "markdown",
   "metadata": {
    "hidden": true
   },
   "source": [
    "__IMPORTANTE: a função input() toma o que o usuário digitou como uma string! Se o usuário digitar algum número, e algum cálculo for feito com esse número, o número deve ser transformado em int ou float!__\n",
    "\n",
    "A melhor forma de fazer isso, é já transformar o resultado da função input em float.\n",
    "\n",
    "Fazemos isso com uma espécie de sanduíche, colocando a função input() dentro da função float(), que transforma uma string em um float!\n",
    "\n",
    "OBS: é melhor transformar o input em float ao invés de int, pois o float é um tipo numérico mais genérico, apesar de ocupar (um pouco) mais memória"
   ]
  },
  {
   "cell_type": "code",
   "execution_count": 14,
   "metadata": {
    "hidden": true
   },
   "outputs": [
    {
     "name": "stdout",
     "output_type": "stream",
     "text": [
      "Qual é sua altura? 1.85\n"
     ]
    },
    {
     "data": {
      "text/plain": [
       "1.85"
      ]
     },
     "execution_count": 14,
     "metadata": {},
     "output_type": "execute_result"
    }
   ],
   "source": [
    "altura = float(input(\"Qual é sua altura? \"))\n",
    "\n",
    "altura"
   ]
  },
  {
   "cell_type": "code",
   "execution_count": 15,
   "metadata": {
    "hidden": true
   },
   "outputs": [
    {
     "name": "stdout",
     "output_type": "stream",
     "text": [
      "Me fala o primeiro numero 4\n",
      "Me fala o segundo numero 2.75\n",
      "\n",
      "A soma dos números 4.0 + 2.75 é: 6.8\n"
     ]
    }
   ],
   "source": [
    "# pede dois números ao usuário, e já os transforma em float\n",
    "num1 = float(input(\"Me fala o primeiro numero \"))\n",
    "\n",
    "num2 = float(input(\"Me fala o segundo numero \"))\n",
    "\n",
    "# calcula a soma dos dois números\n",
    "soma = num1 + num2\n",
    "\n",
    "print(\"\\nA soma dos números\", num1, \"+\" , num2, \"é:\", round(soma, 1))"
   ]
  },
  {
   "cell_type": "code",
   "execution_count": 16,
   "metadata": {
    "hidden": true
   },
   "outputs": [
    {
     "data": {
      "text/plain": [
       "6.75"
      ]
     },
     "execution_count": 16,
     "metadata": {},
     "output_type": "execute_result"
    }
   ],
   "source": [
    "num1 + num2"
   ]
  },
  {
   "cell_type": "markdown",
   "metadata": {
    "heading_collapsed": true
   },
   "source": [
    "# Operadores Matemáticos"
   ]
  },
  {
   "cell_type": "markdown",
   "metadata": {
    "hidden": true
   },
   "source": [
    "Em Python, temos as principais operações matemáticas, com os respectivos símbolos:\n",
    "\n",
    "- soma: (+)\n",
    "\n",
    "- subtração: (-)\n",
    "\n",
    "- multiplicação: (*)\n",
    "\n",
    "- divisão: (/)\n",
    "\n",
    "- potência: (**)\n",
    "\n",
    "Além disso, temos duas operações especiais:\n",
    "\n",
    "- divisão inteira: (//) retorna a parte inteira da divisão entre dois números\n",
    "\n",
    "- resto da divisão: (%) se lê \"mod\", e retorna o resto da divisão entre dois números"
   ]
  },
  {
   "cell_type": "code",
   "execution_count": 17,
   "metadata": {
    "code_folding": [],
    "hidden": true
   },
   "outputs": [],
   "source": [
    "# faça alguns exemplos simples com os alunos sobre cada uma das operações acima\n"
   ]
  },
  {
   "cell_type": "code",
   "execution_count": 18,
   "metadata": {
    "hidden": true
   },
   "outputs": [
    {
     "name": "stdout",
     "output_type": "stream",
     "text": [
      "raio: 2\n",
      "12.56\n"
     ]
    }
   ],
   "source": [
    "raio = float(input(\"raio: \"))\n",
    "\n",
    "area = 3.14 * (raio ** 2)\n",
    "\n",
    "print(area)"
   ]
  },
  {
   "cell_type": "markdown",
   "metadata": {
    "hidden": true
   },
   "source": [
    "OBS: o principal uso do operador resto da divisão (%) é para avaliar se um número é par ou impar:\n",
    "\n",
    "- se o resto da divisão de um número por 2 **É ZERO**, ele é par;\n",
    "- se o resto da divisão de um número por 2 **É UM**, ele é ímpar;\n"
   ]
  },
  {
   "cell_type": "markdown",
   "metadata": {
    "heading_collapsed": true
   },
   "source": [
    "# Exercícios"
   ]
  },
  {
   "cell_type": "markdown",
   "metadata": {
    "hidden": true
   },
   "source": [
    "## Faça um programa que receba um valor monetário e eleve esse valor em 15%. "
   ]
  },
  {
   "cell_type": "code",
   "execution_count": 9,
   "metadata": {
    "code_folding": [],
    "hidden": true
   },
   "outputs": [
    {
     "data": {
      "text/plain": [
       "114.99999999999999"
      ]
     },
     "execution_count": 9,
     "metadata": {},
     "output_type": "execute_result"
    }
   ],
   "source": [
    "def quinze_porcento(numero):\n",
    "    numero *= 1.15\n",
    "    return numero\n",
    "quinze_porcento(100)"
   ]
  },
  {
   "cell_type": "markdown",
   "metadata": {
    "hidden": true
   },
   "source": [
    "## Faça um programa que receba um valor monetário e diminua esse valor em 15%. "
   ]
  },
  {
   "cell_type": "code",
   "execution_count": 15,
   "metadata": {
    "hidden": true
   },
   "outputs": [
    {
     "data": {
      "text/plain": [
       "85.0"
      ]
     },
     "execution_count": 15,
     "metadata": {},
     "output_type": "execute_result"
    }
   ],
   "source": [
    "def quinze_porcento(numero):\n",
    "    numero *= 0.85\n",
    "    return numero\n",
    "quinze_porcento(100)"
   ]
  },
  {
   "cell_type": "markdown",
   "metadata": {},
   "source": [
    "**Faça um programa que peça um número e mostre a mensagem \"O número informado foi [número]\".**"
   ]
  },
  {
   "cell_type": "code",
   "execution_count": 4,
   "metadata": {},
   "outputs": [
    {
     "name": "stdout",
     "output_type": "stream",
     "text": [
      "Escreva um numero: 11\n",
      "O numero informado foi  11\n"
     ]
    }
   ],
   "source": [
    "def mostra_mensagem():\n",
    "    numero = int(input('Escreva um numero: '))\n",
    "    print('O numero informado foi ', numero)\n",
    "\n",
    "mostra_mensagem()"
   ]
  },
  {
   "cell_type": "markdown",
   "metadata": {},
   "source": [
    "**Faça um programa que peça um número para o usuário (string), converta-o para float e depois imprima-o na tela. Você consegue fazer a mesma coisa, porém convertendo para int?**"
   ]
  },
  {
   "cell_type": "code",
   "execution_count": 9,
   "metadata": {},
   "outputs": [
    {
     "name": "stdout",
     "output_type": "stream",
     "text": [
      "Escreva um numero: 11\n",
      "O numero informado foi  11.0\n",
      "<class 'float'>\n"
     ]
    }
   ],
   "source": [
    "def mostra_mensagem_float():\n",
    "    numero = input('Escreva um numero: ')\n",
    "    numero = float(numero)\n",
    "    print('O numero informado foi ', numero)\n",
    "    print(type(numero))\n",
    "\n",
    "mostra_mensagem_float()"
   ]
  },
  {
   "cell_type": "code",
   "execution_count": 10,
   "metadata": {},
   "outputs": [
    {
     "name": "stdout",
     "output_type": "stream",
     "text": [
      "Escreva um numero: 11\n",
      "O numero informado foi  11\n",
      "<class 'int'>\n"
     ]
    }
   ],
   "source": [
    "def mostra_mensagem_int():\n",
    "    numero = input('Escreva um numero: ')\n",
    "    numero = int(numero)\n",
    "    print('O numero informado foi ', numero)\n",
    "    print(type(numero))\n",
    "\n",
    "mostra_mensagem_int()"
   ]
  },
  {
   "cell_type": "markdown",
   "metadata": {},
   "source": [
    "**Faça um programa que peça dois números inteiros e imprima a soma deles.**"
   ]
  },
  {
   "cell_type": "code",
   "execution_count": 14,
   "metadata": {},
   "outputs": [
    {
     "name": "stdout",
     "output_type": "stream",
     "text": [
      "Escreva um numero: 11\n",
      "Escreva outro numero: 2\n",
      "O numeros informados foram 11 e 2\n"
     ]
    }
   ],
   "source": [
    "def mostra_mensagem_2():\n",
    "    numero_um = input('Escreva um numero: ')\n",
    "    numero_dois = input('Escreva outro numero: ')\n",
    "    print('O numeros informados foram {} e {}' .format(numero_um, numero_dois))\n",
    "\n",
    "mostra_mensagem_2()"
   ]
  },
  {
   "cell_type": "markdown",
   "metadata": {},
   "source": [
    "**Faça um programa que peça as 4 notas bimestrais de um aluno e mostre a média aritmética delas.**"
   ]
  },
  {
   "cell_type": "code",
   "execution_count": 16,
   "metadata": {},
   "outputs": [
    {
     "name": "stdout",
     "output_type": "stream",
     "text": [
      "Primeira nota 10\n",
      "Segunda nota 8\n",
      "Terceira nota 9\n",
      "Quarta nota 7\n"
     ]
    },
    {
     "data": {
      "text/plain": [
       "8.5"
      ]
     },
     "execution_count": 16,
     "metadata": {},
     "output_type": "execute_result"
    }
   ],
   "source": [
    "def calcula_media():\n",
    "    nota_1 = float(input('Primeira nota '))\n",
    "    nota_2 = float(input('Segunda nota '))\n",
    "    nota_3 = float(input('Terceira nota '))\n",
    "    nota_4 = float(input('Quarta nota '))\n",
    "    media = (nota_1 + nota_2 + nota_3 + nota_4) / 4\n",
    "    return media\n",
    "\n",
    "calcula_media()"
   ]
  },
  {
   "cell_type": "markdown",
   "metadata": {},
   "source": [
    "**Faça um programa que peça o raio de um círculo, calcule e mostre sua área.**\n",
    "\n",
    "**Obs: Fórmula da área de um círculo: A = 3,14*(r^2), onde r é o raio**"
   ]
  },
  {
   "cell_type": "code",
   "execution_count": 20,
   "metadata": {},
   "outputs": [
    {
     "name": "stdout",
     "output_type": "stream",
     "text": [
      "Informe o raio 11\n"
     ]
    },
    {
     "data": {
      "text/plain": [
       "379.94"
      ]
     },
     "execution_count": 20,
     "metadata": {},
     "output_type": "execute_result"
    }
   ],
   "source": [
    "def calcula_area_circulo():\n",
    "    raio = float(input('Informe o raio '))\n",
    "    area = 3.14 * raio ** 2\n",
    "    return(area)\n",
    "\n",
    "calcula_area_circulo()"
   ]
  },
  {
   "cell_type": "markdown",
   "metadata": {},
   "source": [
    "**Faça um programa que pergunte quanto você ganha por hora e o número de horas trabalhadas no mês e depois, calcule e mostre o total do seu salário no referido mês.**"
   ]
  },
  {
   "cell_type": "code",
   "execution_count": 22,
   "metadata": {},
   "outputs": [
    {
     "name": "stdout",
     "output_type": "stream",
     "text": [
      "Quanto voce ganha por hora? 37\n",
      "Quantas horas vc trabalha por mes? 157\n"
     ]
    },
    {
     "data": {
      "text/plain": [
       "5809.0"
      ]
     },
     "execution_count": 22,
     "metadata": {},
     "output_type": "execute_result"
    }
   ],
   "source": [
    "def calcula_salario():\n",
    "    hora_valor = float(input('Quanto voce ganha por hora? '))\n",
    "    hora_trabalhada = float(input('Quantas horas vc trabalha por mes? '))\n",
    "    salario = hora_valor * hora_trabalhada\n",
    "    return salario\n",
    "\n",
    "calcula_salario()   "
   ]
  },
  {
   "cell_type": "markdown",
   "metadata": {},
   "source": [
    "**Faça um programa que peça a temperatura em graus Fahrenheit (F), transforme e mostre a temperatura em graus Celsius (°C).**\n",
    "\n",
    "**°C = (5 * (F-32) / 9)**\n",
    "\n",
    "**Obs: Tente também fazer um programa que faça o inverso: peça a temperatura em graus Celsius e a transforme em graus Fahrenheit.**"
   ]
  },
  {
   "cell_type": "code",
   "execution_count": 25,
   "metadata": {},
   "outputs": [
    {
     "name": "stdout",
     "output_type": "stream",
     "text": [
      "Informe a temperatura em Fahrenheit: 89\n"
     ]
    },
    {
     "data": {
      "text/plain": [
       "31.666666666666668"
      ]
     },
     "execution_count": 25,
     "metadata": {},
     "output_type": "execute_result"
    }
   ],
   "source": [
    "def calcula_temperatura():\n",
    "    fahrenheit = float(input('Informe a temperatura em Fahrenheit: '))\n",
    "    celsius = (5 * (fahrenheit - 32) / 9)\n",
    "    return celsius\n",
    "\n",
    "calcula_temperatura()"
   ]
  },
  {
   "cell_type": "markdown",
   "metadata": {},
   "source": [
    "**Faça um programa que peça o dia, o mês e o ano para o usuário e imprima a data completa no formato dd/mm/aaaa.**"
   ]
  },
  {
   "cell_type": "code",
   "execution_count": 29,
   "metadata": {},
   "outputs": [
    {
     "name": "stdout",
     "output_type": "stream",
     "text": [
      "Informe o dia: 12\n",
      "Informe o mes: 12\n",
      "Informe o ano: 1912\n",
      "A data informada foi 12 / 12 / 1912\n"
     ]
    }
   ],
   "source": [
    "def imprime_data():\n",
    "    dia = int(input('Informe o dia: '))\n",
    "    mes = int(input('Informe o mes: '))\n",
    "    ano = int(input('Informe o ano: '))\n",
    "    print('A data informada foi {} / {} / {}'.format(dia, mes, ano))\n",
    "\n",
    "imprime_data()"
   ]
  },
  {
   "cell_type": "markdown",
   "metadata": {},
   "source": [
    "#### Faça um programa que peça 2 números inteiros e um número real, calcule e mostre:\n",
    "\n",
    "a) o produto do dobro do primeiro com metade do segundo.\n",
    "\n",
    "b) a soma do triplo do primeiro com o terceiro.\n",
    "\n",
    "c) o terceiro elevado ao cubo."
   ]
  },
  {
   "cell_type": "code",
   "execution_count": 31,
   "metadata": {},
   "outputs": [
    {
     "name": "stdout",
     "output_type": "stream",
     "text": [
      "Informe um numero inteiro: 1\n",
      "Informe outro numero inteiro: 1\n",
      "Informe um numero real: 3.5\n",
      "o produto do dobro do primeiro com metade do segundo 4.0\n",
      "a soma do triplo do primeiro com o terceiro 6.5\n",
      "o terceiro elevado ao cubo 42.875\n"
     ]
    }
   ],
   "source": [
    "def calc():\n",
    "    primeiro_inteiro = int(input('Informe um numero inteiro: '))\n",
    "    segundo_inteiro = int(input('Informe outro numero inteiro: '))\n",
    "    numero_real = float(input('Informe um numero real: '))\n",
    "    produto = (primeiro_inteiro * 2) / (segundo_inteiro / 2)\n",
    "    soma = (primeiro_inteiro * 3) + numero_real\n",
    "    cubo = numero_real ** 3\n",
    "    print('o produto do dobro do primeiro com metade do segundo', produto)\n",
    "    print('a soma do triplo do primeiro com o terceiro',soma)\n",
    "    print('o terceiro elevado ao cubo', cubo)\n",
    "    \n",
    "calc()"
   ]
  },
  {
   "cell_type": "markdown",
   "metadata": {},
   "source": [
    "#### Faça um programa que peça o peso e altura de uma pessoa e calcule seu IMC (Índice de Massa Corporal).\n",
    "\n",
    "Obs: IMC = Peso/Altura^2"
   ]
  },
  {
   "cell_type": "code",
   "execution_count": 33,
   "metadata": {},
   "outputs": [
    {
     "name": "stdout",
     "output_type": "stream",
     "text": [
      "Insira seu peso: 58\n",
      "Insira sua altura: 1.58\n"
     ]
    },
    {
     "data": {
      "text/plain": [
       "23.233456176894723"
      ]
     },
     "execution_count": 33,
     "metadata": {},
     "output_type": "execute_result"
    }
   ],
   "source": [
    "def imc():\n",
    "    peso = float(input('Insira seu peso: '))\n",
    "    altura = float(input('Insira sua altura: '))\n",
    "    imc = peso / (altura ** 2)\n",
    "    return imc\n",
    "\n",
    "imc()"
   ]
  },
  {
   "cell_type": "markdown",
   "metadata": {},
   "source": [
    "#### Faça um programa que peça um valor monetário e aumente-o em 15%. Seu programa deve imprimir a mensagem “O novo valor é [valor]”."
   ]
  },
  {
   "cell_type": "code",
   "execution_count": 35,
   "metadata": {},
   "outputs": [
    {
     "name": "stdout",
     "output_type": "stream",
     "text": [
      "Informe um valor monetario100\n",
      "O novo valor e 114.99999999999999\n"
     ]
    }
   ],
   "source": [
    "def quinze_porcento_13():\n",
    "    numero = float(input('Informe um valor monetario'))\n",
    "    numero *= 1.15\n",
    "    print('O novo valor e', numero)\n",
    "\n",
    "quinze_porcento_13()"
   ]
  },
  {
   "cell_type": "markdown",
   "metadata": {},
   "source": [
    "#### Faça um programa que peça um valor monetário e diminua-o em 15%. Seu programa deve imprimir a mensagem “O novo valor é [valor]”."
   ]
  },
  {
   "cell_type": "code",
   "execution_count": 36,
   "metadata": {},
   "outputs": [
    {
     "name": "stdout",
     "output_type": "stream",
     "text": [
      "Informe um valor monetario100\n",
      "O novo valor e 99.15\n"
     ]
    }
   ],
   "source": [
    "def quinze_porcento_13():\n",
    "    numero = float(input('Informe um valor monetario'))\n",
    "    numero -= 0.85\n",
    "    print('O novo valor e', numero)\n",
    "\n",
    "quinze_porcento_13()"
   ]
  },
  {
   "cell_type": "markdown",
   "metadata": {},
   "source": [
    "#### Desafio 1 - Peça para o usuário digitar uma velocidade inicial (em m/s), uma posição inicial (em m) e um instante de tempo (em s) e imprima a posição de um projétil nesse instante de tempo.\n",
    "\n",
    "Use a fórmula matemática:\n",
    "\n",
    "y(t) = y(0) + v(0)*t + (g*(t**2)/2)\n",
    "\n",
    "Onde, g é a aceleração da gravidade (-10m/s²), y(t) é a posição final, y(0) é a posição inicial, v(0) é a velocidade inicial e t é o instante de tempo."
   ]
  },
  {
   "cell_type": "code",
   "execution_count": 1,
   "metadata": {},
   "outputs": [
    {
     "name": "stdout",
     "output_type": "stream",
     "text": [
      "Informe a velocidade inicial em m/s: 20\n",
      "Informe a posiçao inicial em m: 2\n",
      "Informe a velocidade inicial m/s: 12\n"
     ]
    },
    {
     "data": {
      "text/plain": [
       "-478.0"
      ]
     },
     "execution_count": 1,
     "metadata": {},
     "output_type": "execute_result"
    }
   ],
   "source": [
    "def calcula_lancamento():\n",
    "    v0 = float(input('Informe a velocidade inicial em m/s: '))\n",
    "    y0 = float(input('Informe a posiçao inicial em m: '))\n",
    "    t = int(input('Informe a velocidade inicial m/s: '))\n",
    "    g = -10\n",
    "    \n",
    "    muv = y0 + v0 * t + (g * (t ** 2) / 2)\n",
    "    \n",
    "    return muv\n",
    "\n",
    "calcula_lancamento()    "
   ]
  },
  {
   "cell_type": "markdown",
   "metadata": {},
   "source": [
    "#### Desafio 2 - Faça um programa que informe a data e a hora para o usuário. Para isso use a função datetime.now() do módulo datetime."
   ]
  },
  {
   "cell_type": "code",
   "execution_count": 6,
   "metadata": {
    "code_folding": []
   },
   "outputs": [
    {
     "data": {
      "text/plain": [
       "'07/07/2021  20:42'"
      ]
     },
     "execution_count": 6,
     "metadata": {},
     "output_type": "execute_result"
    }
   ],
   "source": [
    "import datetime\n",
    "\n",
    "def informa_data():\n",
    "    data = datetime.datetime.now()\n",
    "    data_formatada = data.strftime('%d/%m/%Y  %H:%M')\n",
    "    return data_formatada\n",
    "\n",
    "informa_data()"
   ]
  },
  {
   "cell_type": "code",
   "execution_count": null,
   "metadata": {},
   "outputs": [],
   "source": []
  }
 ],
 "metadata": {
  "kernelspec": {
   "display_name": "Python 3",
   "language": "python",
   "name": "python3"
  },
  "language_info": {
   "codemirror_mode": {
    "name": "ipython",
    "version": 3
   },
   "file_extension": ".py",
   "mimetype": "text/x-python",
   "name": "python",
   "nbconvert_exporter": "python",
   "pygments_lexer": "ipython3",
   "version": "3.9.5"
  },
  "toc": {
   "base_numbering": 1,
   "nav_menu": {},
   "number_sections": true,
   "sideBar": true,
   "skip_h1_title": false,
   "title_cell": "Table of Contents",
   "title_sidebar": "Contents",
   "toc_cell": false,
   "toc_position": {},
   "toc_section_display": true,
   "toc_window_display": true
  },
  "varInspector": {
   "cols": {
    "lenName": 16,
    "lenType": 16,
    "lenVar": 40
   },
   "kernels_config": {
    "python": {
     "delete_cmd_postfix": "",
     "delete_cmd_prefix": "del ",
     "library": "var_list.py",
     "varRefreshCmd": "print(var_dic_list())"
    },
    "r": {
     "delete_cmd_postfix": ") ",
     "delete_cmd_prefix": "rm(",
     "library": "var_list.r",
     "varRefreshCmd": "cat(var_dic_list()) "
    }
   },
   "types_to_exclude": [
    "module",
    "function",
    "builtin_function_or_method",
    "instance",
    "_Feature"
   ],
   "window_display": false
  }
 },
 "nbformat": 4,
 "nbformat_minor": 5
}
