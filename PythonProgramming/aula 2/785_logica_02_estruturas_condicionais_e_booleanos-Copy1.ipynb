{
 "cells": [
  {
   "cell_type": "markdown",
   "metadata": {},
   "source": [
    "# Revisão"
   ]
  },
  {
   "cell_type": "markdown",
   "metadata": {
    "heading_collapsed": true
   },
   "source": [
    "# Aula 2 - operadores lógicos e estruturas condicionais"
   ]
  },
  {
   "cell_type": "markdown",
   "metadata": {
    "hidden": true
   },
   "source": [
    "Na aula de hoje, vamos explorar os seguintes tópicos em Python:\n",
    "\n",
    "- 1) Operadores lógicos;\n",
    "- 2) Estruturas condicionais."
   ]
  },
  {
   "cell_type": "markdown",
   "metadata": {
    "heading_collapsed": true
   },
   "source": [
    "# Habilidades a serem desenvolvidas"
   ]
  },
  {
   "cell_type": "markdown",
   "metadata": {
    "hidden": true
   },
   "source": [
    "Ao final da aula o aluno deve:\n",
    "\n",
    "- Saber o conceito de operações lógicas e o seu resultado (True/False);\n",
    "- Saber interpretar e utilizar os operadores de comparação;\n",
    "- Saber interpretar e uitlizar os operadores de conjunção;\n",
    "- Saber formular expressões lógicas;\n",
    "- Saber formular expressões condicionais, articulando corretamente as expressões lógicas."
   ]
  },
  {
   "cell_type": "markdown",
   "metadata": {
    "heading_collapsed": true
   },
   "source": [
    "# Operadores lógicos"
   ]
  },
  {
   "cell_type": "markdown",
   "metadata": {
    "hidden": true
   },
   "source": [
    "## Comparação\n",
    "\n",
    "Em muitos problemas de programação, há necessidade de se fazer **comparações** entre variáveis.\n",
    "\n",
    "Por exemplo:\n",
    "\n",
    "- checar se um número é maior que outro;\n",
    "- checar se uma variável é igual a outra;\n",
    "- checar se há números diferentes; etc.\n",
    "\n",
    "Para fazer essas comparações, utilizamos os **operadores lógicos de comparação**. Em Python, há 6 desses operadores:\n",
    "\n",
    "- Maior que: >\n",
    "- Maior ou igual: >=\n",
    "- Menor que: <\n",
    "- Menor ou igual: <=\n",
    "- Igual: ==\n",
    "- Diferente: !=\n",
    "\n",
    "O resultado de uma comparação sempre vai ser um booleano, isto é, **True** ou **False**!\n",
    "\n",
    "Dica: sempre leia as comparações como uma **pergunta**\n",
    "\n",
    "- Ex: \"numero < 100\", leia: \"o valor na variável numero é menor que 100?\"\n",
    "\n",
    "Os operadores de comparação são destacados em **roxo** no Jupyter"
   ]
  },
  {
   "cell_type": "code",
   "execution_count": 1,
   "metadata": {
    "hidden": true
   },
   "outputs": [],
   "source": [
    "# definindo a variável \"numero\" que recebe o inteiro \"10\"\n",
    "\n",
    "numero = 10"
   ]
  },
  {
   "cell_type": "code",
   "execution_count": 2,
   "metadata": {
    "hidden": true
   },
   "outputs": [
    {
     "data": {
      "text/plain": [
       "True"
      ]
     },
     "execution_count": 2,
     "metadata": {},
     "output_type": "execute_result"
    }
   ],
   "source": [
    "numero < 100"
   ]
  },
  {
   "cell_type": "code",
   "execution_count": 3,
   "metadata": {
    "hidden": true
   },
   "outputs": [
    {
     "data": {
      "text/plain": [
       "False"
      ]
     },
     "execution_count": 3,
     "metadata": {},
     "output_type": "execute_result"
    }
   ],
   "source": [
    "numero == 100"
   ]
  },
  {
   "cell_type": "code",
   "execution_count": 4,
   "metadata": {
    "hidden": true
   },
   "outputs": [
    {
     "data": {
      "text/plain": [
       "True"
      ]
     },
     "execution_count": 4,
     "metadata": {},
     "output_type": "execute_result"
    }
   ],
   "source": [
    "10 != 100"
   ]
  },
  {
   "cell_type": "code",
   "execution_count": 5,
   "metadata": {
    "hidden": true
   },
   "outputs": [
    {
     "data": {
      "text/plain": [
       "True"
      ]
     },
     "execution_count": 5,
     "metadata": {},
     "output_type": "execute_result"
    }
   ],
   "source": [
    "10.0 == 10"
   ]
  },
  {
   "cell_type": "markdown",
   "metadata": {
    "hidden": true
   },
   "source": [
    "A comparação pode ser feita entre duas variáveis, também:"
   ]
  },
  {
   "cell_type": "code",
   "execution_count": 6,
   "metadata": {
    "hidden": true
   },
   "outputs": [
    {
     "data": {
      "text/plain": [
       "True"
      ]
     },
     "execution_count": 6,
     "metadata": {},
     "output_type": "execute_result"
    }
   ],
   "source": [
    "# definindo uma nova variável\n",
    "\n",
    "numero2 = 100\n",
    "\n",
    "# o valor na variavel \"numero\" é menor que o valor na variavel \"numero2\"?\n",
    "# ou seja, 10 é menor que 100?\n",
    "\n",
    "numero < numero2"
   ]
  },
  {
   "cell_type": "code",
   "execution_count": 7,
   "metadata": {
    "hidden": true
   },
   "outputs": [
    {
     "data": {
      "text/plain": [
       "True"
      ]
     },
     "execution_count": 7,
     "metadata": {},
     "output_type": "execute_result"
    }
   ],
   "source": [
    "10 < 100"
   ]
  },
  {
   "cell_type": "markdown",
   "metadata": {
    "hidden": true
   },
   "source": [
    "Podemos também comparar strings!"
   ]
  },
  {
   "cell_type": "code",
   "execution_count": 8,
   "metadata": {
    "hidden": true
   },
   "outputs": [],
   "source": [
    "cumprimento = \"olá, mundo\""
   ]
  },
  {
   "cell_type": "code",
   "execution_count": 9,
   "metadata": {
    "hidden": true
   },
   "outputs": [
    {
     "data": {
      "text/plain": [
       "True"
      ]
     },
     "execution_count": 9,
     "metadata": {},
     "output_type": "execute_result"
    }
   ],
   "source": [
    "# pra igualdade existir, tem que haver uma correspondência EXATA entre as strings!\n",
    "\n",
    "cumprimento == \"olá, mundo\""
   ]
  },
  {
   "cell_type": "code",
   "execution_count": 10,
   "metadata": {
    "hidden": true
   },
   "outputs": [
    {
     "data": {
      "text/plain": [
       "True"
      ]
     },
     "execution_count": 10,
     "metadata": {},
     "output_type": "execute_result"
    }
   ],
   "source": [
    "# qualquer diferença, por mínima que seja, torna a igualdade falsa!\n",
    "\n",
    "cumprimento != \"olá,mundo \""
   ]
  },
  {
   "cell_type": "markdown",
   "metadata": {
    "hidden": true
   },
   "source": [
    "Os operadores >, >=, <, <= atuam comparando **ordem alfabética** quando aplicados a strings.\n",
    "\n",
    "(Obs.: se surgir interesse, mencionar aqui sobre a tabela ASCII e como de fato ocorre a comparação de ordem entre strings)"
   ]
  },
  {
   "cell_type": "code",
   "execution_count": 11,
   "metadata": {
    "hidden": true
   },
   "outputs": [
    {
     "data": {
      "text/plain": [
       "False"
      ]
     },
     "execution_count": 11,
     "metadata": {},
     "output_type": "execute_result"
    }
   ],
   "source": [
    "\"abacaxi\" > \"caju\""
   ]
  },
  {
   "cell_type": "code",
   "execution_count": 12,
   "metadata": {
    "hidden": true
   },
   "outputs": [
    {
     "data": {
      "text/plain": [
       "True"
      ]
     },
     "execution_count": 12,
     "metadata": {},
     "output_type": "execute_result"
    }
   ],
   "source": [
    "\"1abacaxi\" < \"abacaxi\""
   ]
  },
  {
   "cell_type": "code",
   "execution_count": 13,
   "metadata": {
    "hidden": true
   },
   "outputs": [
    {
     "data": {
      "text/plain": [
       "True"
      ]
     },
     "execution_count": 13,
     "metadata": {},
     "output_type": "execute_result"
    }
   ],
   "source": [
    "\"9\" < \"a\""
   ]
  },
  {
   "cell_type": "markdown",
   "metadata": {
    "hidden": true
   },
   "source": [
    "Podemos fazer comparação entre **tipos numéricos** diferentes (int e float):"
   ]
  },
  {
   "cell_type": "code",
   "execution_count": 14,
   "metadata": {
    "hidden": true
   },
   "outputs": [
    {
     "name": "stdout",
     "output_type": "stream",
     "text": [
      "True\n",
      "False\n",
      "True\n"
     ]
    }
   ],
   "source": [
    "# definindo dois numeros\n",
    "num1 = 3\n",
    "num2 = 3.14\n",
    "\n",
    "# o num1 é menor que num2?\n",
    "# ou seja, 3 é menor que 3.14?\n",
    "print(num1 < num2)\n",
    "\n",
    "# o num1 é maior que num2?\n",
    "# ou seja, 3 é maior que 3.14?\n",
    "print(num1 > num2)\n",
    "\n",
    "# as variáveis são diferentes?\n",
    "print(num1 != num2)"
   ]
  },
  {
   "cell_type": "markdown",
   "metadata": {
    "hidden": true
   },
   "source": [
    "Mas comparações entre string e tipos numéricos são possíveis **apenas para == e !=**:\n"
   ]
  },
  {
   "cell_type": "code",
   "execution_count": 15,
   "metadata": {
    "hidden": true
   },
   "outputs": [],
   "source": [
    "# definindo uma string e um int\n",
    "nome = \"andré\"\n",
    "altura = 1.80"
   ]
  },
  {
   "cell_type": "code",
   "execution_count": 16,
   "metadata": {
    "hidden": true
   },
   "outputs": [
    {
     "data": {
      "text/plain": [
       "True"
      ]
     },
     "execution_count": 16,
     "metadata": {},
     "output_type": "execute_result"
    }
   ],
   "source": [
    "nome != altura"
   ]
  },
  {
   "cell_type": "code",
   "execution_count": 17,
   "metadata": {
    "hidden": true
   },
   "outputs": [
    {
     "data": {
      "text/plain": [
       "True"
      ]
     },
     "execution_count": 17,
     "metadata": {},
     "output_type": "execute_result"
    }
   ],
   "source": [
    "int(\"1\") == 1"
   ]
  },
  {
   "cell_type": "code",
   "execution_count": 18,
   "metadata": {
    "hidden": true
   },
   "outputs": [
    {
     "data": {
      "text/plain": [
       "False"
      ]
     },
     "execution_count": 18,
     "metadata": {},
     "output_type": "execute_result"
    }
   ],
   "source": [
    "\"1\" == 49"
   ]
  },
  {
   "cell_type": "code",
   "execution_count": 19,
   "metadata": {
    "hidden": true
   },
   "outputs": [
    {
     "data": {
      "text/plain": [
       "49"
      ]
     },
     "execution_count": 19,
     "metadata": {},
     "output_type": "execute_result"
    }
   ],
   "source": [
    "ord(\"1\")"
   ]
  },
  {
   "cell_type": "code",
   "execution_count": 20,
   "metadata": {
    "hidden": true
   },
   "outputs": [
    {
     "ename": "TypeError",
     "evalue": "'>' not supported between instances of 'str' and 'int'",
     "output_type": "error",
     "traceback": [
      "\u001b[1;31m---------------------------------------------------------------------------\u001b[0m",
      "\u001b[1;31mTypeError\u001b[0m                                 Traceback (most recent call last)",
      "\u001b[1;32m<ipython-input-20-ea00c47041c3>\u001b[0m in \u001b[0;36m<module>\u001b[1;34m\u001b[0m\n\u001b[1;32m----> 1\u001b[1;33m \u001b[1;34m\"andre\"\u001b[0m \u001b[1;33m>\u001b[0m \u001b[1;36m5\u001b[0m\u001b[1;33m\u001b[0m\u001b[1;33m\u001b[0m\u001b[0m\n\u001b[0m",
      "\u001b[1;31mTypeError\u001b[0m: '>' not supported between instances of 'str' and 'int'"
     ]
    }
   ],
   "source": [
    "\"andre\" > 5"
   ]
  },
  {
   "cell_type": "markdown",
   "metadata": {
    "hidden": true
   },
   "source": [
    "O erro acima aconteceu porque **não é possível comparar a orderm (usando >, >=, <, <=)** de variáveis numéricas e strings!"
   ]
  },
  {
   "cell_type": "markdown",
   "metadata": {
    "hidden": true
   },
   "source": [
    "## Conjunção \n",
    "\n",
    "Além dos operadores lógicos de comparação, também temos os **operadores lógicos de conjunção**, que são utilizados pra fazer uma **combinação** entre comparações. \n",
    "\n",
    "Os operadores de conjunção são: **and** e **or**, e eles seguem a seguinte regra:\n",
    "\n",
    "- **and** só é True se **ambas** as comparações forem True:\n",
    "    - False and True resulta em \"False\"\n",
    "    - False and False resulta em \"False\"\n",
    "    - True and True resulta em \"True\"\n",
    "- **or** é True se **pelo menos uma** das comparações for True:\n",
    "    - False or True resulta em \"True\"\n",
    "    - True or True resulta em \"True\"\n",
    "    - False or False resulta em \"False\"\n",
    "\n",
    "Os operadores de conjunção são destacados em **verde escuro** no Jupyter"
   ]
  },
  {
   "cell_type": "code",
   "execution_count": 21,
   "metadata": {
    "hidden": true
   },
   "outputs": [
    {
     "name": "stdout",
     "output_type": "stream",
     "text": [
      "Operador and:\n",
      "False\n",
      "False\n",
      "True\n"
     ]
    }
   ],
   "source": [
    "print(\"Operador and:\")\n",
    "print(True and False)\n",
    "print(False and False)\n",
    "print(True and True)"
   ]
  },
  {
   "cell_type": "code",
   "execution_count": 22,
   "metadata": {
    "hidden": true
   },
   "outputs": [
    {
     "data": {
      "text/plain": [
       "False"
      ]
     },
     "execution_count": 22,
     "metadata": {},
     "output_type": "execute_result"
    }
   ],
   "source": [
    "# True and False, resulta em False\n",
    "\n",
    "(2 < 5) and (2 == 5)"
   ]
  },
  {
   "cell_type": "code",
   "execution_count": 23,
   "metadata": {
    "hidden": true
   },
   "outputs": [
    {
     "data": {
      "text/plain": [
       "True"
      ]
     },
     "execution_count": 23,
     "metadata": {},
     "output_type": "execute_result"
    }
   ],
   "source": [
    "# True and True, resulta em True\n",
    "\n",
    "(2 < 5) and (2 != 5)"
   ]
  },
  {
   "cell_type": "code",
   "execution_count": 24,
   "metadata": {
    "hidden": true
   },
   "outputs": [
    {
     "name": "stdout",
     "output_type": "stream",
     "text": [
      "Operador or:\n",
      "True\n",
      "True\n",
      "False\n"
     ]
    }
   ],
   "source": [
    "print(\"Operador or:\")\n",
    "print(False or True)\n",
    "print(True or True)\n",
    "print(False or False)"
   ]
  },
  {
   "cell_type": "code",
   "execution_count": 25,
   "metadata": {
    "hidden": true
   },
   "outputs": [
    {
     "data": {
      "text/plain": [
       "True"
      ]
     },
     "execution_count": 25,
     "metadata": {},
     "output_type": "execute_result"
    }
   ],
   "source": [
    "# True or False, resulta em True\n",
    "\n",
    "(2 < 5) or (2 == 5)"
   ]
  },
  {
   "cell_type": "code",
   "execution_count": 26,
   "metadata": {
    "hidden": true
   },
   "outputs": [
    {
     "data": {
      "text/plain": [
       "False"
      ]
     },
     "execution_count": 26,
     "metadata": {},
     "output_type": "execute_result"
    }
   ],
   "source": [
    "# False or False, resulta em False\n",
    "\n",
    "(2 > 5) or (2 == 5)"
   ]
  },
  {
   "cell_type": "markdown",
   "metadata": {
    "hidden": true
   },
   "source": [
    "Se tivermos mais de duas comparações pra fazer conjunção, é melhor usarmos parênteses.\n",
    "\n",
    "Primeiro a conjunção entre parênteses é feita, e depois o resultado é usado pra avaliar a conjunção total"
   ]
  },
  {
   "cell_type": "code",
   "execution_count": 27,
   "metadata": {
    "hidden": true
   },
   "outputs": [
    {
     "data": {
      "text/plain": [
       "False"
      ]
     },
     "execution_count": 27,
     "metadata": {},
     "output_type": "execute_result"
    }
   ],
   "source": [
    "# definindo uma variável numérica\n",
    "\n",
    "# (True or False) and False\n",
    "# (True) and False \n",
    "# False\n",
    "\n",
    "(2 == 2 or 10 == \"andre\") and 4.2 < -10"
   ]
  },
  {
   "cell_type": "markdown",
   "metadata": {
    "heading_collapsed": true
   },
   "source": [
    "# Estruturas condicionais\n"
   ]
  },
  {
   "cell_type": "markdown",
   "metadata": {
    "hidden": true
   },
   "source": [
    "\n",
    "O principal uso dos operadores lógicos é em **estruturas condicionais**\n",
    "\n",
    "Esse tipo de estrutura é utilizada para tratar casos diferentes dentro do código\n",
    "\n",
    "Os **operadores condicionais** são: **if**, **elif** e **else**\n",
    "\n",
    "- **if**: Se uma condição for verdadeira, faça determinada operação.\n",
    "- **elif**: Se a condição acima for falsa, avalie uma próxima condição, e se essa for verdadeira, faça outra operação\n",
    "- **else**: Se nenhuma das condições acima for verdadeira, faça outra coisa\n",
    "\n",
    "O uso de elif e else **não** é obrigatório! (Mas é muitas vezes conveniente!)\n",
    "\n",
    "As estruturas de repetição aparecem em **blocos identados (com \"tab\") após dois pontos**, na seguinte estrutura:\n",
    "\n",
    "```python\n",
    "if (condicao é True):\n",
    "    operacoes\n",
    "elif (condicao é True):\n",
    "    operacoes\n",
    "else:\n",
    "    operacoes\n",
    "```\n",
    "\n",
    "- Se alguma condição no if ou elif for verdadeira, todo o resto é ignorado!\n",
    "- Por isso, as condições no if e os diferentes elifs sempre são **excludentes**\n",
    "\n",
    "Os operadores condicionais são destacados em **verde escuro** no Jupyter\n"
   ]
  },
  {
   "cell_type": "markdown",
   "metadata": {
    "hidden": true
   },
   "source": [
    "**Exemplo**: imagine que uma escola tem o seguinte critério de avaliação baseado na média do aluno:\n",
    "\n",
    "- se a média for maior ou igual a 5, o aluno é aprovado;\n",
    "- caso contrário, o aluno é reptrovado\n"
   ]
  },
  {
   "cell_type": "code",
   "execution_count": 2,
   "metadata": {
    "hidden": true
   },
   "outputs": [
    {
     "name": "stdout",
     "output_type": "stream",
     "text": [
      "Reprovado!\n"
     ]
    }
   ],
   "source": [
    "# defina a media\n",
    "media = 4\n",
    "\n",
    "# determina a lógica para aprovação ou reprovação\n",
    "\n",
    "if (media >= 5):\n",
    "    \n",
    "    print(\"Aprovado!\")\n",
    "\n",
    "else:\n",
    "    \n",
    "    print(\"Reprovado!\")"
   ]
  },
  {
   "cell_type": "markdown",
   "metadata": {
    "hidden": true
   },
   "source": [
    "Também podemos usar o elif, embora não seja necessário, dado que a condição `media >= 5` é única"
   ]
  },
  {
   "cell_type": "code",
   "execution_count": 3,
   "metadata": {
    "hidden": true
   },
   "outputs": [
    {
     "name": "stdout",
     "output_type": "stream",
     "text": [
      "Reprovado\n"
     ]
    }
   ],
   "source": [
    "# mesmo código usando elif\n",
    "\n",
    "media = 4\n",
    "\n",
    "if media >= 5:\n",
    "    \n",
    "    print(\"Aprovado\")\n",
    "    \n",
    "elif media < 5:\n",
    "    \n",
    "    print(\"Reprovado\")"
   ]
  },
  {
   "cell_type": "markdown",
   "metadata": {
    "hidden": true
   },
   "source": [
    "**Exemplo**: imagine que uma escola tem o seguinte critério de avaliação baseado na **media** do aluno e em sua **frequência**\n",
    "\n",
    "- regra 1: se a média for maior ou igal a 9, o aluno é aprovado, independente da frequencia;\n",
    "- regra 2: se a média estiver entre 6 e 9, o aluno só é aprovado se a frequencia for maior ou igual a 75%\n",
    "- regra 3: se a média estiver entre 6 e 9, mas a frequencia for menor que 75%, ele vai pra recuperação\n",
    "- regra 4: se a média for menor que 6 e a frequencia do aluno for maior ou igual a 75%, ele pode fazer recuperação\n",
    "- regra 5: se a média for menor que 6 e a frequência do aluno for menor que a 75%, ele é automaticamente reprovado\n",
    "\n",
    "Como implementamos este algoritmo?"
   ]
  },
  {
   "cell_type": "code",
   "execution_count": 5,
   "metadata": {
    "hidden": true
   },
   "outputs": [
    {
     "name": "stdout",
     "output_type": "stream",
     "text": [
      "Qual é a média do aluno? 9\n",
      "Qual é a frequencia do aluno? (digite sem o %) 65\n",
      "Aluno aprovado!\n"
     ]
    }
   ],
   "source": [
    "# vamos perguntar a média pro professor\n",
    "media = float(input(\"Qual é a média do aluno? \"))\n",
    "\n",
    "# e também a frequência\n",
    "frequencia = float(input(\"Qual é a frequencia do aluno? (digite sem o %) \"))\n",
    "\n",
    "# regra 1\n",
    "if media >= 9:\n",
    "    \n",
    "    print(\"Aluno aprovado!\")\n",
    "\n",
    "# regra 2\n",
    "elif (media >= 6) and (frequencia >= 75):\n",
    "    \n",
    "    print(\"Aluno aprovado!\")\n",
    "\n",
    "    \n",
    "# regra 3\n",
    "elif (media >= 6) and (frequencia < 75):\n",
    "    \n",
    "    print(\"Aluno de recuperação\")\n",
    "\n",
    "    \n",
    "# regra 4\n",
    "elif (media < 6) and (frequencia >= 75):\n",
    "    \n",
    "    print(\"Aluno de recuperação\")\n",
    "    \n",
    "# regra 5\n",
    "else:\n",
    "    \n",
    "    print(\"Aluno reprovado\")\n"
   ]
  },
  {
   "cell_type": "markdown",
   "metadata": {
    "hidden": true
   },
   "source": [
    "# Exercícios"
   ]
  },
  {
   "cell_type": "markdown",
   "metadata": {},
   "source": [
    "#### Faça um programa que peça a idade da pessoa e imprima se ela é maior ou menor de 18 anos."
   ]
  },
  {
   "cell_type": "code",
   "execution_count": 4,
   "metadata": {},
   "outputs": [
    {
     "name": "stdout",
     "output_type": "stream",
     "text": [
      "Informe sua idade: 15\n",
      "Você ainda é menor de idade\n"
     ]
    }
   ],
   "source": [
    "def checa_maioridade():\n",
    "    idade = int(input('Informe sua idade: '))\n",
    "    if idade >= 18:\n",
    "        print('Você atingiu a maioridade')\n",
    "    else:\n",
    "        print('Você ainda é menor de idade')\n",
    "    \n",
    "checa_maioridade()"
   ]
  },
  {
   "cell_type": "markdown",
   "metadata": {},
   "source": [
    "#### Faça um programa que peça um número e mostre se ele é positivo ou negativo."
   ]
  },
  {
   "cell_type": "code",
   "execution_count": 7,
   "metadata": {},
   "outputs": [
    {
     "name": "stdout",
     "output_type": "stream",
     "text": [
      "Informe um número: 13\n",
      "O número digitado é negativo\n"
     ]
    }
   ],
   "source": [
    "def even_odd():\n",
    "    numero = int(input('Informe um número: '))\n",
    "    \n",
    "    if numero % 2 == 0:\n",
    "        print('O numero digitado é positivo')\n",
    "    else:\n",
    "        print('O número digitado é negativo')\n",
    "\n",
    "even_odd()"
   ]
  },
  {
   "cell_type": "markdown",
   "metadata": {},
   "source": [
    "#### Faça um programa que peça dois números e mostre o maior deles."
   ]
  },
  {
   "cell_type": "code",
   "execution_count": 12,
   "metadata": {},
   "outputs": [
    {
     "name": "stdout",
     "output_type": "stream",
     "text": [
      "Informe um número: 18\n",
      "Informe outro número: 12\n",
      "O número 1 18 é maior que o número 212\n"
     ]
    }
   ],
   "source": [
    "def maior():\n",
    "    num1 = int(input('Informe um número: '))\n",
    "    num2 = int(input('Informe outro número: '))\n",
    "    \n",
    "    if num1 > num2:\n",
    "        print('O número 1: {} é maior que o número 2: {}'.format(num1, num2))\n",
    "    elif num1 < num2:\n",
    "        print('O número 2: {} é maior que o número 1: {}'.format(num2,num1))\n",
    "    else:\n",
    "        print('Os números são iguais')\n",
    "\n",
    "maior()"
   ]
  },
  {
   "cell_type": "markdown",
   "metadata": {},
   "source": [
    "#### Escreva um programa que peça a nota de 3 provas de um aluno e mostre se ele passou ou não de ano.\n",
    "\n",
    "Obs.: O aluno irá passar de ano se a média das suas notas for maior ou igual a 6 (média é a soma das notas dividido pelo número de provas)."
   ]
  },
  {
   "cell_type": "code",
   "execution_count": 13,
   "metadata": {},
   "outputs": [
    {
     "name": "stdout",
     "output_type": "stream",
     "text": [
      "Informe a primeira nota10\n",
      "Informe a segunda nota8\n",
      "Informe a terceira nota9\n",
      "Aprovado, sua média foi 9.0\n"
     ]
    }
   ],
   "source": [
    "def checa_aprovacao():\n",
    "    nota1 = float(input('Informe a primeira nota: '))\n",
    "    nota2 = float(input('Informe a segunda nota: '))\n",
    "    nota3 = float(input('Informe a terceira nota: '))  \n",
    "    media = (nota1 + nota2 + nota3) / 3\n",
    "    \n",
    "    if media >= 6:\n",
    "        print('Aprovado, sua média foi {}'.format(media))\n",
    "    else:\n",
    "        print('Reprovado, sua média foi {}'.format(media))\n",
    "\n",
    "checa_aprovacao()"
   ]
  },
  {
   "cell_type": "markdown",
   "metadata": {},
   "source": [
    "#### Faça um programa que mostre uma questão de múltipla escolha com 5 opções (letras a, b, c, d, e). Sabendo a resposta certa, o programa deve receber a opção do usuário e informar a letra que o usuário marcou e se a resposta está certa ou errada."
   ]
  },
  {
   "cell_type": "code",
   "execution_count": 19,
   "metadata": {},
   "outputs": [
    {
     "name": "stdout",
     "output_type": "stream",
     "text": [
      "Quem pintou a Capela Sistina?\n",
      "Ecolha uma letra n                   a - Leonardo Da Vinci                    b - Donatello                    c - Raphael                    d - Michelangelo                    e - Botticellie\n",
      "Tente de novo!\n"
     ]
    }
   ],
   "source": [
    "def multipla_escolha():\n",
    "    print('Quem pintou a Capela Sistina?')\n",
    "    opcao = input('Ecolha uma letra \\\n",
    "                   a - Leonardo Da Vinci \\\n",
    "                   b - Donatello \\\n",
    "                   c - Raphael \\\n",
    "                   d - Michelangelo \\\n",
    "                   e - Botticelli ')\n",
    "    if opcao == 'd':\n",
    "        print('Você acertou! Sabia que Michelangelo trolou o Papa?')\n",
    "    else:\n",
    "        print('Tente de novo!')\n",
    "        \n",
    "\n",
    "multipla_escolha()"
   ]
  },
  {
   "cell_type": "markdown",
   "metadata": {},
   "source": [
    "#### Vamos fazer um programa para verificar quem é o assassino de um crime. Para descobrir o assassino, a polícia faz um pequeno questionário com 5 perguntas onde a resposta só pode ser sim ou não:\n",
    "\n",
    "- a. Mora perto da vítima?\n",
    "\n",
    "- b. Já trabalhou com a vítima?\n",
    "\n",
    "- c. Telefonou para a vítima?\n",
    "\n",
    "- d. Esteve no local do crime?\n",
    "\n",
    "- e. Devia para a vítima?\n",
    "\n",
    "#### Cada resposta sim dá um ponto para o suspeito. A polícia considera que os suspeitos com 5 pontos são os assassinos, com 4 a 3 pontos são cúmplices e 2 pontos são apenas suspeitos, necessitando outras investigações. Valores abaixo de 1 são liberados."
   ]
  },
  {
   "cell_type": "code",
   "execution_count": 117,
   "metadata": {},
   "outputs": [
    {
     "name": "stdout",
     "output_type": "stream",
     "text": [
      "João é suspeito de um assassinato,    ajude a polícia respondendo esse questionário\n",
      "Responda somente S ou N\n",
      "Mora perto da vítima? s\n",
      "Já trabalhou com a vítima? s\n",
      "Telefonou para a vítima? s\n",
      "Esteve no local do crime? s\n",
      "Devia para a vítima? s\n",
      "Assassino\n"
     ]
    }
   ],
   "source": [
    "def investigacao():\n",
    "    print('João é suspeito de um assassinato,\\\n",
    "    ajude a polícia respondendo esse questionário')\n",
    "    print('Responda somente S ou N')\n",
    "    a = input('Mora perto da vítima? ').upper()\n",
    "    b = input('Já trabalhou com a vítima? ').upper()\n",
    "    c = input('Telefonou para a vítima? ').upper()\n",
    "    d = input('Esteve no local do crime? ').upper()\n",
    "    e = input('Devia para a vítima? ').upper()\n",
    "\n",
    "    items = [a, b, c, d, e] #upper pode ser passado direto na lista\n",
    "    \n",
    "    for index, item in enumerate(items):\n",
    "        if not item == 'S':\n",
    "            items[index] = 0\n",
    "        else:\n",
    "            items[index] = 1\n",
    "            \n",
    "    items = sum(items)\n",
    "\n",
    "        \n",
    "    if items == 1:\n",
    "        print('João está liberado')\n",
    "    elif items == 2:\n",
    "        print('Suspeito')\n",
    "    elif items == 3 or items == 4:\n",
    "        print('Cúmplice')  \n",
    "    elif items == 5:\n",
    "        print('Assassino')\n",
    "    else:\n",
    "        print('Liberado')\n",
    "        \n",
    "\n",
    "investigacao()        "
   ]
  },
  {
   "cell_type": "code",
   "execution_count": 114,
   "metadata": {},
   "outputs": [
    {
     "data": {
      "text/plain": [
       "[1, 0]"
      ]
     },
     "execution_count": 114,
     "metadata": {},
     "output_type": "execute_result"
    }
   ],
   "source": [
    "'''\n",
    "items = [a, b]\n",
    "for index, item in enumerate(items):\n",
    "    if not item == 'S':\n",
    "        items[index] = 0\n",
    "    else:\n",
    "        items[index] = 1\n",
    "items\n",
    "'''"
   ]
  },
  {
   "cell_type": "code",
   "execution_count": 115,
   "metadata": {},
   "outputs": [
    {
     "data": {
      "text/plain": [
       "1"
      ]
     },
     "execution_count": 115,
     "metadata": {},
     "output_type": "execute_result"
    }
   ],
   "source": [
    "#items = sum(items)\n",
    "#items"
   ]
  },
  {
   "cell_type": "markdown",
   "metadata": {},
   "source": [
    "#### Faça um programa em que o usuário tem que adivinhar o número escolhido pelo computador. O computador deve sortear um número inteiro de 1 a 5 e pedir para o usuário tentar descobrir qual o número sorteado. Após o usuário digitar sua resposta, o programa deve dizer se ele acertou ou não. Dica: para sortear um número, você precisará utilizar a biblioteca random."
   ]
  },
  {
   "cell_type": "code",
   "execution_count": 120,
   "metadata": {},
   "outputs": [
    {
     "name": "stdout",
     "output_type": "stream",
     "text": [
      "Vamos brincar de adivinhação, escolha um número de 1 a 5:1\n",
      "Você ERROU, seu numero 1 foi menor do que o da maquina 2\n",
      "Fim do jogo\n"
     ]
    }
   ],
   "source": [
    "import random\n",
    "\n",
    "def adivinhacao():\n",
    "    num = int(input('Vamos brincar de adivinhação, escolha um número de 1 a 5:'))\n",
    "    r = random.randint(1, 5)\n",
    "    \n",
    "    acertou = num == r\n",
    "    maior = num > r\n",
    "    menor = num < r\n",
    "    \n",
    "    if acertou:\n",
    "        print(\"Parabens voce acertou, seu numero foi {}, e o da maquina foi {}\".format(num, r))\n",
    "    else:\n",
    "        if maior:\n",
    "            print(\"Você ERROU, seu numero {} foi maior do que o da maquina {}\".format(num, r))\n",
    "        else:\n",
    "            print(\"Você ERROU, seu numero {} foi menor do que o da maquina {}\".format(num, r))\n",
    "    print(\"Fim do jogo\")\n",
    "\n",
    "adivinhacao()"
   ]
  },
  {
   "cell_type": "markdown",
   "metadata": {},
   "source": [
    "#### Vamos fazer um radar eletrônico de velocidade. Faça um programa que leia a velocidade de um carro, e diga se ele está acima ou não da velocidade permitida de 50 km/h. Se o carro estiver acima da velocidade, o programa deve imprimir que o motorista ultrapassou a velocidade permitida e recebeu uma multa num determinado valor. Para calcular o valor da multa, considere que para cada quilômetro acima da velocidade permitida, o motorista deve pagar 10 reais."
   ]
  },
  {
   "cell_type": "code",
   "execution_count": 8,
   "metadata": {},
   "outputs": [
    {
     "name": "stdout",
     "output_type": "stream",
     "text": [
      "Informe a velocidade do carro: 160\n",
      "Você está acima da velocidade permitida e receberá         uma multa no valor de R$1100\n"
     ]
    }
   ],
   "source": [
    "def radar():\n",
    "    velocidade = int(input('Informe a velocidade do carro: '))\n",
    "    multa = (velocidade - 50) * 10\n",
    "    \n",
    "    if velocidade > 50:\n",
    "        print('Você está acima da velocidade permitida e receberá \\\n",
    "        uma multa no valor de R${}'.format(multa))\n",
    "    else:\n",
    "        print('Ok! Continue dirigindo na velocidade da via!')\n",
    "        \n",
    "radar()"
   ]
  },
  {
   "cell_type": "markdown",
   "metadata": {},
   "source": [
    "#### Com a recomendação que as pessoas fiquem em casa e evitem aglomerações como medida pra frear a contaminação pelo coronavírus, como saber quando devemos procurar um hospital? Faça um programa que pergunte os sintomas que a pessoa apresenta e responda se ela deve ou não procurar um hospital.\n",
    "\n",
    "#### Sintomas: \n",
    "a. Você tem febre persistente? \n",
    "b. Você tem dificuldade para respirar?\n",
    "\n",
    "A resposta do programa deve seguir a seguinte tabela:\n",
    "\n",
    "* A\tB\tResultado \n",
    "* Sim\tNão\tFique em casa\n",
    "* Não\tSim\tFique em casa\n",
    "* Não\tNão\tFique em casa\n",
    "* Sim\tSim\tProcure um hospital"
   ]
  },
  {
   "cell_type": "code",
   "execution_count": 6,
   "metadata": {},
   "outputs": [
    {
     "name": "stdout",
     "output_type": "stream",
     "text": [
      "Você tem febre persistente (responda sim ou não)? sim\n",
      "Você tem dificuldade para respirar? sim\n",
      "Procure um hospital!\n"
     ]
    }
   ],
   "source": [
    "def hospital_corona():\n",
    "    a = input('Você tem febre persistente (responda sim ou não)? ').lower()\n",
    "    b = input('Você tem dificuldade para respirar? ').lower()\n",
    "    \n",
    "    if a == 'sim' and b == 'não':\n",
    "        print('Fique em casa!')\n",
    "    elif a == 'não' and b == 'sim':\n",
    "        print('Fique em casa!')\n",
    "    elif a == 'não' and b == 'não':\n",
    "        print('Fique em casa!')\n",
    "    else:\n",
    "        print('Procure um hospital!')\n",
    "\n",
    "hospital_corona()"
   ]
  }
 ],
 "metadata": {
  "kernelspec": {
   "display_name": "Python 3",
   "language": "python",
   "name": "python3"
  },
  "language_info": {
   "codemirror_mode": {
    "name": "ipython",
    "version": 3
   },
   "file_extension": ".py",
   "mimetype": "text/x-python",
   "name": "python",
   "nbconvert_exporter": "python",
   "pygments_lexer": "ipython3",
   "version": "3.9.6"
  },
  "toc": {
   "base_numbering": 1,
   "nav_menu": {},
   "number_sections": true,
   "sideBar": true,
   "skip_h1_title": false,
   "title_cell": "Table of Contents",
   "title_sidebar": "Contents",
   "toc_cell": false,
   "toc_position": {},
   "toc_section_display": true,
   "toc_window_display": true
  },
  "varInspector": {
   "cols": {
    "lenName": 16,
    "lenType": 16,
    "lenVar": 40
   },
   "kernels_config": {
    "python": {
     "delete_cmd_postfix": "",
     "delete_cmd_prefix": "del ",
     "library": "var_list.py",
     "varRefreshCmd": "print(var_dic_list())"
    },
    "r": {
     "delete_cmd_postfix": ") ",
     "delete_cmd_prefix": "rm(",
     "library": "var_list.r",
     "varRefreshCmd": "cat(var_dic_list()) "
    }
   },
   "types_to_exclude": [
    "module",
    "function",
    "builtin_function_or_method",
    "instance",
    "_Feature"
   ],
   "window_display": false
  }
 },
 "nbformat": 4,
 "nbformat_minor": 5
}
