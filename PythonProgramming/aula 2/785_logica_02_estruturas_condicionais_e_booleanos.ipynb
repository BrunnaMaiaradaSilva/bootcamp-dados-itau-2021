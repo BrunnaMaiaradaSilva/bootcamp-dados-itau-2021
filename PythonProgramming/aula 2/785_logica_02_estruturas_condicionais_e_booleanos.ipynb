{
 "cells": [
  {
   "cell_type": "markdown",
   "id": "ddb1f5f9",
   "metadata": {},
   "source": [
    "# Revisão"
   ]
  },
  {
   "cell_type": "markdown",
   "id": "13e90b86",
   "metadata": {},
   "source": [
    "**Questão 13:** Faça um programa que peça um valor monetário e diminua-o em 15%. Seu programa deve imprimir a mensagem “O novo valor é [valor]”."
   ]
  },
  {
   "cell_type": "code",
   "execution_count": 1,
   "id": "5b343a3b",
   "metadata": {
    "ExecuteTime": {
     "end_time": "2021-07-07T19:09:08.367100Z",
     "start_time": "2021-07-07T19:09:03.909773Z"
    }
   },
   "outputs": [
    {
     "name": "stdout",
     "output_type": "stream",
     "text": [
      "Digite um valor: 10\n",
      "O novo valor é  8.5\n"
     ]
    }
   ],
   "source": [
    "x = float(input('Digite um valor: '))\n",
    "x = x*0.85 # equivalente a x_new = x - 0.15*x\n",
    "print('O novo valor é ', x)"
   ]
  },
  {
   "cell_type": "markdown",
   "id": "73db9cc6",
   "metadata": {},
   "source": [
    "**Questão 14:** Peça para o usuário digitar uma velocidade inicial (em m/s), uma posição inicial (em m) e um instante de tempo (em s) e imprima a posição de um projétil nesse instante de tempo.\n",
    "\n",
    "Use a fórmula matemática:\n",
    "\n",
    "y(t) = y(0) + v(0)*t + (g*(t**2)/2)\n",
    "\n",
    "Onde, g é a aceleração da gravidade (-10m/s²), y(t) é a posição final, y(0) é a posição inicial, v(0) é a velocidade inicial e t é o instante de tempo. "
   ]
  },
  {
   "cell_type": "code",
   "execution_count": 115,
   "id": "17ff8586",
   "metadata": {
    "ExecuteTime": {
     "end_time": "2021-07-07T20:58:58.117016Z",
     "start_time": "2021-07-07T20:58:53.174300Z"
    }
   },
   "outputs": [
    {
     "name": "stdout",
     "output_type": "stream",
     "text": [
      "Velocidade incial em m/s: 0\n",
      "Posição inicial em m: 0\n",
      "Tempo em s:5\n",
      "Posição do projétil no tempo 5.0 s é -125.0 m.\n"
     ]
    }
   ],
   "source": [
    "v0 = float(input('Velocidade incial em m/s: '))\n",
    "y0 = float(input('Posição inicial em m: '))\n",
    "t = float(input('Tempo em s:'))\n",
    "\n",
    "g = -10 # m/s^2\n",
    "\n",
    "# posição final em m\n",
    "y = y0 + v0*t + (g*(t**2)/2)\n",
    "\n",
    "print('Posição do projétil no tempo', t,  's é', y, 'm.')"
   ]
  },
  {
   "cell_type": "code",
   "execution_count": 16,
   "id": "33f1b7ef",
   "metadata": {
    "ExecuteTime": {
     "end_time": "2021-07-07T19:23:55.376944Z",
     "start_time": "2021-07-07T19:23:55.370907Z"
    }
   },
   "outputs": [
    {
     "name": "stdout",
     "output_type": "stream",
     "text": [
      "Posição do projétil no tempo 2.00 s é 50.0 m.\n"
     ]
    }
   ],
   "source": [
    "# usando o f-string\n",
    "print(f'Posição do projétil no tempo {t:.2f} s é {y} m.')"
   ]
  },
  {
   "cell_type": "code",
   "execution_count": 10,
   "id": "143b9cc7",
   "metadata": {
    "ExecuteTime": {
     "end_time": "2021-07-07T19:22:21.529584Z",
     "start_time": "2021-07-07T19:22:21.511596Z"
    }
   },
   "outputs": [
    {
     "name": "stdout",
     "output_type": "stream",
     "text": [
      "Posição do projétil no tempo 2.00 s é 50.000 m.\n"
     ]
    }
   ],
   "source": [
    "print('Posição do projétil no tempo %.2f s é %.3f m.' %(t,y))"
   ]
  },
  {
   "cell_type": "markdown",
   "id": "a7359059",
   "metadata": {},
   "source": [
    "**Questão 15:** Faça um programa que informe a data e a hora para o usuário. Para isso use a função datetime.now() do módulo datetime."
   ]
  },
  {
   "cell_type": "code",
   "execution_count": 31,
   "id": "febeec0e",
   "metadata": {
    "ExecuteTime": {
     "end_time": "2021-07-07T19:33:13.636136Z",
     "start_time": "2021-07-07T19:33:13.610597Z"
    }
   },
   "outputs": [
    {
     "name": "stdout",
     "output_type": "stream",
     "text": [
      "2021 / 7 / 7 - 16 : 33 : 13\n"
     ]
    }
   ],
   "source": [
    "import datetime as dt\n",
    "\n",
    "#definir variavél agora\n",
    "agora = dt.datetime.now()\n",
    "\n",
    "ano = agora.year\n",
    "mes = agora.month\n",
    "dia = agora.day\n",
    "hora = agora.hour\n",
    "minuto = agora.minute\n",
    "segundo = agora.second\n",
    "\n",
    "print(ano, '/', mes, '/', dia, '-', hora, ':',  minuto, ':', segundo)"
   ]
  },
  {
   "cell_type": "code",
   "execution_count": 37,
   "id": "9eaf9d11",
   "metadata": {
    "ExecuteTime": {
     "end_time": "2021-07-07T19:37:36.322189Z",
     "start_time": "2021-07-07T19:37:36.319188Z"
    }
   },
   "outputs": [
    {
     "data": {
      "text/plain": [
       "datetime.datetime(2021, 7, 7, 16, 37, 36, 320187)"
      ]
     },
     "execution_count": 37,
     "metadata": {},
     "output_type": "execute_result"
    }
   ],
   "source": [
    "#outra forma de usar o datetime\n",
    "from datetime import datetime\n",
    "\n",
    "agora = datetime.now()\n",
    "agora"
   ]
  },
  {
   "cell_type": "code",
   "execution_count": 35,
   "id": "0b952c08",
   "metadata": {
    "ExecuteTime": {
     "end_time": "2021-07-07T19:35:17.342408Z",
     "start_time": "2021-07-07T19:35:17.318554Z"
    }
   },
   "outputs": [
    {
     "data": {
      "text/plain": [
       "'21/Jul/07 - 16:35:17'"
      ]
     },
     "execution_count": 35,
     "metadata": {},
     "output_type": "execute_result"
    }
   ],
   "source": [
    "#definir variavél agora\n",
    "agora = dt.datetime.now()\n",
    "formato = '%y/%b/%d - %H:%M:%S'\n",
    "dt.datetime.strftime(agora, formato)"
   ]
  },
  {
   "cell_type": "markdown",
   "id": "024b731d",
   "metadata": {},
   "source": [
    "# Aula 2 - operadores lógicos e estruturas condicionais"
   ]
  },
  {
   "cell_type": "markdown",
   "id": "f7e4df17",
   "metadata": {},
   "source": [
    "Na aula de hoje, vamos explorar os seguintes tópicos em Python:\n",
    "\n",
    "- 1) Operadores lógicos;\n",
    "- 2) Estruturas condicionais."
   ]
  },
  {
   "cell_type": "markdown",
   "id": "c38644f2",
   "metadata": {},
   "source": [
    "# Habilidades a serem desenvolvidas"
   ]
  },
  {
   "cell_type": "markdown",
   "id": "efba729e",
   "metadata": {},
   "source": [
    "Ao final da aula o aluno deve:\n",
    "\n",
    "- Saber o conceito de operações lógicas e o seu resultado (True/False);\n",
    "- Saber interpretar e utilizar os operadores de comparação;\n",
    "- Saber interpretar e uitlizar os operadores de conjunção;\n",
    "- Saber formular expressões lógicas;\n",
    "- Saber formular expressões condicionais, articulando corretamente as expressões lógicas."
   ]
  },
  {
   "cell_type": "markdown",
   "id": "7bbe923d",
   "metadata": {},
   "source": [
    "# Operadores lógicos"
   ]
  },
  {
   "cell_type": "markdown",
   "id": "047a1ba5",
   "metadata": {},
   "source": [
    "## Comparação\n",
    "\n",
    "Em muitos problemas de programação, há necessidade de se fazer **comparações** entre variáveis.\n",
    "\n",
    "Por exemplo:\n",
    "\n",
    "- checar se um número é maior que outro;\n",
    "- checar se uma variável é igual a outra;\n",
    "- checar se há números diferentes; etc.\n",
    "\n",
    "Para fazer essas comparações, utilizamos os **operadores lógicos de comparação**. Em Python, há 6 desses operadores:\n",
    "\n",
    "- Maior que: >\n",
    "- Maior ou igual: >=\n",
    "- Menor que: <\n",
    "- Menor ou igual: <=\n",
    "- Igual: ==\n",
    "- Diferente: !=\n",
    "\n",
    "O resultado de uma comparação sempre vai ser um booleano, isto é, **True** ou **False**!\n",
    "\n",
    "Dica: sempre leia as comparações como uma **pergunta**\n",
    "\n",
    "- Ex: \"numero < 100\", leia: \"o valor na variável numero é menor que 100?\"\n",
    "\n",
    "Os operadores de comparação são destacados em **roxo** no Jupyter"
   ]
  },
  {
   "cell_type": "code",
   "execution_count": 38,
   "id": "7c81ce70",
   "metadata": {
    "ExecuteTime": {
     "end_time": "2021-07-07T19:41:09.515356Z",
     "start_time": "2021-07-07T19:41:09.511004Z"
    }
   },
   "outputs": [],
   "source": [
    "# definindo a variável \"numero\" que recebe o inteiro \"10\"\n",
    "numero = 10"
   ]
  },
  {
   "cell_type": "code",
   "execution_count": 39,
   "id": "da260a74",
   "metadata": {
    "ExecuteTime": {
     "end_time": "2021-07-07T19:41:36.613037Z",
     "start_time": "2021-07-07T19:41:36.594037Z"
    }
   },
   "outputs": [
    {
     "data": {
      "text/plain": [
       "True"
      ]
     },
     "execution_count": 39,
     "metadata": {},
     "output_type": "execute_result"
    }
   ],
   "source": [
    "# checar se um número é maior que outro\n",
    "5 > 4"
   ]
  },
  {
   "cell_type": "code",
   "execution_count": 40,
   "id": "ce974dd3",
   "metadata": {
    "ExecuteTime": {
     "end_time": "2021-07-07T19:41:53.195760Z",
     "start_time": "2021-07-07T19:41:53.179294Z"
    }
   },
   "outputs": [
    {
     "data": {
      "text/plain": [
       "False"
      ]
     },
     "execution_count": 40,
     "metadata": {},
     "output_type": "execute_result"
    }
   ],
   "source": [
    "5 > 6"
   ]
  },
  {
   "cell_type": "code",
   "execution_count": 41,
   "id": "5f763ef9",
   "metadata": {
    "ExecuteTime": {
     "end_time": "2021-07-07T19:42:06.375968Z",
     "start_time": "2021-07-07T19:42:06.360973Z"
    }
   },
   "outputs": [
    {
     "data": {
      "text/plain": [
       "True"
      ]
     },
     "execution_count": 41,
     "metadata": {},
     "output_type": "execute_result"
    }
   ],
   "source": [
    "5 < 6"
   ]
  },
  {
   "cell_type": "code",
   "execution_count": 42,
   "id": "be99988f",
   "metadata": {
    "ExecuteTime": {
     "end_time": "2021-07-07T19:42:51.645455Z",
     "start_time": "2021-07-07T19:42:51.634799Z"
    }
   },
   "outputs": [
    {
     "data": {
      "text/plain": [
       "False"
      ]
     },
     "execution_count": 42,
     "metadata": {},
     "output_type": "execute_result"
    }
   ],
   "source": [
    "#checar se há números diferentes\n",
    "\n",
    "5 == 6"
   ]
  },
  {
   "cell_type": "code",
   "execution_count": 44,
   "id": "5b338e89",
   "metadata": {
    "ExecuteTime": {
     "end_time": "2021-07-07T19:43:23.371966Z",
     "start_time": "2021-07-07T19:43:23.364968Z"
    }
   },
   "outputs": [
    {
     "data": {
      "text/plain": [
       "True"
      ]
     },
     "execution_count": 44,
     "metadata": {},
     "output_type": "execute_result"
    }
   ],
   "source": [
    "5 != 6"
   ]
  },
  {
   "cell_type": "code",
   "execution_count": 43,
   "id": "e96569bb",
   "metadata": {
    "ExecuteTime": {
     "end_time": "2021-07-07T19:43:00.189080Z",
     "start_time": "2021-07-07T19:43:00.174061Z"
    }
   },
   "outputs": [
    {
     "data": {
      "text/plain": [
       "True"
      ]
     },
     "execution_count": 43,
     "metadata": {},
     "output_type": "execute_result"
    }
   ],
   "source": [
    "5 == 5"
   ]
  },
  {
   "cell_type": "code",
   "execution_count": 45,
   "id": "fd8fc18d",
   "metadata": {
    "ExecuteTime": {
     "end_time": "2021-07-07T19:43:55.764866Z",
     "start_time": "2021-07-07T19:43:55.746881Z"
    }
   },
   "outputs": [
    {
     "data": {
      "text/plain": [
       "True"
      ]
     },
     "execution_count": 45,
     "metadata": {},
     "output_type": "execute_result"
    }
   ],
   "source": [
    "# com a vaiavel numero\n",
    "numero > 6"
   ]
  },
  {
   "cell_type": "code",
   "execution_count": 46,
   "id": "75783764",
   "metadata": {
    "ExecuteTime": {
     "end_time": "2021-07-07T19:44:06.001889Z",
     "start_time": "2021-07-07T19:44:05.993492Z"
    }
   },
   "outputs": [
    {
     "data": {
      "text/plain": [
       "True"
      ]
     },
     "execution_count": 46,
     "metadata": {},
     "output_type": "execute_result"
    }
   ],
   "source": [
    "numero == 10"
   ]
  },
  {
   "cell_type": "code",
   "execution_count": null,
   "id": "8279fbb8",
   "metadata": {},
   "outputs": [],
   "source": [
    "# perceba a diferença\n",
    "# numero = 10 -> variavel numero \"recebe\" o valor 10\n",
    "# numero == 10 -> pergunta se a variavel numero é igual a 10?"
   ]
  },
  {
   "cell_type": "markdown",
   "id": "71bdb5ff",
   "metadata": {},
   "source": [
    "A comparação pode ser feita entre duas variáveis, também:"
   ]
  },
  {
   "cell_type": "code",
   "execution_count": 47,
   "id": "b3aaf07a",
   "metadata": {
    "ExecuteTime": {
     "end_time": "2021-07-07T19:45:44.841972Z",
     "start_time": "2021-07-07T19:45:44.832972Z"
    }
   },
   "outputs": [
    {
     "data": {
      "text/plain": [
       "False"
      ]
     },
     "execution_count": 47,
     "metadata": {},
     "output_type": "execute_result"
    }
   ],
   "source": [
    "# definindo uma nova variável\n",
    "numero2 = 100\n",
    "\n",
    "# o valor na variavel \"numero\" é menor que o valor na variavel \"numero2\"?\n",
    "# ou seja, 10 é menor que 100?\n",
    "\n",
    "numero > numero2\n"
   ]
  },
  {
   "cell_type": "code",
   "execution_count": 48,
   "id": "4c96b236",
   "metadata": {
    "ExecuteTime": {
     "end_time": "2021-07-07T19:45:55.120879Z",
     "start_time": "2021-07-07T19:45:55.100470Z"
    }
   },
   "outputs": [
    {
     "data": {
      "text/plain": [
       "True"
      ]
     },
     "execution_count": 48,
     "metadata": {},
     "output_type": "execute_result"
    }
   ],
   "source": [
    "numero!= numero2"
   ]
  },
  {
   "cell_type": "markdown",
   "id": "8355fedc",
   "metadata": {},
   "source": [
    "Podemos também comparar strings!"
   ]
  },
  {
   "cell_type": "code",
   "execution_count": 49,
   "id": "02bfe791",
   "metadata": {
    "ExecuteTime": {
     "end_time": "2021-07-07T19:46:28.075468Z",
     "start_time": "2021-07-07T19:46:28.064470Z"
    }
   },
   "outputs": [],
   "source": [
    "# definia variável uma string\n",
    "saudacao = \"bem-vindos!\""
   ]
  },
  {
   "cell_type": "code",
   "execution_count": 50,
   "id": "41e8e121",
   "metadata": {
    "ExecuteTime": {
     "end_time": "2021-07-07T19:46:38.260959Z",
     "start_time": "2021-07-07T19:46:38.254949Z"
    }
   },
   "outputs": [
    {
     "data": {
      "text/plain": [
       "True"
      ]
     },
     "execution_count": 50,
     "metadata": {},
     "output_type": "execute_result"
    }
   ],
   "source": [
    "# pra igualdade existir, tem que haver uma correspondência EXATA entre as strings!\n",
    "saudacao == \"bem-vindos!\""
   ]
  },
  {
   "cell_type": "code",
   "execution_count": 52,
   "id": "830bffea",
   "metadata": {
    "ExecuteTime": {
     "end_time": "2021-07-07T19:47:32.029850Z",
     "start_time": "2021-07-07T19:47:32.025851Z"
    }
   },
   "outputs": [
    {
     "data": {
      "text/plain": [
       "False"
      ]
     },
     "execution_count": 52,
     "metadata": {},
     "output_type": "execute_result"
    }
   ],
   "source": [
    "# qualquer diferença, por mínima que seja, torna a igualdade falsa!\n",
    "saudacao == \"Bem vindos.\""
   ]
  },
  {
   "cell_type": "markdown",
   "id": "074fc7d8",
   "metadata": {},
   "source": [
    "Os operadores >, >=, <, <= atuam comparando **ordem alfabética** quando aplicados a strings.\n",
    "\n",
    "(Obs.: se surgir interesse, mencionar aqui sobre a tabela ASCII e como de fato ocorre a comparação de ordem entre strings)"
   ]
  },
  {
   "cell_type": "code",
   "execution_count": 53,
   "id": "acfbc606",
   "metadata": {
    "ExecuteTime": {
     "end_time": "2021-07-07T19:48:18.212798Z",
     "start_time": "2021-07-07T19:48:18.203800Z"
    }
   },
   "outputs": [
    {
     "data": {
      "text/plain": [
       "False"
      ]
     },
     "execution_count": 53,
     "metadata": {},
     "output_type": "execute_result"
    }
   ],
   "source": [
    "'a' > 'b'"
   ]
  },
  {
   "cell_type": "code",
   "execution_count": 55,
   "id": "b5e15a8c",
   "metadata": {
    "ExecuteTime": {
     "end_time": "2021-07-07T19:48:48.067648Z",
     "start_time": "2021-07-07T19:48:48.058341Z"
    }
   },
   "outputs": [
    {
     "data": {
      "text/plain": [
       "True"
      ]
     },
     "execution_count": 55,
     "metadata": {},
     "output_type": "execute_result"
    }
   ],
   "source": [
    "'zabacaxi' > 'banana'"
   ]
  },
  {
   "cell_type": "code",
   "execution_count": 63,
   "id": "8fc2088c",
   "metadata": {
    "ExecuteTime": {
     "end_time": "2021-07-07T19:51:20.598659Z",
     "start_time": "2021-07-07T19:51:20.580620Z"
    }
   },
   "outputs": [
    {
     "data": {
      "text/plain": [
       "True"
      ]
     },
     "execution_count": 63,
     "metadata": {},
     "output_type": "execute_result"
    }
   ],
   "source": [
    "# sendo a=a, b=b e c=c, a comparação vale para s > c\n",
    "'abas' > 'abacaxi'"
   ]
  },
  {
   "cell_type": "code",
   "execution_count": 64,
   "id": "7f1d6e70",
   "metadata": {
    "ExecuteTime": {
     "end_time": "2021-07-07T19:51:27.220363Z",
     "start_time": "2021-07-07T19:51:27.200841Z"
    }
   },
   "outputs": [
    {
     "data": {
      "text/plain": [
       "False"
      ]
     },
     "execution_count": 64,
     "metadata": {},
     "output_type": "execute_result"
    }
   ],
   "source": [
    "'abac' > 'abacaxi'"
   ]
  },
  {
   "cell_type": "markdown",
   "id": "170451be",
   "metadata": {},
   "source": [
    "Podemos fazer comparação entre **tipos numéricos** diferentes (int e float):"
   ]
  },
  {
   "cell_type": "code",
   "execution_count": 68,
   "id": "4a5f2c59",
   "metadata": {
    "ExecuteTime": {
     "end_time": "2021-07-07T19:53:17.486872Z",
     "start_time": "2021-07-07T19:53:17.475347Z"
    }
   },
   "outputs": [
    {
     "name": "stdout",
     "output_type": "stream",
     "text": [
      "True\n",
      "False\n",
      "True\n"
     ]
    }
   ],
   "source": [
    "# definindo dois numeros\n",
    "num1 = 3\n",
    "num2 = 3.14\n",
    "\n",
    "# o num1 é menor que num2?\n",
    "# ou seja, 3 é menor que 3.14?\n",
    "print(num1 < num2)\n",
    "\n",
    "# o num1 é maior que num2?\n",
    "# ou seja, 3 é maior que 3.14?\n",
    "print(num1 > num2)\n",
    "\n",
    "# as variáveis são diferentes?\n",
    "print(num1 != num2)\n"
   ]
  },
  {
   "cell_type": "markdown",
   "id": "d0466468",
   "metadata": {},
   "source": [
    "Mas comparações entre string e tipos numéricos são possíveis **apenas para == e !=**:\n"
   ]
  },
  {
   "cell_type": "code",
   "execution_count": 69,
   "id": "8cd70ba4",
   "metadata": {
    "ExecuteTime": {
     "end_time": "2021-07-07T19:54:35.251979Z",
     "start_time": "2021-07-07T19:54:35.239457Z"
    }
   },
   "outputs": [
    {
     "data": {
      "text/plain": [
       "False"
      ]
     },
     "execution_count": 69,
     "metadata": {},
     "output_type": "execute_result"
    }
   ],
   "source": [
    "# definindo uma string e um int\n",
    "'1' == 1"
   ]
  },
  {
   "cell_type": "code",
   "execution_count": 70,
   "id": "aa91f182",
   "metadata": {
    "ExecuteTime": {
     "end_time": "2021-07-07T19:55:01.944598Z",
     "start_time": "2021-07-07T19:55:01.935629Z"
    }
   },
   "outputs": [
    {
     "data": {
      "text/plain": [
       "True"
      ]
     },
     "execution_count": 70,
     "metadata": {},
     "output_type": "execute_result"
    }
   ],
   "source": [
    "'1' != 1"
   ]
  },
  {
   "cell_type": "code",
   "execution_count": 71,
   "id": "d5833010",
   "metadata": {
    "ExecuteTime": {
     "end_time": "2021-07-07T19:55:18.816185Z",
     "start_time": "2021-07-07T19:55:18.807186Z"
    }
   },
   "outputs": [
    {
     "data": {
      "text/plain": [
       "True"
      ]
     },
     "execution_count": 71,
     "metadata": {},
     "output_type": "execute_result"
    }
   ],
   "source": [
    "int('1') == 1"
   ]
  },
  {
   "cell_type": "code",
   "execution_count": 72,
   "id": "3a6a9223",
   "metadata": {
    "ExecuteTime": {
     "end_time": "2021-07-07T19:55:36.048130Z",
     "start_time": "2021-07-07T19:55:36.034129Z"
    }
   },
   "outputs": [
    {
     "data": {
      "text/plain": [
       "True"
      ]
     },
     "execution_count": 72,
     "metadata": {},
     "output_type": "execute_result"
    }
   ],
   "source": [
    "float('1') == 1"
   ]
  },
  {
   "cell_type": "code",
   "execution_count": 73,
   "id": "db01c7f2",
   "metadata": {
    "ExecuteTime": {
     "end_time": "2021-07-07T19:55:58.874639Z",
     "start_time": "2021-07-07T19:55:58.866633Z"
    }
   },
   "outputs": [
    {
     "ename": "TypeError",
     "evalue": "'>=' not supported between instances of 'str' and 'int'",
     "output_type": "error",
     "traceback": [
      "\u001b[1;31m---------------------------------------------------------------------------\u001b[0m",
      "\u001b[1;31mTypeError\u001b[0m                                 Traceback (most recent call last)",
      "\u001b[1;32m<ipython-input-73-84a6b7505bba>\u001b[0m in \u001b[0;36m<module>\u001b[1;34m\u001b[0m\n\u001b[0;32m      1\u001b[0m \u001b[1;31m# para operadores > e <\u001b[0m\u001b[1;33m\u001b[0m\u001b[1;33m\u001b[0m\u001b[1;33m\u001b[0m\u001b[0m\n\u001b[1;32m----> 2\u001b[1;33m \u001b[1;34m'1'\u001b[0m \u001b[1;33m>=\u001b[0m \u001b[1;36m1\u001b[0m\u001b[1;33m\u001b[0m\u001b[1;33m\u001b[0m\u001b[0m\n\u001b[0m",
      "\u001b[1;31mTypeError\u001b[0m: '>=' not supported between instances of 'str' and 'int'"
     ]
    }
   ],
   "source": [
    "# para operadores > e < \n",
    "'1' >= 1"
   ]
  },
  {
   "cell_type": "markdown",
   "id": "b91e3611",
   "metadata": {},
   "source": [
    "O erro acima aconteceu porque **não é possível comparar a orderm (usando >, >=, <, <=)** de variáveis numéricas e strings!"
   ]
  },
  {
   "cell_type": "markdown",
   "id": "3effcc0e",
   "metadata": {},
   "source": [
    "## Conjunção \n",
    "\n",
    "Além dos operadores lógicos de comparação, também temos os **operadores lógicos de conjunção**, que são utilizados pra fazer uma **combinação** entre comparações. \n",
    "\n",
    "Os operadores de conjunção são: **and** e **or**, e eles seguem a seguinte regra:\n",
    "\n",
    "- **and** só é True se **ambas** as comparações forem True:\n",
    "    - False and True resulta em \"False\"\n",
    "    - False and False resulta em \"False\"\n",
    "    - True and True resulta em \"True\"\n",
    "    \n",
    "    \n",
    "- **or** é True se **pelo menos uma** das comparações for True:\n",
    "    - False or True resulta em \"True\"\n",
    "    - True or True resulta em \"True\"\n",
    "    - False or False resulta em \"False\"\n",
    "\n",
    "Os operadores de conjunção são destacados em **verde escuro** no Jupyter"
   ]
  },
  {
   "cell_type": "code",
   "execution_count": 77,
   "id": "52314e1d",
   "metadata": {
    "ExecuteTime": {
     "end_time": "2021-07-07T19:59:59.266344Z",
     "start_time": "2021-07-07T19:59:59.253775Z"
    }
   },
   "outputs": [
    {
     "name": "stdout",
     "output_type": "stream",
     "text": [
      "Operador and:\n",
      "True\n",
      "False\n",
      "False\n",
      "False\n"
     ]
    }
   ],
   "source": [
    "print(\"Operador and:\")\n",
    "print(True and True)\n",
    "print(False and False)\n",
    "print(True and False)\n",
    "print(False and True)"
   ]
  },
  {
   "cell_type": "code",
   "execution_count": 80,
   "id": "14fc4af3",
   "metadata": {
    "ExecuteTime": {
     "end_time": "2021-07-07T20:02:11.852466Z",
     "start_time": "2021-07-07T20:02:11.840487Z"
    }
   },
   "outputs": [
    {
     "data": {
      "text/plain": [
       "False"
      ]
     },
     "execution_count": 80,
     "metadata": {},
     "output_type": "execute_result"
    }
   ],
   "source": [
    "# True and False, resulta em False\n",
    "(2 > 1) and (3 < 1)"
   ]
  },
  {
   "cell_type": "code",
   "execution_count": 81,
   "id": "09f52591",
   "metadata": {
    "ExecuteTime": {
     "end_time": "2021-07-07T20:02:14.421136Z",
     "start_time": "2021-07-07T20:02:14.407591Z"
    }
   },
   "outputs": [
    {
     "data": {
      "text/plain": [
       "True"
      ]
     },
     "execution_count": 81,
     "metadata": {},
     "output_type": "execute_result"
    }
   ],
   "source": [
    "# True and True, resulta em True\n",
    "(2 == 2) and (3 != 2)"
   ]
  },
  {
   "cell_type": "code",
   "execution_count": 85,
   "id": "de550acc",
   "metadata": {
    "ExecuteTime": {
     "end_time": "2021-07-07T20:04:02.772032Z",
     "start_time": "2021-07-07T20:04:02.767034Z"
    }
   },
   "outputs": [
    {
     "name": "stdout",
     "output_type": "stream",
     "text": [
      "Operador or:\n",
      "True\n",
      "True\n",
      "True\n",
      "False\n"
     ]
    }
   ],
   "source": [
    "print(\"Operador or:\")\n",
    "print(True or True)\n",
    "print(True or False)\n",
    "print(False or True)\n",
    "print(False or False)"
   ]
  },
  {
   "cell_type": "code",
   "execution_count": 86,
   "id": "38397514",
   "metadata": {
    "ExecuteTime": {
     "end_time": "2021-07-07T20:04:20.608589Z",
     "start_time": "2021-07-07T20:04:20.603582Z"
    }
   },
   "outputs": [
    {
     "data": {
      "text/plain": [
       "True"
      ]
     },
     "execution_count": 86,
     "metadata": {},
     "output_type": "execute_result"
    }
   ],
   "source": [
    "# True or False, resulta em True\n",
    "(2 > 1) or (3 < 1)"
   ]
  },
  {
   "cell_type": "code",
   "execution_count": 87,
   "id": "5b9f3cdf",
   "metadata": {
    "ExecuteTime": {
     "end_time": "2021-07-07T20:04:47.461661Z",
     "start_time": "2021-07-07T20:04:47.455661Z"
    }
   },
   "outputs": [
    {
     "data": {
      "text/plain": [
       "False"
      ]
     },
     "execution_count": 87,
     "metadata": {},
     "output_type": "execute_result"
    }
   ],
   "source": [
    "# False or False, resulta em False\n",
    "(2 > 2) or (3 == 2)"
   ]
  },
  {
   "cell_type": "markdown",
   "id": "b2e31360",
   "metadata": {},
   "source": [
    "Se tivermos mais de duas comparações pra fazer conjunção, é melhor usarmos parênteses.\n",
    "\n",
    "Primeiro a conjunção entre parênteses é feita, e depois o resultado é usado pra avaliar a conjunção total"
   ]
  },
  {
   "cell_type": "code",
   "execution_count": 90,
   "id": "240d8372",
   "metadata": {
    "ExecuteTime": {
     "end_time": "2021-07-07T20:09:15.162573Z",
     "start_time": "2021-07-07T20:09:15.151575Z"
    }
   },
   "outputs": [
    {
     "data": {
      "text/plain": [
       "True"
      ]
     },
     "execution_count": 90,
     "metadata": {},
     "output_type": "execute_result"
    }
   ],
   "source": [
    "# exemplo\n",
    "\n",
    "# Questão: (True and False) or True => ?\n",
    "# Resolve primeiro o parentesis: False or True => ?\n",
    "# Resposta: True\n",
    "\n",
    "# true            false            true\n",
    "((20 > 10) and (100 == 'a')) or (3 <= 5)"
   ]
  },
  {
   "cell_type": "markdown",
   "id": "df2f027b",
   "metadata": {},
   "source": [
    "# Estruturas condicionais\n"
   ]
  },
  {
   "cell_type": "markdown",
   "id": "2f7f2325",
   "metadata": {},
   "source": [
    "\n",
    "O principal uso dos operadores lógicos é em **estruturas condicionais**\n",
    "\n",
    "Esse tipo de estrutura é utilizada para tratar casos diferentes dentro do código\n",
    "\n",
    "Os **operadores condicionais** são: **if**, **elif** e **else**\n",
    "\n",
    "- **if**: Se uma condição for verdadeira, faça determinada operação.\n",
    "- **elif**: Se a condição acima for falsa, avalie uma próxima condição, e se essa for verdadeira, faça outra operação\n",
    "- **else**: Se nenhuma das condições acima for verdadeira, faça outra coisa\n",
    "\n",
    "O uso de elif e else **não** é obrigatório! (Mas é muitas vezes conveniente!)\n",
    "\n",
    "As estruturas de repetição aparecem em **blocos identados (com \"tab\") após dois pontos**, na seguinte estrutura:\n",
    "\n",
    "```python\n",
    "if (condicao_1 é True):\n",
    "    operacoes_1\n",
    "elif (condicao_2 é True):\n",
    "    operacoes_2\n",
    "else:\n",
    "    operacoes\n",
    "```\n",
    "\n",
    "- Se alguma condição no if ou elif for verdadeira, todo o resto é ignorado!\n",
    "- Por isso, as condições no if e os diferentes elifs sempre são **excludentes**\n",
    "\n",
    "Os operadores condicionais são destacados em **verde escuro** no Jupyter\n"
   ]
  },
  {
   "cell_type": "markdown",
   "id": "79f908b5",
   "metadata": {},
   "source": [
    "**Exemplo**: imagine que uma escola tem o seguinte critério de avaliação baseado na média do aluno:\n",
    "\n",
    "- se a média for maior ou igual a 5, o aluno é aprovado;\n",
    "- caso contrário, o aluno é reptrovado\n"
   ]
  },
  {
   "cell_type": "code",
   "execution_count": 96,
   "id": "c7d37823",
   "metadata": {
    "ExecuteTime": {
     "end_time": "2021-07-07T20:26:46.692549Z",
     "start_time": "2021-07-07T20:26:46.676018Z"
    }
   },
   "outputs": [
    {
     "name": "stdout",
     "output_type": "stream",
     "text": [
      "Aprovado\n"
     ]
    }
   ],
   "source": [
    "# defina a media\n",
    "media = 10\n",
    "\n",
    "# determina a lógica para aprovação ou reprovação\n",
    "if (media >= 5):\n",
    "    print('Aprovado')\n",
    "else:\n",
    "    print('Reprovado')"
   ]
  },
  {
   "cell_type": "markdown",
   "id": "683a024d",
   "metadata": {},
   "source": [
    "Também podemos usar o elif, embora não seja necessário, dado que a condição `media >= 5` é única"
   ]
  },
  {
   "cell_type": "code",
   "execution_count": 108,
   "id": "65a27316",
   "metadata": {
    "ExecuteTime": {
     "end_time": "2021-07-07T20:31:51.722872Z",
     "start_time": "2021-07-07T20:31:51.709370Z"
    }
   },
   "outputs": [
    {
     "name": "stdout",
     "output_type": "stream",
     "text": [
      "Parabéns\n",
      "Aprovado\n"
     ]
    }
   ],
   "source": [
    "# mesmo código usando elif\n",
    "media = 8\n",
    "\n",
    "if (media >= 7):\n",
    "    print('Parabéns')\n",
    "    print('Aprovado')\n",
    "elif (media >= 5):\n",
    "    print('Recuperação')\n",
    "else:\n",
    "    print('Reprovado')"
   ]
  },
  {
   "cell_type": "markdown",
   "id": "17f2fd02",
   "metadata": {},
   "source": [
    "**Exemplo**: imagine que uma escola tem o seguinte critério de avaliação baseado na **media** do aluno e em sua **frequência**\n",
    "\n",
    "- regra 1: se a média for maior ou igal a 9, o aluno é aprovado, independente da frequencia;\n",
    "- regra 2: se a média estiver entre 6 e 9, o aluno só é aprovado se a frequencia for maior ou igual a 75%\n",
    "- regra 3: se a média estiver entre 6 e 9, mas a frequencia for menor que 75%, ele vai pra recuperação\n",
    "- regra 4: se a média for menor que 6 e a frequencia do aluno for maior ou igual a 75%, ele pode fazer recuperação\n",
    "- regra 5: se a média for menor que 6 e a frequência do aluno for menor que a 75%, ele é automaticamente reprovado\n",
    "\n",
    "Como implementamos este algoritmo?"
   ]
  },
  {
   "cell_type": "code",
   "execution_count": 114,
   "id": "2895dd1c",
   "metadata": {
    "ExecuteTime": {
     "end_time": "2021-07-07T20:55:56.750288Z",
     "start_time": "2021-07-07T20:55:51.988782Z"
    }
   },
   "outputs": [
    {
     "name": "stdout",
     "output_type": "stream",
     "text": [
      "Insira a média do aluno:2\n",
      "Insira a frequência do aluno em %: 95\n",
      "Recuperação\n"
     ]
    }
   ],
   "source": [
    "# vamos perguntar a média pro professor\n",
    "media = float(input('Insira a média do aluno:'))\n",
    "\n",
    "# e também a frequência\n",
    "frequencia = float(input('Insira a frequência do aluno em %: '))\n",
    "\n",
    "# regras\n",
    "\n",
    "# regra 1\n",
    "if (media >= 9):\n",
    "    print('Aprovado')\n",
    "\n",
    "# regra 2\n",
    "elif (media >=6) and (frequencia >= 75):\n",
    "    print('Aprovado')\n",
    "    \n",
    "# regra 3\n",
    "elif (media >= 6) and (frequencia < 75): # ou fazer: (frequencia < 75)\n",
    "    print('Recuperação')\n",
    "    \n",
    "# regra 4\n",
    "elif (frequencia >= 75): ## ou fazer: (media < 6) and (frequencia >= 75)\n",
    "    print('Recuperação')\n",
    "\n",
    "# regra 5\n",
    "else:\n",
    "    print('Reprovado')\n"
   ]
  },
  {
   "cell_type": "markdown",
   "id": "c332f38e",
   "metadata": {},
   "source": [
    "# Exercício"
   ]
  },
  {
   "cell_type": "markdown",
   "id": "1a27612c",
   "metadata": {},
   "source": [
    "Faça um programa que peça dois números e mostre o maior deles."
   ]
  },
  {
   "cell_type": "code",
   "execution_count": null,
   "id": "bf32810d",
   "metadata": {},
   "outputs": [],
   "source": []
  },
  {
   "cell_type": "markdown",
   "id": "ebb9edeb",
   "metadata": {},
   "source": [
    "# Debug - mais avançado"
   ]
  },
  {
   "cell_type": "code",
   "execution_count": 118,
   "id": "b04140b7",
   "metadata": {
    "ExecuteTime": {
     "end_time": "2021-07-07T21:48:21.102323Z",
     "start_time": "2021-07-07T21:03:21.368114Z"
    }
   },
   "outputs": [
    {
     "name": "stdout",
     "output_type": "stream",
     "text": [
      "None\n",
      "> \u001b[1;32m<ipython-input-118-acd655d0c6c1>\u001b[0m(18)\u001b[0;36m<module>\u001b[1;34m()\u001b[0m\n",
      "\u001b[1;32m     16 \u001b[1;33m\u001b[1;32melif\u001b[0m \u001b[1;33m(\u001b[0m\u001b[0mfrequencia\u001b[0m \u001b[1;33m>=\u001b[0m \u001b[1;36m75\u001b[0m\u001b[1;33m)\u001b[0m\u001b[1;33m:\u001b[0m \u001b[1;31m## ou fazer: (media < 6) and (frequencia >= 75)\u001b[0m\u001b[1;33m\u001b[0m\u001b[1;33m\u001b[0m\u001b[0m\n",
      "\u001b[0m\u001b[1;32m     17 \u001b[1;33m    \u001b[0mpdb\u001b[0m\u001b[1;33m.\u001b[0m\u001b[0mset_trace\u001b[0m\u001b[1;33m(\u001b[0m\u001b[1;33m)\u001b[0m\u001b[1;33m\u001b[0m\u001b[1;33m\u001b[0m\u001b[0m\n",
      "\u001b[0m\u001b[1;32m---> 18 \u001b[1;33m    \u001b[0mprint\u001b[0m\u001b[1;33m(\u001b[0m\u001b[1;34m'Recuperação'\u001b[0m\u001b[1;33m)\u001b[0m\u001b[1;33m\u001b[0m\u001b[1;33m\u001b[0m\u001b[0m\n",
      "\u001b[0m\u001b[1;32m     19 \u001b[1;33m\u001b[1;33m\u001b[0m\u001b[0m\n",
      "\u001b[0m\u001b[1;32m     20 \u001b[1;33m\u001b[1;31m# regra 5\u001b[0m\u001b[1;33m\u001b[0m\u001b[1;33m\u001b[0m\u001b[1;33m\u001b[0m\u001b[0m\n",
      "\u001b[0m\n",
      "ipdb> media\n",
      "2.0\n",
      "ipdb> media > 2\n",
      "False\n",
      "ipdb> quit\n"
     ]
    },
    {
     "ename": "BdbQuit",
     "evalue": "",
     "output_type": "error",
     "traceback": [
      "\u001b[1;31m---------------------------------------------------------------------------\u001b[0m",
      "\u001b[1;31mBdbQuit\u001b[0m                                   Traceback (most recent call last)",
      "\u001b[1;32m<ipython-input-118-acd655d0c6c1>\u001b[0m in \u001b[0;36m<module>\u001b[1;34m\u001b[0m\n\u001b[0;32m     16\u001b[0m \u001b[1;32melif\u001b[0m \u001b[1;33m(\u001b[0m\u001b[0mfrequencia\u001b[0m \u001b[1;33m>=\u001b[0m \u001b[1;36m75\u001b[0m\u001b[1;33m)\u001b[0m\u001b[1;33m:\u001b[0m \u001b[1;31m## ou fazer: (media < 6) and (frequencia >= 75)\u001b[0m\u001b[1;33m\u001b[0m\u001b[1;33m\u001b[0m\u001b[0m\n\u001b[0;32m     17\u001b[0m     \u001b[0mpdb\u001b[0m\u001b[1;33m.\u001b[0m\u001b[0mset_trace\u001b[0m\u001b[1;33m(\u001b[0m\u001b[1;33m)\u001b[0m\u001b[1;33m\u001b[0m\u001b[1;33m\u001b[0m\u001b[0m\n\u001b[1;32m---> 18\u001b[1;33m     \u001b[0mprint\u001b[0m\u001b[1;33m(\u001b[0m\u001b[1;34m'Recuperação'\u001b[0m\u001b[1;33m)\u001b[0m\u001b[1;33m\u001b[0m\u001b[1;33m\u001b[0m\u001b[0m\n\u001b[0m\u001b[0;32m     19\u001b[0m \u001b[1;33m\u001b[0m\u001b[0m\n\u001b[0;32m     20\u001b[0m \u001b[1;31m# regra 5\u001b[0m\u001b[1;33m\u001b[0m\u001b[1;33m\u001b[0m\u001b[1;33m\u001b[0m\u001b[0m\n",
      "\u001b[1;32m<ipython-input-118-acd655d0c6c1>\u001b[0m in \u001b[0;36m<module>\u001b[1;34m\u001b[0m\n\u001b[0;32m     16\u001b[0m \u001b[1;32melif\u001b[0m \u001b[1;33m(\u001b[0m\u001b[0mfrequencia\u001b[0m \u001b[1;33m>=\u001b[0m \u001b[1;36m75\u001b[0m\u001b[1;33m)\u001b[0m\u001b[1;33m:\u001b[0m \u001b[1;31m## ou fazer: (media < 6) and (frequencia >= 75)\u001b[0m\u001b[1;33m\u001b[0m\u001b[1;33m\u001b[0m\u001b[0m\n\u001b[0;32m     17\u001b[0m     \u001b[0mpdb\u001b[0m\u001b[1;33m.\u001b[0m\u001b[0mset_trace\u001b[0m\u001b[1;33m(\u001b[0m\u001b[1;33m)\u001b[0m\u001b[1;33m\u001b[0m\u001b[1;33m\u001b[0m\u001b[0m\n\u001b[1;32m---> 18\u001b[1;33m     \u001b[0mprint\u001b[0m\u001b[1;33m(\u001b[0m\u001b[1;34m'Recuperação'\u001b[0m\u001b[1;33m)\u001b[0m\u001b[1;33m\u001b[0m\u001b[1;33m\u001b[0m\u001b[0m\n\u001b[0m\u001b[0;32m     19\u001b[0m \u001b[1;33m\u001b[0m\u001b[0m\n\u001b[0;32m     20\u001b[0m \u001b[1;31m# regra 5\u001b[0m\u001b[1;33m\u001b[0m\u001b[1;33m\u001b[0m\u001b[1;33m\u001b[0m\u001b[0m\n",
      "\u001b[1;32m~\\anaconda3\\lib\\bdb.py\u001b[0m in \u001b[0;36mtrace_dispatch\u001b[1;34m(self, frame, event, arg)\u001b[0m\n\u001b[0;32m     86\u001b[0m             \u001b[1;32mreturn\u001b[0m \u001b[1;31m# None\u001b[0m\u001b[1;33m\u001b[0m\u001b[1;33m\u001b[0m\u001b[0m\n\u001b[0;32m     87\u001b[0m         \u001b[1;32mif\u001b[0m \u001b[0mevent\u001b[0m \u001b[1;33m==\u001b[0m \u001b[1;34m'line'\u001b[0m\u001b[1;33m:\u001b[0m\u001b[1;33m\u001b[0m\u001b[1;33m\u001b[0m\u001b[0m\n\u001b[1;32m---> 88\u001b[1;33m             \u001b[1;32mreturn\u001b[0m \u001b[0mself\u001b[0m\u001b[1;33m.\u001b[0m\u001b[0mdispatch_line\u001b[0m\u001b[1;33m(\u001b[0m\u001b[0mframe\u001b[0m\u001b[1;33m)\u001b[0m\u001b[1;33m\u001b[0m\u001b[1;33m\u001b[0m\u001b[0m\n\u001b[0m\u001b[0;32m     89\u001b[0m         \u001b[1;32mif\u001b[0m \u001b[0mevent\u001b[0m \u001b[1;33m==\u001b[0m \u001b[1;34m'call'\u001b[0m\u001b[1;33m:\u001b[0m\u001b[1;33m\u001b[0m\u001b[1;33m\u001b[0m\u001b[0m\n\u001b[0;32m     90\u001b[0m             \u001b[1;32mreturn\u001b[0m \u001b[0mself\u001b[0m\u001b[1;33m.\u001b[0m\u001b[0mdispatch_call\u001b[0m\u001b[1;33m(\u001b[0m\u001b[0mframe\u001b[0m\u001b[1;33m,\u001b[0m \u001b[0marg\u001b[0m\u001b[1;33m)\u001b[0m\u001b[1;33m\u001b[0m\u001b[1;33m\u001b[0m\u001b[0m\n",
      "\u001b[1;32m~\\anaconda3\\lib\\bdb.py\u001b[0m in \u001b[0;36mdispatch_line\u001b[1;34m(self, frame)\u001b[0m\n\u001b[0;32m    111\u001b[0m         \u001b[1;32mif\u001b[0m \u001b[0mself\u001b[0m\u001b[1;33m.\u001b[0m\u001b[0mstop_here\u001b[0m\u001b[1;33m(\u001b[0m\u001b[0mframe\u001b[0m\u001b[1;33m)\u001b[0m \u001b[1;32mor\u001b[0m \u001b[0mself\u001b[0m\u001b[1;33m.\u001b[0m\u001b[0mbreak_here\u001b[0m\u001b[1;33m(\u001b[0m\u001b[0mframe\u001b[0m\u001b[1;33m)\u001b[0m\u001b[1;33m:\u001b[0m\u001b[1;33m\u001b[0m\u001b[1;33m\u001b[0m\u001b[0m\n\u001b[0;32m    112\u001b[0m             \u001b[0mself\u001b[0m\u001b[1;33m.\u001b[0m\u001b[0muser_line\u001b[0m\u001b[1;33m(\u001b[0m\u001b[0mframe\u001b[0m\u001b[1;33m)\u001b[0m\u001b[1;33m\u001b[0m\u001b[1;33m\u001b[0m\u001b[0m\n\u001b[1;32m--> 113\u001b[1;33m             \u001b[1;32mif\u001b[0m \u001b[0mself\u001b[0m\u001b[1;33m.\u001b[0m\u001b[0mquitting\u001b[0m\u001b[1;33m:\u001b[0m \u001b[1;32mraise\u001b[0m \u001b[0mBdbQuit\u001b[0m\u001b[1;33m\u001b[0m\u001b[1;33m\u001b[0m\u001b[0m\n\u001b[0m\u001b[0;32m    114\u001b[0m         \u001b[1;32mreturn\u001b[0m \u001b[0mself\u001b[0m\u001b[1;33m.\u001b[0m\u001b[0mtrace_dispatch\u001b[0m\u001b[1;33m\u001b[0m\u001b[1;33m\u001b[0m\u001b[0m\n\u001b[0;32m    115\u001b[0m \u001b[1;33m\u001b[0m\u001b[0m\n",
      "\u001b[1;31mBdbQuit\u001b[0m: "
     ]
    }
   ],
   "source": [
    "import pdb\n",
    "\n",
    "# regra 1\n",
    "if (media >= 9):\n",
    "    print('Aprovado')\n",
    "\n",
    "# regra 2\n",
    "elif (media >=6) and (frequencia >= 75):\n",
    "    print('Aprovado')\n",
    "    \n",
    "# regra 3\n",
    "elif (media >= 6) and (frequencia < 75): # ou fazer: (frequencia < 75)\n",
    "    print('Recuperação')\n",
    "    \n",
    "# regra 4\n",
    "elif (frequencia >= 75): ## ou fazer: (media < 6) and (frequencia >= 75)\n",
    "    pdb.set_trace()\n",
    "    print('Recuperação')\n",
    "\n",
    "# regra 5\n",
    "else:\n",
    "    print('Reprovado')"
   ]
  },
  {
   "cell_type": "code",
   "execution_count": null,
   "id": "cd2f35e5",
   "metadata": {},
   "outputs": [],
   "source": []
  }
 ],
 "metadata": {
  "kernelspec": {
   "display_name": "Python 3",
   "language": "python",
   "name": "python3"
  },
  "language_info": {
   "codemirror_mode": {
    "name": "ipython",
    "version": 3
   },
   "file_extension": ".py",
   "mimetype": "text/x-python",
   "name": "python",
   "nbconvert_exporter": "python",
   "pygments_lexer": "ipython3",
   "version": "3.8.8"
  },
  "toc": {
   "base_numbering": 1,
   "nav_menu": {},
   "number_sections": true,
   "sideBar": true,
   "skip_h1_title": false,
   "title_cell": "Table of Contents",
   "title_sidebar": "Contents",
   "toc_cell": false,
   "toc_position": {},
   "toc_section_display": true,
   "toc_window_display": true
  },
  "varInspector": {
   "cols": {
    "lenName": 16,
    "lenType": 16,
    "lenVar": 40
   },
   "kernels_config": {
    "python": {
     "delete_cmd_postfix": "",
     "delete_cmd_prefix": "del ",
     "library": "var_list.py",
     "varRefreshCmd": "print(var_dic_list())"
    },
    "r": {
     "delete_cmd_postfix": ") ",
     "delete_cmd_prefix": "rm(",
     "library": "var_list.r",
     "varRefreshCmd": "cat(var_dic_list()) "
    }
   },
   "types_to_exclude": [
    "module",
    "function",
    "builtin_function_or_method",
    "instance",
    "_Feature"
   ],
   "window_display": false
  }
 },
 "nbformat": 4,
 "nbformat_minor": 5
}
