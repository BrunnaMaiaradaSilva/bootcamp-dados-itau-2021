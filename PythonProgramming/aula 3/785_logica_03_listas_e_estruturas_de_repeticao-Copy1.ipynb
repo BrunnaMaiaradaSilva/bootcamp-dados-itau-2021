{
 "cells": [
  {
   "cell_type": "markdown",
   "metadata": {},
   "source": [
    "# Revisão"
   ]
  },
  {
   "cell_type": "markdown",
   "metadata": {
    "heading_collapsed": true
   },
   "source": [
    "# Aula 3 - Lista & Estruturas de repetição: while e for\n"
   ]
  },
  {
   "cell_type": "markdown",
   "metadata": {
    "hidden": true
   },
   "source": [
    "\n",
    "Na aula de hoje, vamos explorar os seguintes tópicos em Python:\n",
    "\n",
    "- 1) Laços de repetição: while\n",
    "- 2) Listas\n",
    "    - 2.1) Funções de listas\n",
    "- 3) Laços de repetição: for\n",
    "    - 3.1) Compreensão de listas"
   ]
  },
  {
   "cell_type": "markdown",
   "metadata": {
    "heading_collapsed": true
   },
   "source": [
    "# Habilidades a serem desenvolvidas"
   ]
  },
  {
   "cell_type": "markdown",
   "metadata": {
    "hidden": true
   },
   "source": [
    "Ao final da aula o aluno deve:\n",
    "\n",
    "- Saber utilizar corretamente o laço de repetição while:\n",
    "    - Aqui, é importante o conceito de redefinição de variável e atualização de valor;\n",
    "    - Saber como evitar e tratar loops infinitos;\n",
    "- Entender o conceito de lista como uma estrutura de dados;\n",
    "- Saber criar listas as mais diversas;\n",
    "- Conhecer as principais funções e métodos que operam sobre listas;\n",
    "- Conhecer o operador `for` como um iterador;\n",
    "- Conhecer e saber utilizar a função `range()`;\n",
    "- Saber utilizar o for como um laço de repetição;\n",
    "- Conhecer o operador break;\n",
    "- Saber o conceito e o operacional de compreensão de listas."
   ]
  },
  {
   "cell_type": "markdown",
   "metadata": {
    "heading_collapsed": true
   },
   "source": [
    "# Laços de repetição: while"
   ]
  },
  {
   "cell_type": "markdown",
   "metadata": {
    "hidden": true
   },
   "source": [
    "\n",
    "Uma das utilidades de linguagens de programação é a de automatizar tarefas que são repetitivas.\n",
    "\n",
    "Mas, pra isso ser viável, seria bom se tivéssemos uma estrutura para **repetir comandos**, não é mesmo?\n",
    "\n",
    "Imagine que eu queira exibir na tela \"Olá, mundo!\" 5 vezes. Podemos fazer:"
   ]
  },
  {
   "cell_type": "code",
   "execution_count": 31,
   "metadata": {
    "hidden": true
   },
   "outputs": [
    {
     "name": "stdout",
     "output_type": "stream",
     "text": [
      "Olá, mundo!\n",
      "Olá, mundo!\n",
      "Olá, mundo!\n",
      "Olá, mundo!\n",
      "Olá, mundo!\n"
     ]
    }
   ],
   "source": [
    "print(\"Olá, mundo!\")\n",
    "print(\"Olá, mundo!\")\n",
    "print(\"Olá, mundo!\")\n",
    "print(\"Olá, mundo!\")\n",
    "print(\"Olá, mundo!\")"
   ]
  },
  {
   "cell_type": "markdown",
   "metadata": {
    "hidden": true
   },
   "source": [
    "Mas, e se eu quiser exibir essa mensagem 1000 vezes? Ou 1 milhão de vezes? Não é ideal escrevermos o mesmo pedaço de código tantas vezes, né?\n",
    "\n",
    "Para isso, existem os **laços de repetição**, que permitem repetir pedaços de código quantas vezes desejarmos!\n",
    "\n",
    "O primeiro laço que vamos ver é o **while**. Este laço tem a seguinte estrutura:\n",
    "\n",
    "```python\n",
    "while (condicao é True):\n",
    "    operacao_repetida\n",
    "```\n",
    "\n",
    "Ou seja, o que tá no bloco do while é repetido **enquanto a condição for verdadeira**"
   ]
  },
  {
   "cell_type": "markdown",
   "metadata": {
    "hidden": true
   },
   "source": [
    "Isso pode levar a **loops infinitos**"
   ]
  },
  {
   "cell_type": "code",
   "execution_count": 2,
   "metadata": {
    "hidden": true
   },
   "outputs": [],
   "source": [
    "#while 2==2:\n",
    "    \n",
    "    #print(\"Olá, mundo\")"
   ]
  },
  {
   "cell_type": "markdown",
   "metadata": {
    "hidden": true
   },
   "source": [
    "Para que loops infinitos não aconteçam, temos que fazer uma **atualização da condição** a cada iteração do laço!\n",
    "\n",
    "Isso é, temos que **atualizar** a variavel que contabiliza as repetições no loop"
   ]
  },
  {
   "cell_type": "code",
   "execution_count": 33,
   "metadata": {
    "hidden": true
   },
   "outputs": [
    {
     "data": {
      "text/plain": [
       "5"
      ]
     },
     "execution_count": 33,
     "metadata": {},
     "output_type": "execute_result"
    }
   ],
   "source": [
    "# vamos definir uma variável\n",
    "# \"x recebe o valor'aa' 2\"\n",
    "\n",
    "x = 2\n",
    "\n",
    "# podemos redefinir a variável em termos do valor anterior dela\n",
    "# \"x recebe o valor que tinha ANTES na variável, + 3\"\n",
    "x = x + 3\n",
    "\n",
    "# chamando a variável\n",
    "x"
   ]
  },
  {
   "cell_type": "markdown",
   "metadata": {
    "hidden": true
   },
   "source": [
    "Assim, o que fazemos é **definir a condição do while em termos de uma variável que tenha seu valor atualizado!**\n",
    "\n",
    "Para isso, é comum nos referirmos à variàvel da condição como **variável contadora**.\n",
    "\n",
    "Para atualizar a variável contadora dentro do while, em geral a atualizamos em +1"
   ]
  },
  {
   "cell_type": "code",
   "execution_count": 34,
   "metadata": {
    "hidden": true
   },
   "outputs": [
    {
     "name": "stdout",
     "output_type": "stream",
     "text": [
      "Olá mundo\n",
      "Olá mundo\n",
      "Olá mundo\n",
      "Olá mundo\n",
      "Olá mundo\n"
     ]
    }
   ],
   "source": [
    "cont = 0\n",
    "\n",
    "while cont < 5:\n",
    "    \n",
    "    print(\"Olá mundo\")\n",
    "    \n",
    "    cont = cont + 1"
   ]
  },
  {
   "cell_type": "markdown",
   "metadata": {
    "hidden": true
   },
   "source": [
    "Vamos entender um pouco melhor como a variável contadora se comporta?\n",
    "\n",
    "Pra isso, basta exibi-la a cada iteração:"
   ]
  },
  {
   "cell_type": "code",
   "execution_count": 35,
   "metadata": {
    "hidden": true
   },
   "outputs": [
    {
     "name": "stdout",
     "output_type": "stream",
     "text": [
      "0\n",
      "1\n",
      "2\n",
      "3\n",
      "4\n"
     ]
    }
   ],
   "source": [
    "cont = 0\n",
    "\n",
    "while cont < 5:\n",
    "    \n",
    "    print(cont)\n",
    "    \n",
    "    # cont += 1\n",
    "    cont = cont + 1"
   ]
  },
  {
   "cell_type": "markdown",
   "metadata": {
    "hidden": true
   },
   "source": [
    "O código acima equivale a:"
   ]
  },
  {
   "cell_type": "code",
   "execution_count": 36,
   "metadata": {
    "hidden": true
   },
   "outputs": [
    {
     "name": "stdout",
     "output_type": "stream",
     "text": [
      "0\n",
      "1\n",
      "2\n",
      "3\n",
      "4\n"
     ]
    }
   ],
   "source": [
    "# inicialmente, a variavel cont vale 0\n",
    "cont = 0\n",
    "print(cont)\n",
    "\n",
    "# pegamos o valor anterior (0) e somamos 1, ficando 1\n",
    "cont = cont + 1\n",
    "print(cont)\n",
    "\n",
    "# pegamos o valor anterior (1) e somamos 1, ficando 2\n",
    "cont = cont + 1\n",
    "print(cont)\n",
    "\n",
    "# pegamos o valor anterior (2) e somamos 1, ficando 3\n",
    "cont = cont + 1\n",
    "print(cont)\n",
    "\n",
    "# pegamos o valor anterior (3) e somamos 1, ficando 4\n",
    "cont = cont + 1\n",
    "print(cont)"
   ]
  },
  {
   "cell_type": "markdown",
   "metadata": {
    "hidden": true
   },
   "source": [
    "Usar a condição com < ao invés de != em geral garante maior segurança ao seu algoritmo, pois evita imprevistos caso você receba números do usuário!"
   ]
  },
  {
   "cell_type": "markdown",
   "metadata": {
    "hidden": true
   },
   "source": [
    "Podemos também atualizar a condição de repetição segundo informado pelo usuário\n",
    "\n",
    "Esse uso é bem importante para **garantir que o usuário digitou corretamente o que foi solicitado**\n",
    "\n",
    "Por exemplo, vamos pedir pro usuário digitar um número maior que 10. **Enquanto ele não fizer o que queremos**, vamos continuar pedindo pra ele digitar um novo valor:"
   ]
  },
  {
   "cell_type": "code",
   "execution_count": 37,
   "metadata": {
    "hidden": true
   },
   "outputs": [
    {
     "name": "stdout",
     "output_type": "stream",
     "text": [
      "Digite um número maior que 10: 2\n",
      "Número inválido!\n",
      "Digite novamente um número MAIOR QUE 10: -10\n",
      "Número inválido!\n",
      "Digite novamente um número MAIOR QUE 10: 8\n",
      "Número inválido!\n",
      "Digite novamente um número MAIOR QUE 10: 10\n",
      "Número inválido!\n",
      "Digite novamente um número MAIOR QUE 10: 13\n",
      "\n",
      "O número digitado foi: 13.0\n"
     ]
    }
   ],
   "source": [
    "# pedimos um número ao usuário pela primeira vez:\n",
    "num = float(input(\"Digite um número maior que 10: \"))\n",
    "\n",
    "# enquanto o número digitado for menor que 10 (note que usamos <= pq queremos numeros MAIORES que 10!) ...\n",
    "while num <= 10 :\n",
    "    \n",
    "    # ...pedimos o número novamente, e atualizamos o valor da variável num    \n",
    "    num = float(input(\"Número inválido!\\nDigite novamente um número MAIOR QUE 10: \"))\n",
    "    \n",
    "# aqui já é fora do laço (note que não teve indentação!)\n",
    "print(\"\\nO número digitado foi:\", num)"
   ]
  },
  {
   "cell_type": "markdown",
   "metadata": {
    "hidden": true
   },
   "source": [
    "Outro exemplo, onde pedirmos pro usuário digitar sua nota (para ser um valor válido, tem que estar entre 0 e 10!)"
   ]
  },
  {
   "cell_type": "code",
   "execution_count": 38,
   "metadata": {
    "hidden": true
   },
   "outputs": [
    {
     "name": "stdout",
     "output_type": "stream",
     "text": [
      "Digite a nota da prova: 12\n",
      "Nota invávlida!\n",
      "Digite novamente (entre 0 e 10) -5\n",
      "Nota invávlida!\n",
      "Digite novamente (entre 0 e 10) 8\n",
      "\n",
      "A nota digitada foi: 8.0\n"
     ]
    }
   ],
   "source": [
    "nota = float(input(\"Digite a nota da prova: \"))\n",
    "\n",
    "while nota > 10 or nota < 0 :\n",
    "      \n",
    "    nota = float(input(\"Nota invávlida!\\nDigite novamente (entre 0 e 10) \"))\n",
    "    \n",
    "print(\"\\nA nota digitada foi:\", nota)"
   ]
  },
  {
   "cell_type": "markdown",
   "metadata": {
    "hidden": true
   },
   "source": [
    "Outro exemplo..."
   ]
  },
  {
   "cell_type": "code",
   "execution_count": 40,
   "metadata": {
    "hidden": true
   },
   "outputs": [
    {
     "name": "stdout",
     "output_type": "stream",
     "text": [
      "Digite seu sexo: masculino\n",
      "Sexo inválido!\n",
      "Digite seu sexo: feminino\n",
      "Sexo inválido!\n",
      "Digite seu sexo: m\n",
      "Sexo inválido!\n",
      "Digite seu sexo: M\n",
      "\n",
      "O sexo digitado foi: M\n"
     ]
    }
   ],
   "source": [
    "sexo = input(\"Digite seu sexo: \")\n",
    "\n",
    "while sexo != \"M\" and sexo != \"F\" and sexo != \"Outro\":\n",
    "        \n",
    "    sexo = input(\"Sexo inválido!\\nDigite seu sexo: \")\n",
    "\n",
    "print(\"\\nO sexo digitado foi:\", sexo)"
   ]
  },
  {
   "cell_type": "markdown",
   "metadata": {
    "heading_collapsed": true
   },
   "source": [
    "# Listas"
   ]
  },
  {
   "cell_type": "markdown",
   "metadata": {
    "hidden": true
   },
   "source": [
    "Imagine que você quer armazenar várias variáveis relacionadas, como, por exemplo, todas suas notas em provas.\n",
    "\n",
    "Se houver muitas notas, não é muito prático criar uma variável para cada uma. Seria muito mais conveniente armazenar todas as notas em uma **lista**, não é mesmo? \n",
    "\n",
    "Em python, temos uma estrutura de dados que é exatamente isso: uma lista! Listas são indicadas por colchete []\n",
    "\n",
    "Uma lista nada mais é que um **conjunto de objetos**, que podem ser de diversos tipos:"
   ]
  },
  {
   "cell_type": "markdown",
   "metadata": {
    "hidden": true
   },
   "source": [
    "Lista de números (int e float)"
   ]
  },
  {
   "cell_type": "code",
   "execution_count": 1,
   "metadata": {
    "hidden": true
   },
   "outputs": [],
   "source": [
    "lista = [1, 2, 45, 44, 3.14, 42, 65.45567, -346346]"
   ]
  },
  {
   "cell_type": "code",
   "execution_count": 2,
   "metadata": {
    "hidden": true
   },
   "outputs": [
    {
     "data": {
      "text/plain": [
       "[1, 2, 45, 44, 3.14, 42, 65.45567, -346346]"
      ]
     },
     "execution_count": 2,
     "metadata": {},
     "output_type": "execute_result"
    }
   ],
   "source": [
    "lista"
   ]
  },
  {
   "cell_type": "markdown",
   "metadata": {
    "hidden": true
   },
   "source": [
    "Lista de strings"
   ]
  },
  {
   "cell_type": "code",
   "execution_count": 3,
   "metadata": {
    "hidden": true
   },
   "outputs": [],
   "source": [
    "lista_de_strings = [\"a\", \"olá, mundo\", \"andré\"]"
   ]
  },
  {
   "cell_type": "code",
   "execution_count": 4,
   "metadata": {
    "hidden": true
   },
   "outputs": [
    {
     "data": {
      "text/plain": [
       "['a', 'olá, mundo', 'andré']"
      ]
     },
     "execution_count": 4,
     "metadata": {},
     "output_type": "execute_result"
    }
   ],
   "source": [
    "lista_de_strings"
   ]
  },
  {
   "cell_type": "markdown",
   "metadata": {
    "hidden": true
   },
   "source": [
    "Lista de números e strings"
   ]
  },
  {
   "cell_type": "code",
   "execution_count": 5,
   "metadata": {
    "hidden": true
   },
   "outputs": [
    {
     "data": {
      "text/plain": [
       "['andré', 343, -34.545]"
      ]
     },
     "execution_count": 5,
     "metadata": {},
     "output_type": "execute_result"
    }
   ],
   "source": [
    "listas_num_strings = [\"andré\", 343, -34.545]\n",
    "\n",
    "listas_num_strings"
   ]
  },
  {
   "cell_type": "markdown",
   "metadata": {
    "hidden": true
   },
   "source": [
    "Lista de listas"
   ]
  },
  {
   "cell_type": "code",
   "execution_count": 6,
   "metadata": {
    "hidden": true
   },
   "outputs": [
    {
     "data": {
      "text/plain": [
       "[[1, 2, 3], ['oi', 'python']]"
      ]
     },
     "execution_count": 6,
     "metadata": {},
     "output_type": "execute_result"
    }
   ],
   "source": [
    "lista_de_listas = [[1, 2, 3], [\"oi\", \"python\"]]\n",
    "\n",
    "lista_de_listas"
   ]
  },
  {
   "cell_type": "markdown",
   "metadata": {
    "hidden": true
   },
   "source": [
    "Tudo junto"
   ]
  },
  {
   "cell_type": "code",
   "execution_count": 7,
   "metadata": {
    "hidden": true
   },
   "outputs": [
    {
     "data": {
      "text/plain": [
       "['ar', 3, 2, True, 'andre']"
      ]
     },
     "execution_count": 7,
     "metadata": {},
     "output_type": "execute_result"
    }
   ],
   "source": [
    "numero = 2\n",
    "nome = \"andre\"\n",
    "\n",
    "lista = [\"ar\", 3, numero, True, nome]\n",
    "\n",
    "lista"
   ]
  },
  {
   "cell_type": "markdown",
   "metadata": {
    "hidden": true
   },
   "source": [
    "## Indices de listas"
   ]
  },
  {
   "cell_type": "markdown",
   "metadata": {
    "hidden": true
   },
   "source": [
    "Muitas vezes, queremos **acessar elementos individuais** da lista. \n",
    "\n",
    "Para fazer isso, devemos indicar qual é o **índice** respectivo ao elemento, isto é, qual é a **posição** do elemento dentro da lista\n",
    "\n",
    "Para acessar o elemento na **posição i** da lista \"minha_lista\", fazemos:\n",
    "\n",
    "```python\n",
    "minha_lista[i]\n",
    "```\n",
    "\n",
    "__MUITO IMPORTANTE: a numeração de índice começa em zero!__\n",
    "\n",
    "Ou seja:\n",
    "\n",
    "- O primeiro elemento tem índice 0: ```minha_lista[0]``` ,\n",
    "- O segundo tem índice 1: ```minha_lista[1]```,\n",
    "\n",
    "E assim por diante!\n",
    "\n",
    "Também podemos acessar os últimos elementos, usando índices negativos:\n",
    "\n",
    "- O último elemento tem índice -1: ```minha_lista[-1]```,\n",
    "- O penúltimo tem índice -2: ```minha_lista[-2]```,\n",
    "\n",
    "E assim por diante!"
   ]
  },
  {
   "cell_type": "code",
   "execution_count": 8,
   "metadata": {
    "hidden": true
   },
   "outputs": [],
   "source": [
    "minha_lista = [\"a\", \"b\", \"c\"]"
   ]
  },
  {
   "cell_type": "code",
   "execution_count": 9,
   "metadata": {
    "hidden": true
   },
   "outputs": [
    {
     "data": {
      "text/plain": [
       "'a'"
      ]
     },
     "execution_count": 9,
     "metadata": {},
     "output_type": "execute_result"
    }
   ],
   "source": [
    "minha_lista[0]"
   ]
  },
  {
   "cell_type": "code",
   "execution_count": 10,
   "metadata": {
    "hidden": true
   },
   "outputs": [
    {
     "data": {
      "text/plain": [
       "'c'"
      ]
     },
     "execution_count": 10,
     "metadata": {},
     "output_type": "execute_result"
    }
   ],
   "source": [
    "minha_lista[-1]"
   ]
  },
  {
   "cell_type": "code",
   "execution_count": 11,
   "metadata": {
    "hidden": true
   },
   "outputs": [],
   "source": [
    "minha_lista = [42, 73, 435]"
   ]
  },
  {
   "cell_type": "code",
   "execution_count": 12,
   "metadata": {
    "hidden": true
   },
   "outputs": [
    {
     "data": {
      "text/plain": [
       "73"
      ]
     },
     "execution_count": 12,
     "metadata": {},
     "output_type": "execute_result"
    }
   ],
   "source": [
    "minha_lista[1]"
   ]
  },
  {
   "cell_type": "markdown",
   "metadata": {
    "hidden": true
   },
   "source": [
    "## Slicers"
   ]
  },
  {
   "cell_type": "markdown",
   "metadata": {
    "hidden": true
   },
   "source": [
    "Também podemos **acessar pedaços da lista**, indicando o intervalo de índices que queremos, separados por \":\",  **com intervalo superior aberto**:\n",
    "\n",
    "- ```minha_lista[1:3]```: seleciona os elementos de indice 1 até indice 2\n",
    "- ```minha_lista[:4]```: seleciona do primeiro elemento até o de índice 3\n",
    "- ```minha_lista[3:]```: seleciona do elemento de índice 3 até o final\n",
    "- ```minha_lista[:]```: seleciona a lista inteira\n",
    "\n",
    "Este conceito é chamado de \"slicing\" em Python, pois você está pegando \"fatias\" da lista!"
   ]
  },
  {
   "cell_type": "code",
   "execution_count": 13,
   "metadata": {
    "hidden": true
   },
   "outputs": [],
   "source": [
    "minha_lista = [\"a\", \"b\", \"c\", 42, 73, 435, [1, 3, 4]]"
   ]
  },
  {
   "cell_type": "code",
   "execution_count": 14,
   "metadata": {
    "hidden": true
   },
   "outputs": [
    {
     "data": {
      "text/plain": [
       "['a', 'b']"
      ]
     },
     "execution_count": 14,
     "metadata": {},
     "output_type": "execute_result"
    }
   ],
   "source": [
    "minha_lista[0:2]"
   ]
  },
  {
   "cell_type": "code",
   "execution_count": 15,
   "metadata": {
    "hidden": true
   },
   "outputs": [
    {
     "data": {
      "text/plain": [
       "['a', 'b', 'c', 42]"
      ]
     },
     "execution_count": 15,
     "metadata": {},
     "output_type": "execute_result"
    }
   ],
   "source": [
    "minha_lista[:4]"
   ]
  },
  {
   "cell_type": "code",
   "execution_count": 16,
   "metadata": {
    "hidden": true
   },
   "outputs": [
    {
     "data": {
      "text/plain": [
       "[42, 73, 435, [1, 3, 4]]"
      ]
     },
     "execution_count": 16,
     "metadata": {},
     "output_type": "execute_result"
    }
   ],
   "source": [
    "minha_lista[-4:]"
   ]
  },
  {
   "cell_type": "code",
   "execution_count": 17,
   "metadata": {
    "hidden": true
   },
   "outputs": [
    {
     "data": {
      "text/plain": [
       "[1, 3, 4]"
      ]
     },
     "execution_count": 17,
     "metadata": {},
     "output_type": "execute_result"
    }
   ],
   "source": [
    "minha_lista[-1]"
   ]
  },
  {
   "cell_type": "code",
   "execution_count": 18,
   "metadata": {
    "hidden": true
   },
   "outputs": [
    {
     "data": {
      "text/plain": [
       "1"
      ]
     },
     "execution_count": 18,
     "metadata": {},
     "output_type": "execute_result"
    }
   ],
   "source": [
    "minha_lista[-1][0]"
   ]
  },
  {
   "cell_type": "markdown",
   "metadata": {
    "hidden": true
   },
   "source": [
    "## Operações com listas"
   ]
  },
  {
   "cell_type": "markdown",
   "metadata": {
    "hidden": true
   },
   "source": [
    "Podemos também fazer algumas **operações com listas**"
   ]
  },
  {
   "cell_type": "markdown",
   "metadata": {
    "hidden": true
   },
   "source": [
    "Soma de listas: ao **somar listas**, os elementos são **concatenados**, na ordem dada, para formar uma lista maior:"
   ]
  },
  {
   "cell_type": "code",
   "execution_count": 19,
   "metadata": {
    "hidden": true
   },
   "outputs": [
    {
     "data": {
      "text/plain": [
       "[1, 2, 3, 'a', 'b', 'c', 434]"
      ]
     },
     "execution_count": 19,
     "metadata": {},
     "output_type": "execute_result"
    }
   ],
   "source": [
    "lista1 = [1, 2, 3]\n",
    "lista2 = [\"a\", \"b\", \"c\", 434]\n",
    "\n",
    "lista1 + lista2"
   ]
  },
  {
   "cell_type": "markdown",
   "metadata": {
    "hidden": true
   },
   "source": [
    "Ao **multiplicar listas por um inteiro**, os elementos são repetidos, na ordem que aparecem:"
   ]
  },
  {
   "cell_type": "code",
   "execution_count": 20,
   "metadata": {
    "hidden": true
   },
   "outputs": [
    {
     "data": {
      "text/plain": [
       "[1, 2, 3, 1, 2, 3]"
      ]
     },
     "execution_count": 20,
     "metadata": {},
     "output_type": "execute_result"
    }
   ],
   "source": [
    "lista1 * 2"
   ]
  },
  {
   "cell_type": "markdown",
   "metadata": {
    "hidden": true
   },
   "source": [
    "Se quisermos somar os elementos de duas listas, ou multiplicá-los por algum número, temos que usar um **laço**, como veremos logo mais!"
   ]
  },
  {
   "cell_type": "markdown",
   "metadata": {
    "hidden": true
   },
   "source": [
    "É possível transformar strings em uma **lista de caracteres**:"
   ]
  },
  {
   "cell_type": "code",
   "execution_count": 65,
   "metadata": {
    "hidden": true
   },
   "outputs": [
    {
     "data": {
      "text/plain": [
       "['p', 'y', 't', 'h', 'o', 'n']"
      ]
     },
     "execution_count": 65,
     "metadata": {},
     "output_type": "execute_result"
    }
   ],
   "source": [
    "list(\"python\")"
   ]
  },
  {
   "cell_type": "markdown",
   "metadata": {
    "hidden": true
   },
   "source": [
    "## Funções de listas"
   ]
  },
  {
   "cell_type": "markdown",
   "metadata": {
    "hidden": true
   },
   "source": [
    "Podemos começar com uma lista vazia, e preenchê-la aos poucos.\n",
    "\n",
    "Para **criar uma lista vazia**, fazemos:"
   ]
  },
  {
   "cell_type": "code",
   "execution_count": 21,
   "metadata": {
    "hidden": true
   },
   "outputs": [
    {
     "data": {
      "text/plain": [
       "[]"
      ]
     },
     "execution_count": 21,
     "metadata": {},
     "output_type": "execute_result"
    }
   ],
   "source": [
    "# tanto faz o list() ou o []\n",
    "# lista_vazia = list()\n",
    "\n",
    "lista_vazia = []\n",
    "\n",
    "lista_vazia"
   ]
  },
  {
   "cell_type": "markdown",
   "metadata": {
    "hidden": true
   },
   "source": [
    "### Append"
   ]
  },
  {
   "cell_type": "markdown",
   "metadata": {
    "hidden": true
   },
   "source": [
    "Para adicionar um elemento **ao fim da lista**, usamos a função \"append()\".\n",
    "\n",
    "**OBS.: só podemos apendar um único elemento por vez!**"
   ]
  },
  {
   "cell_type": "code",
   "execution_count": 22,
   "metadata": {
    "hidden": true
   },
   "outputs": [
    {
     "name": "stdout",
     "output_type": "stream",
     "text": [
      "[1, 2, 3]\n",
      "[1, 2, 3, 4, '232', True]\n"
     ]
    }
   ],
   "source": [
    "# lista inicial\n",
    "lista = [1, 2, 3]\n",
    "\n",
    "# print da lista antes do append\n",
    "print(lista)\n",
    "\n",
    "# append\n",
    "lista.append(4)\n",
    "lista.append(\"232\")\n",
    "lista.append(True)\n",
    "\n",
    "# print da lista após o append\n",
    "print(lista)"
   ]
  },
  {
   "cell_type": "markdown",
   "metadata": {
    "hidden": true
   },
   "source": [
    "### Insert"
   ]
  },
  {
   "cell_type": "markdown",
   "metadata": {
    "hidden": true
   },
   "source": [
    "Se você quiser adicionar um elemento numa **posição específica**, use a função \"insert()\", onde o primeiro argumento é a posição, e o segundo é o elemento:\n",
    "\n",
    "**OBS.: só podemos inserir um único elemento por vez!**"
   ]
  },
  {
   "cell_type": "code",
   "execution_count": 23,
   "metadata": {
    "hidden": true
   },
   "outputs": [
    {
     "data": {
      "text/plain": [
       "[1, 'a', 2, 3]"
      ]
     },
     "execution_count": 23,
     "metadata": {},
     "output_type": "execute_result"
    }
   ],
   "source": [
    "# inserindo um elemento na posição inicial\n",
    "\n",
    "lista = [1, 2, 3]\n",
    "\n",
    "lista.insert(1, \"a\")\n",
    "\n",
    "lista"
   ]
  },
  {
   "cell_type": "markdown",
   "metadata": {
    "hidden": true
   },
   "source": [
    "### Redefinindo um elemento"
   ]
  },
  {
   "cell_type": "markdown",
   "metadata": {
    "hidden": true
   },
   "source": [
    "Podemos, também, **redefinir um elemento da lista individualmente**. Para isso, basta selecionarmos este elemento, e redefiní-lo:"
   ]
  },
  {
   "cell_type": "code",
   "execution_count": 24,
   "metadata": {
    "hidden": true
   },
   "outputs": [],
   "source": [
    "# redefinindo um elemento pela posicao\n",
    "\n",
    "lista[1] = \"b\""
   ]
  },
  {
   "cell_type": "code",
   "execution_count": 25,
   "metadata": {
    "hidden": true
   },
   "outputs": [],
   "source": [
    "lista[-1] = \"qualuer coisa\""
   ]
  },
  {
   "cell_type": "code",
   "execution_count": 26,
   "metadata": {
    "hidden": true
   },
   "outputs": [
    {
     "data": {
      "text/plain": [
       "[1, 'b', 2, 'qualuer coisa']"
      ]
     },
     "execution_count": 26,
     "metadata": {},
     "output_type": "execute_result"
    }
   ],
   "source": [
    "lista"
   ]
  },
  {
   "cell_type": "markdown",
   "metadata": {
    "hidden": true
   },
   "source": [
    "### Remove e pop"
   ]
  },
  {
   "cell_type": "markdown",
   "metadata": {
    "hidden": true
   },
   "source": [
    "Para **remover um elemento da lista**, use a função \"remove()\". \n",
    "\n",
    "**OBS.: Essa função remove apenas a primeira aparição do elemento**"
   ]
  },
  {
   "cell_type": "code",
   "execution_count": 27,
   "metadata": {
    "hidden": true
   },
   "outputs": [],
   "source": [
    "# removendo um elemento\n",
    "\n",
    "lista.remove(\"b\")"
   ]
  },
  {
   "cell_type": "markdown",
   "metadata": {
    "hidden": true
   },
   "source": [
    "Se você quiser remover um elemento de determinado índice, use a função \"pop()\":"
   ]
  },
  {
   "cell_type": "code",
   "execution_count": 28,
   "metadata": {
    "hidden": true
   },
   "outputs": [
    {
     "data": {
      "text/plain": [
       "2"
      ]
     },
     "execution_count": 28,
     "metadata": {},
     "output_type": "execute_result"
    }
   ],
   "source": [
    "# removendo elemento pelo indice\n",
    "\n",
    "lista.pop(1)"
   ]
  },
  {
   "cell_type": "code",
   "execution_count": 29,
   "metadata": {
    "hidden": true
   },
   "outputs": [
    {
     "name": "stdout",
     "output_type": "stream",
     "text": [
      "['abacate', 'a', 'b', 42, True]\n",
      "['abacate', 'a', 'b', True]\n",
      "['a', 'b', True]\n"
     ]
    }
   ],
   "source": [
    "lista = [\"abacate\", \"a\", \"b\", 42, True]\n",
    "\n",
    "print(lista)\n",
    "\n",
    "lista.remove(42)\n",
    "\n",
    "print(lista)\n",
    "\n",
    "lista.pop(0)\n",
    "\n",
    "print(lista)"
   ]
  },
  {
   "cell_type": "markdown",
   "metadata": {
    "hidden": true
   },
   "source": [
    "### Ordenação"
   ]
  },
  {
   "cell_type": "markdown",
   "metadata": {
    "hidden": true
   },
   "source": [
    "Muitas vezes é interessante **ordenar a lista**. Pra fazer isso, usamos a função \"sorted\".\n",
    "\n",
    "**OBS: essa função só funciona para listas com o mesmo tipo de dado!**"
   ]
  },
  {
   "cell_type": "code",
   "execution_count": 30,
   "metadata": {
    "hidden": true
   },
   "outputs": [],
   "source": [
    "lista = [34, 2, 5, 8, -34]"
   ]
  },
  {
   "cell_type": "code",
   "execution_count": 31,
   "metadata": {
    "hidden": true
   },
   "outputs": [
    {
     "data": {
      "text/plain": [
       "[-34, 2, 5, 8, 34]"
      ]
     },
     "execution_count": 31,
     "metadata": {},
     "output_type": "execute_result"
    }
   ],
   "source": [
    "sorted(lista)"
   ]
  },
  {
   "cell_type": "code",
   "execution_count": 32,
   "metadata": {
    "hidden": true
   },
   "outputs": [
    {
     "data": {
      "text/plain": [
       "['998', 'abacate', 'laranja', 'pera']"
      ]
     },
     "execution_count": 32,
     "metadata": {},
     "output_type": "execute_result"
    }
   ],
   "source": [
    "# ordenando lista de strings: por ordem alfabética, segundo a tabela ascii\n",
    "lista_strings = [\"abacate\", \"pera\", \"laranja\", \"998\"]\n",
    "\n",
    "sorted(lista_strings)"
   ]
  },
  {
   "cell_type": "code",
   "execution_count": 33,
   "metadata": {
    "hidden": true
   },
   "outputs": [
    {
     "data": {
      "text/plain": [
       "[-34, 2, 5, 8, 34]"
      ]
     },
     "execution_count": 33,
     "metadata": {},
     "output_type": "execute_result"
    }
   ],
   "source": [
    "lista = [34, 2, 5, 8, -34]\n",
    "\n",
    "lista_ordenada = sorted(lista)\n",
    "\n",
    "lista_ordenada"
   ]
  },
  {
   "cell_type": "markdown",
   "metadata": {
    "hidden": true
   },
   "source": [
    "Para **inverter a ordem dos elementos**, adicione ao final da lista [::-1]:"
   ]
  },
  {
   "cell_type": "code",
   "execution_count": 34,
   "metadata": {
    "hidden": true
   },
   "outputs": [
    {
     "data": {
      "text/plain": [
       "[-34, 8, 5, 2, 34]"
      ]
     },
     "execution_count": 34,
     "metadata": {},
     "output_type": "execute_result"
    }
   ],
   "source": [
    "lista = [34, 2, 5, 8, -34]\n",
    "\n",
    "# essa é a forma de inverter a lista\n",
    "lista[::-1]"
   ]
  },
  {
   "cell_type": "markdown",
   "metadata": {
    "hidden": true
   },
   "source": [
    "Isso pode ser usado para ordenar uma lista na ordem inversa (maior pro menor):"
   ]
  },
  {
   "cell_type": "code",
   "execution_count": 35,
   "metadata": {
    "hidden": true
   },
   "outputs": [
    {
     "data": {
      "text/plain": [
       "[34, 8, 5, 2, -34]"
      ]
     },
     "execution_count": 35,
     "metadata": {},
     "output_type": "execute_result"
    }
   ],
   "source": [
    "# inverte a ordem\n",
    "\n",
    "sorted(lista)[::-1]"
   ]
  },
  {
   "cell_type": "markdown",
   "metadata": {
    "hidden": true
   },
   "source": [
    "Se quisermos saber **qual é a posição (índice) de determinado elemento**, usamos o método \".index()\".\n",
    "\n",
    "Este método retorna apenas a **primeira aparição** do elemento:"
   ]
  },
  {
   "cell_type": "code",
   "execution_count": 36,
   "metadata": {
    "hidden": true
   },
   "outputs": [
    {
     "data": {
      "text/plain": [
       "3"
      ]
     },
     "execution_count": 36,
     "metadata": {},
     "output_type": "execute_result"
    }
   ],
   "source": [
    "lista = [34, 2, 5, 8, 8, 8, -34]\n",
    "\n",
    "lista.index(8)"
   ]
  },
  {
   "cell_type": "markdown",
   "metadata": {
    "hidden": true
   },
   "source": [
    "Por fim, podemos encontrar algumas **propriedades dos elementos da lista:**"
   ]
  },
  {
   "cell_type": "code",
   "execution_count": 37,
   "metadata": {
    "hidden": true
   },
   "outputs": [],
   "source": [
    "lista = [34, 2, 5, 8, 8, 8, -37]"
   ]
  },
  {
   "cell_type": "markdown",
   "metadata": {
    "hidden": true
   },
   "source": [
    "Para encontrar o maior elemento, use \"max()\":"
   ]
  },
  {
   "cell_type": "code",
   "execution_count": 38,
   "metadata": {
    "hidden": true
   },
   "outputs": [
    {
     "data": {
      "text/plain": [
       "34"
      ]
     },
     "execution_count": 38,
     "metadata": {},
     "output_type": "execute_result"
    }
   ],
   "source": [
    "max(lista)"
   ]
  },
  {
   "cell_type": "markdown",
   "metadata": {
    "hidden": true
   },
   "source": [
    "Para encontrar o menor elemento, use \"min()\":"
   ]
  },
  {
   "cell_type": "code",
   "execution_count": 39,
   "metadata": {
    "hidden": true
   },
   "outputs": [
    {
     "data": {
      "text/plain": [
       "-37"
      ]
     },
     "execution_count": 39,
     "metadata": {},
     "output_type": "execute_result"
    }
   ],
   "source": [
    "min(lista)"
   ]
  },
  {
   "cell_type": "markdown",
   "metadata": {
    "hidden": true
   },
   "source": [
    "Para encontrar o número de elementos (ou seja, qual é o \"tamanho\" da lista), use \"len()\":"
   ]
  },
  {
   "cell_type": "code",
   "execution_count": 40,
   "metadata": {
    "hidden": true
   },
   "outputs": [
    {
     "data": {
      "text/plain": [
       "7"
      ]
     },
     "execution_count": 40,
     "metadata": {},
     "output_type": "execute_result"
    }
   ],
   "source": [
    "len(lista)"
   ]
  },
  {
   "cell_type": "markdown",
   "metadata": {
    "hidden": true
   },
   "source": [
    "Para somar os elementos da lista, use \"sum()\":"
   ]
  },
  {
   "cell_type": "code",
   "execution_count": 41,
   "metadata": {
    "hidden": true
   },
   "outputs": [
    {
     "data": {
      "text/plain": [
       "28"
      ]
     },
     "execution_count": 41,
     "metadata": {},
     "output_type": "execute_result"
    }
   ],
   "source": [
    "sum(lista)"
   ]
  },
  {
   "cell_type": "markdown",
   "metadata": {
    "hidden": true
   },
   "source": [
    "Agora fica bem fácil encontrar a média dos números em uma lista:"
   ]
  },
  {
   "cell_type": "code",
   "execution_count": 42,
   "metadata": {
    "hidden": true
   },
   "outputs": [
    {
     "name": "stdout",
     "output_type": "stream",
     "text": [
      "8.32\n"
     ]
    }
   ],
   "source": [
    "notas = [9, 8, 7, 7.6, 10]\n",
    "\n",
    "media = sum(notas)/len(notas)\n",
    "\n",
    "print(media)"
   ]
  },
  {
   "cell_type": "markdown",
   "metadata": {
    "hidden": true
   },
   "source": [
    "__Um exemplo para o cálculo de média dos valores em uma lista...__\n",
    "\n",
    "Mas fazemos o usuário digitar os elementos da lista, um a um!"
   ]
  },
  {
   "cell_type": "code",
   "execution_count": 43,
   "metadata": {
    "hidden": true
   },
   "outputs": [
    {
     "name": "stdout",
     "output_type": "stream",
     "text": [
      "Quantas notas tem? 5\n",
      "Qual é 1a nota? 10\n",
      "Qual é 2a nota? 8\n",
      "Qual é 3a nota? 8.5\n",
      "Qual é 4a nota? 9\n",
      "Qual é 5a nota? 7.2\n",
      "\n",
      "A média do aluno é: 8.540000000000001\n"
     ]
    }
   ],
   "source": [
    "cont = 0\n",
    "\n",
    "lista_de_notas = []\n",
    "\n",
    "quantidade = int(input(\"Quantas notas tem? \"))\n",
    "\n",
    "while cont < quantidade:\n",
    "    \n",
    "    nota = float(input(\"Qual é \" + str(cont+1) + \"a nota? \"))\n",
    "    \n",
    "    lista_de_notas.append(nota)\n",
    "    \n",
    "    cont = cont + 1\n",
    "    \n",
    "media = sum(lista_de_notas)/len(lista_de_notas)\n",
    "\n",
    "print(\"\\nA média do aluno é:\", media)"
   ]
  },
  {
   "cell_type": "markdown",
   "metadata": {},
   "source": [
    "# Laços de repetição: for"
   ]
  },
  {
   "cell_type": "markdown",
   "metadata": {},
   "source": [
    "\n",
    "No começo da aula, vimos como usar o laço de repetição `while` para repetir operações em Python\n",
    "\n",
    "Agora, veremos um outro laço, o `for`\n",
    "\n",
    "Mas, antes de vermos como este laço pode ser utilizado para **repetir operações**, é interessante entender o `for` como sendo, na realidade, um operador utilizado para **percorrer elementos de uma lista** (na verdade, de qualquer objeto **iterável** que conheceremos mais pra frente...)\n",
    "\n",
    "A estrutura do for é:\n",
    "\n",
    "```python\n",
    "for item in lista:\n",
    "    operacao_feita_pra_cada_item\n",
    "```"
   ]
  },
  {
   "cell_type": "code",
   "execution_count": 44,
   "metadata": {},
   "outputs": [
    {
     "name": "stdout",
     "output_type": "stream",
     "text": [
      "a\n",
      "b\n",
      "c\n",
      "d\n"
     ]
    }
   ],
   "source": [
    "lista = [\"a\", \"b\", \"c\", \"d\"]\n",
    "\n",
    "for item in lista:\n",
    "    \n",
    "    print(item)"
   ]
  },
  {
   "cell_type": "markdown",
   "metadata": {},
   "source": [
    "O código acima é equivalente a:"
   ]
  },
  {
   "cell_type": "code",
   "execution_count": 45,
   "metadata": {},
   "outputs": [
    {
     "name": "stdout",
     "output_type": "stream",
     "text": [
      "a\n",
      "b\n",
      "c\n",
      "d\n"
     ]
    }
   ],
   "source": [
    "lista = [\"a\", \"b\", \"c\", \"d\"]\n",
    "\n",
    "print(lista[0])\n",
    "print(lista[1])\n",
    "print(lista[2])\n",
    "print(lista[3])"
   ]
  },
  {
   "cell_type": "markdown",
   "metadata": {},
   "source": [
    "__Um exemplo de uso...__\n",
    "\n",
    "Separando números positivos e negativos de uma lista de números"
   ]
  },
  {
   "cell_type": "code",
   "execution_count": 46,
   "metadata": {},
   "outputs": [
    {
     "name": "stdout",
     "output_type": "stream",
     "text": [
      "[4, 5, 6, 5, 56, 7, 78, 80, 9]\n",
      "[-6, -10]\n"
     ]
    }
   ],
   "source": [
    "lista = [4, 5, 6, 5, -6, 56, 7, -10, 78, 80, 9]\n",
    "\n",
    "lista_neg = []\n",
    "lista_pos = []\n",
    "\n",
    "for x in lista:\n",
    "    \n",
    "    if x < 0:\n",
    "        \n",
    "        lista_neg.append(x)\n",
    "        \n",
    "    else:\n",
    "        \n",
    "        lista_pos.append(x)\n",
    "        \n",
    "print(lista_pos)\n",
    "print(lista_neg)"
   ]
  },
  {
   "cell_type": "markdown",
   "metadata": {},
   "source": [
    "O \"for\" percorre todos os elementos de uma lista, a não ser que o \"break\" seja utilizado -- esse comando quebra o for, ou seja, os elementos param de ser percorridos"
   ]
  },
  {
   "cell_type": "code",
   "execution_count": 47,
   "metadata": {},
   "outputs": [
    {
     "name": "stdout",
     "output_type": "stream",
     "text": [
      "4\n",
      "5\n",
      "6\n",
      "5\n",
      "56\n",
      "7\n"
     ]
    }
   ],
   "source": [
    "lista = [4, 5, 6, 5, 56, 7, -10, 78, 80, 9]\n",
    "\n",
    "for elemento in lista:\n",
    "    \n",
    "    if elemento < 0:\n",
    "        \n",
    "        # quebrando o laço ao encontrar um elemento negativo\n",
    "        break\n",
    "    \n",
    "    print(elemento)"
   ]
  },
  {
   "cell_type": "markdown",
   "metadata": {},
   "source": [
    "Podemos fazer operações com os elementos de umas lista e usá-los pra preencher outra lista:"
   ]
  },
  {
   "cell_type": "code",
   "execution_count": 9,
   "metadata": {
    "ExecuteTime": {
     "end_time": "2021-07-12T17:31:35.538456Z",
     "start_time": "2021-07-12T17:31:35.514200Z"
    }
   },
   "outputs": [
    {
     "name": "stdout",
     "output_type": "stream",
     "text": [
      "[2, 4, 6, 10, 306, -112]\n"
     ]
    }
   ],
   "source": [
    "lista = [1, 2, 3, 5, 153, -56]\n",
    "lista_dobro = []\n",
    "\n",
    "for elemento in lista:\n",
    "    \n",
    "    lista_dobro.append(2*elemento)\n",
    "    \n",
    "print(lista_dobro)"
   ]
  },
  {
   "cell_type": "markdown",
   "metadata": {},
   "source": [
    "## Compreensão de listas\n",
    "\n",
    "Uma estrutura extremamente útil em python é a __compreensão de listas__ (list comprehension), com a qual é possível construir listas novas a partir de outras listas de forma bem condensada!\n",
    "\n",
    "A sintaxe é: \n",
    "\n",
    "```python\n",
    "[operacao_sobre_os_items for item in lista_base]\n",
    "```"
   ]
  },
  {
   "cell_type": "markdown",
   "metadata": {},
   "source": [
    "Por exemplo, é possível criar a mesma \"lista_dobro\" definida acima, de forma muito mais condensada:"
   ]
  },
  {
   "cell_type": "code",
   "execution_count": 10,
   "metadata": {
    "ExecuteTime": {
     "end_time": "2021-07-12T17:31:40.804727Z",
     "start_time": "2021-07-12T17:31:40.794396Z"
    }
   },
   "outputs": [
    {
     "name": "stdout",
     "output_type": "stream",
     "text": [
      "[2, 4, 6, 10, 306, -112, -2494]\n"
     ]
    }
   ],
   "source": [
    "lista = [1, 2, 3, 5, 153, -56, -1247]\n",
    "\n",
    "lista_dobro = [2*item for item in lista]\n",
    "\n",
    "print(lista_dobro)"
   ]
  },
  {
   "cell_type": "markdown",
   "metadata": {},
   "source": [
    "Também é possível construir uma lista usando compreensão de listas com base em alguma estrutura condicional!\n",
    "\n",
    "Se você for utilizar apenas o if, a sintaxe é:\n",
    "\n",
    "```python\n",
    "[operacao_sobre_os_items for item in lista_base if condicao]\n",
    "```"
   ]
  },
  {
   "cell_type": "code",
   "execution_count": 50,
   "metadata": {},
   "outputs": [
    {
     "name": "stdout",
     "output_type": "stream",
     "text": [
      "[2, -56]\n"
     ]
    }
   ],
   "source": [
    "# pega apenas os números pares e cria uma nova lista\n",
    "# obs.: construa a mesma lista abaixo da maneira \"tradicional\", para exemplificar aos alunos\n",
    "# como usar compreensão de listas torna o código mais enxuto\n",
    "\n",
    "lista_pares = [x for x in lista if x % 2 == 0]\n",
    "\n",
    "print(lista_pares)"
   ]
  },
  {
   "cell_type": "markdown",
   "metadata": {},
   "source": [
    "Caso você queira utilizar também o else como parte da estrutura condicional, a sintaxe muda um pouco:\n",
    "\n",
    "```python\n",
    "[valor_caso_if if condicao else valor_caso_else for item in lista_base]\n",
    "```"
   ]
  },
  {
   "cell_type": "code",
   "execution_count": 51,
   "metadata": {},
   "outputs": [
    {
     "name": "stdout",
     "output_type": "stream",
     "text": [
      "['1 é ímpar!', '2 é par!', '3 é ímpar!', '5 é ímpar!', '153 é ímpar!', '-56 é par!', '-1247 é ímpar!']\n"
     ]
    }
   ],
   "source": [
    "# também é possível definir o else.\n",
    "# mas aí a estrutura muda um pouco: primeiro as condições, depois o for\n",
    "\n",
    "par_ou_impar = [str(x) + \" é par!\" if x % 2 == 0 else str(x) + \" é ímpar!\" for x in lista]\n",
    "\n",
    "print(par_ou_impar)"
   ]
  },
  {
   "cell_type": "code",
   "execution_count": 14,
   "metadata": {
    "ExecuteTime": {
     "end_time": "2021-07-12T17:32:46.751969Z",
     "start_time": "2021-07-12T17:32:46.739478Z"
    }
   },
   "outputs": [
    {
     "data": {
      "text/plain": [
       "10000"
      ]
     },
     "execution_count": 14,
     "metadata": {},
     "output_type": "execute_result"
    }
   ],
   "source": [
    "lista = [1] * 10000\n",
    "len(lista)"
   ]
  },
  {
   "cell_type": "code",
   "execution_count": 19,
   "metadata": {
    "ExecuteTime": {
     "end_time": "2021-07-12T17:33:58.294861Z",
     "start_time": "2021-07-12T17:33:56.323038Z"
    }
   },
   "outputs": [
    {
     "name": "stdout",
     "output_type": "stream",
     "text": [
      "2.44 ms ± 223 µs per loop (mean ± std. dev. of 7 runs, 100 loops each)\n"
     ]
    }
   ],
   "source": [
    "%%timeit\n",
    "for elemento in lista:\n",
    "    \n",
    "    lista_dobro.append(2*elemento)"
   ]
  },
  {
   "cell_type": "code",
   "execution_count": 20,
   "metadata": {
    "ExecuteTime": {
     "end_time": "2021-07-12T17:34:07.303834Z",
     "start_time": "2021-07-12T17:33:58.297823Z"
    }
   },
   "outputs": [
    {
     "name": "stdout",
     "output_type": "stream",
     "text": [
      "1.11 ms ± 8.04 µs per loop (mean ± std. dev. of 7 runs, 1000 loops each)\n"
     ]
    }
   ],
   "source": [
    "%%timeit\n",
    "lista_dobro = [2*item for item in lista]"
   ]
  },
  {
   "cell_type": "markdown",
   "metadata": {},
   "source": [
    "## Função range"
   ]
  },
  {
   "cell_type": "markdown",
   "metadata": {},
   "source": [
    "É muito comum utilizarmos a função \"range()\" juntamente do for\n",
    "\n",
    "Essa função cria um **intervalo**, que é uma espécie de \"lista virtual\" de **números em sequência**. Sua sintaxe é:\n",
    "\n",
    "- range(primeiro_numero, último_numero - 1, passo)\n",
    "\n",
    "Se for dado apenas um argumento, o padrão é começar por zero, e ir de 1 em 1:\n",
    "\n",
    "- range(10) é equivalente a range(0, 10, 1), cria uma sequência de 0 a 9, de 1 em 1\n",
    "- range(-12, 12, 2): cria uma sequência de -12 a 11, de 2 em 2\n",
    "\n",
    "Ao fazermos list(range()), obtermos uma lista correspondente ao iterável.\n",
    "\n",
    "**OBS: só podemos fazer iteráveis de int!**"
   ]
  },
  {
   "cell_type": "code",
   "execution_count": 52,
   "metadata": {},
   "outputs": [
    {
     "data": {
      "text/plain": [
       "range(10, 30, 2)"
      ]
     },
     "execution_count": 52,
     "metadata": {},
     "output_type": "execute_result"
    }
   ],
   "source": [
    "range(10, 30, 2)"
   ]
  },
  {
   "cell_type": "code",
   "execution_count": 53,
   "metadata": {},
   "outputs": [
    {
     "data": {
      "text/plain": [
       "[0, 1, 2, 3, 4, 5, 6, 7, 8, 9]"
      ]
     },
     "execution_count": 53,
     "metadata": {},
     "output_type": "execute_result"
    }
   ],
   "source": [
    "list(range(0, 10, 1))"
   ]
  },
  {
   "cell_type": "code",
   "execution_count": 54,
   "metadata": {},
   "outputs": [
    {
     "data": {
      "text/plain": [
       "[0, 1, 2, 3]"
      ]
     },
     "execution_count": 54,
     "metadata": {},
     "output_type": "execute_result"
    }
   ],
   "source": [
    "list(range(4))"
   ]
  },
  {
   "cell_type": "markdown",
   "metadata": {},
   "source": [
    "É muito comum usar o for com o range para **percorrer os índices de uma lista**, e assim também **acessar os elementos da lista através do índice**.\n",
    "\n",
    "Isso é feito passando pro range o comprinento da lista como argumento!"
   ]
  },
  {
   "cell_type": "code",
   "execution_count": 55,
   "metadata": {},
   "outputs": [
    {
     "name": "stdout",
     "output_type": "stream",
     "text": [
      "0 a\n",
      "1 b\n",
      "2 c\n",
      "3 d\n",
      "4 1\n",
      "5 2\n",
      "6 5\n",
      "7 3\n"
     ]
    }
   ],
   "source": [
    "lista = [\"a\", \"b\", \"c\", \"d\", 1, 2, 5, 3]\n",
    "\n",
    "for i in range(len(lista)):\n",
    "    \n",
    "    print(i, lista[i])"
   ]
  },
  {
   "cell_type": "markdown",
   "metadata": {},
   "source": [
    "Note a diferença do que foi feito acima e o que é feito abaixo:"
   ]
  },
  {
   "cell_type": "code",
   "execution_count": 56,
   "metadata": {},
   "outputs": [
    {
     "name": "stdout",
     "output_type": "stream",
     "text": [
      "a\n",
      "b\n",
      "c\n",
      "d\n",
      "1\n",
      "2\n",
      "5\n",
      "3\n"
     ]
    }
   ],
   "source": [
    "for elemento in lista:\n",
    "    \n",
    "    print(elemento)"
   ]
  },
  {
   "cell_type": "markdown",
   "metadata": {},
   "source": [
    "O range é muito interessante caso **queiramos repetir determinada instrução**\n",
    "\n",
    "Se vc quer repetir N vezes, basta fazer:\n",
    "\n",
    "```python\n",
    "for i in range(N):\n",
    "    operacao_repetida\n",
    "```\n",
    "\n",
    "É neste sentido que o `for` passa a ser explicitamente um laço de repetição!\n",
    "\n",
    "Mas note que este laço se diferencia do while no fato de **não precisar de uma condição explícita**\n",
    "\n",
    "Este laço determina que as operações sejam repetidas **para valores em uma lista** (que no caso é o `range`).\n",
    "\n",
    "Este laço é, portanto, bem mais controlado -- dificilmente ocorrerá loops infinitos!"
   ]
  },
  {
   "cell_type": "code",
   "execution_count": 57,
   "metadata": {},
   "outputs": [
    {
     "name": "stdout",
     "output_type": "stream",
     "text": [
      "Olá, mundo\n",
      "Olá, mundo\n",
      "Olá, mundo\n",
      "Olá, mundo\n",
      "Olá, mundo\n"
     ]
    }
   ],
   "source": [
    "for elemento in range(5):\n",
    "    \n",
    "    print(\"Olá, mundo\")"
   ]
  },
  {
   "cell_type": "markdown",
   "metadata": {},
   "source": [
    "Note que o código acima é equivalente a:"
   ]
  },
  {
   "cell_type": "code",
   "execution_count": 58,
   "metadata": {},
   "outputs": [
    {
     "name": "stdout",
     "output_type": "stream",
     "text": [
      "Olá, mundo\n",
      "Olá, mundo\n",
      "Olá, mundo\n",
      "Olá, mundo\n",
      "Olá, mundo\n"
     ]
    }
   ],
   "source": [
    "for i in [0, 1, 2, 3, 4]:\n",
    "    \n",
    "    print(\"Olá, mundo\")"
   ]
  },
  {
   "cell_type": "markdown",
   "metadata": {},
   "source": [
    "Exemplo de uso com o break"
   ]
  },
  {
   "cell_type": "code",
   "execution_count": 59,
   "metadata": {},
   "outputs": [
    {
     "name": "stdout",
     "output_type": "stream",
     "text": [
      "6\n"
     ]
    }
   ],
   "source": [
    "# mostrando qual é o índice do primeiro elemento negativo\n",
    "\n",
    "lista = [4, 5, 6, 5, 56, 7, -10, 78, 80, 9]\n",
    "\n",
    "for i in range(len(lista)):\n",
    "    \n",
    "    if lista[i] < 0:\n",
    "        \n",
    "        print(i)\n",
    "        \n",
    "        break"
   ]
  },
  {
   "cell_type": "markdown",
   "metadata": {
    "heading_collapsed": true
   },
   "source": [
    "# Exercícios:"
   ]
  },
  {
   "cell_type": "markdown",
   "metadata": {
    "hidden": true
   },
   "source": [
    "Vamos a um exercício que utilizada tudo o que vimos até então?"
   ]
  },
  {
   "cell_type": "code",
   "execution_count": 63,
   "metadata": {
    "hidden": true
   },
   "outputs": [
    {
     "name": "stdout",
     "output_type": "stream",
     "text": [
      "a. Sente dor no corpo? (Digite s ou n) sim\n",
      "Não entendi!\n",
      "a. Sente dor no corpo? (Digite s ou n) s\n",
      "b. Você tem febre? (Digite s ou n) s\n",
      "c. Você tem tosse? (Digite s ou n) s\n",
      "d. Está com congestão nasal? (Digite s ou n) s\n",
      "e. Tem manchas pelo corpo? (Digite s ou n) n\n",
      "\n",
      "Paciente com gripe!\n"
     ]
    }
   ],
   "source": [
    "# desafio 3, lista 2\n",
    "\n",
    "lista_de_perguntas = [\"a. Sente dor no corpo?\",\n",
    "                      \"b. Você tem febre?\",\n",
    "                      \"c. Você tem tosse?\",\n",
    "                      \"d. Está com congestão nasal?\",\n",
    "                      \"e. Tem manchas pelo corpo?\"]\n",
    "\n",
    "lista_de_respostas = []\n",
    "\n",
    "for pergunta in lista_de_perguntas:\n",
    "    \n",
    "    resposta = input(pergunta + \" (Digite s ou n) \")\n",
    "    \n",
    "    while resposta not in [\"s\", \"n\"]: \n",
    "        \n",
    "        resposta = input(\"Não entendi!\\n\" + pergunta + \" (Digite s ou n) \")\n",
    "        \n",
    "    lista_de_respostas.append(resposta)\n",
    "    \n",
    "# criando as listas de diagnostico\n",
    "dengue = list(\"ssnns\")\n",
    "gripe = [list(\"ssssn\"), list(\"ssnns\")]\n",
    "sem_doencas = [list(\"snnnn\"), list(\"nnnnn\")]\n",
    "\n",
    "if lista_de_respostas == dengue:\n",
    "    \n",
    "    print(\"\\nPaciente com dengue!\")\n",
    "     \n",
    "elif lista_de_respostas in gripe:\n",
    "\n",
    "    print(\"\\nPaciente com gripe!\")\n",
    "    \n",
    "elif lista_de_respostas in sem_doencas:\n",
    "    \n",
    "    print(\"\\nPaciente sem doença!\")\n",
    "\n",
    "else:\n",
    "    \n",
    "    print(\"\\nNão sei!\")\n",
    "\n"
   ]
  },
  {
   "cell_type": "markdown",
   "metadata": {
    "hidden": true
   },
   "source": [
    "#### Faça um programa que peça ao usuário um número e imprima todos os números de um até o número dado.\n",
    "\n",
    "Exemplo:\n",
    "\n",
    "digite: 5\n",
    "\n",
    "imprime: 1 2 3 4 5"
   ]
  },
  {
   "cell_type": "code",
   "execution_count": 7,
   "metadata": {},
   "outputs": [
    {
     "name": "stdout",
     "output_type": "stream",
     "text": [
      "Digite um número: 2\n",
      "0\n",
      "1\n",
      "2\n"
     ]
    }
   ],
   "source": [
    "def imprime_range():\n",
    "    numero = int(input('Digite um número: '))\n",
    "\n",
    "    for i in range(1, numero + 1):\n",
    "        print(i)\n",
    "        \n",
    "imprime_range()"
   ]
  },
  {
   "cell_type": "markdown",
   "metadata": {},
   "source": [
    "#### Peça ao usuário para digitar um número e imprima o fatorial de n."
   ]
  },
  {
   "cell_type": "code",
   "execution_count": 13,
   "metadata": {},
   "outputs": [
    {
     "name": "stdout",
     "output_type": "stream",
     "text": [
      "Digite um número para ver seu fatorial!0\n",
      "O fatorial de 0! é = 1\n"
     ]
    }
   ],
   "source": [
    "def fatorial():\n",
    "    numero = int(input('Digite um número para ver seu fatorial!'))\n",
    "    fat = 1\n",
    "    i = 2\n",
    "    \n",
    "    while i <= numero:\n",
    "        fat = fat * i\n",
    "        i = i + 1\n",
    "\n",
    "    print(\"O fatorial de %d! é =\" %numero, fat)\n",
    "\n",
    "fatorial()"
   ]
  },
  {
   "cell_type": "markdown",
   "metadata": {},
   "source": [
    "#### Peça ao usuário para digitar um número N e some todos os números de 1 a N utilizando o laço de repetição while."
   ]
  },
  {
   "cell_type": "code",
   "execution_count": 44,
   "metadata": {},
   "outputs": [
    {
     "name": "stdout",
     "output_type": "stream",
     "text": [
      "Digite um número: 5\n",
      "A soma é:  15\n"
     ]
    }
   ],
   "source": [
    "def soma_com_while():\n",
    "    n = int(input(\"Digite um número: \"))\n",
    "    sum = 0\n",
    "    i = 1\n",
    "\n",
    "    while i <= n:\n",
    "        sum += + i\n",
    "        i += + 1\n",
    "    \n",
    "    print(\"A soma é: \", sum)\n",
    "\n",
    "soma_com_while()"
   ]
  },
  {
   "cell_type": "markdown",
   "metadata": {},
   "source": [
    "#### Faça um programa que imprima a tabuada do 9 (de 9*1 a 9*10) usando loops."
   ]
  },
  {
   "cell_type": "code",
   "execution_count": 10,
   "metadata": {},
   "outputs": [
    {
     "name": "stdout",
     "output_type": "stream",
     "text": [
      "9 x 10 = 91\n",
      "9 x 11 = 100\n",
      "9 x 12 = 109\n",
      "9 x 13 = 118\n",
      "9 x 14 = 127\n",
      "9 x 15 = 136\n",
      "9 x 16 = 145\n",
      "9 x 17 = 154\n",
      "9 x 18 = 163\n",
      "9 x 19 = 172\n",
      "9 x 20 = 181\n",
      "9 x 21 = 190\n",
      "9 x 22 = 199\n",
      "9 x 23 = 208\n",
      "9 x 24 = 217\n",
      "9 x 25 = 226\n",
      "9 x 26 = 235\n",
      "9 x 27 = 244\n",
      "9 x 28 = 253\n",
      "9 x 29 = 262\n",
      "9 x 30 = 271\n",
      "9 x 31 = 280\n",
      "9 x 32 = 289\n",
      "9 x 33 = 298\n",
      "9 x 34 = 307\n",
      "9 x 35 = 316\n",
      "9 x 36 = 325\n",
      "9 x 37 = 334\n",
      "9 x 38 = 343\n",
      "9 x 39 = 352\n",
      "9 x 40 = 361\n",
      "9 x 41 = 370\n",
      "9 x 42 = 379\n",
      "9 x 43 = 388\n",
      "9 x 44 = 397\n",
      "9 x 45 = 406\n",
      "9 x 46 = 415\n",
      "9 x 47 = 424\n",
      "9 x 48 = 433\n",
      "9 x 49 = 442\n",
      "9 x 50 = 451\n",
      "9 x 51 = 460\n",
      "9 x 52 = 469\n",
      "9 x 53 = 478\n",
      "9 x 54 = 487\n",
      "9 x 55 = 496\n",
      "9 x 56 = 505\n",
      "9 x 57 = 514\n",
      "9 x 58 = 523\n",
      "9 x 59 = 532\n",
      "9 x 60 = 541\n",
      "9 x 61 = 550\n",
      "9 x 62 = 559\n",
      "9 x 63 = 568\n",
      "9 x 64 = 577\n",
      "9 x 65 = 586\n",
      "9 x 66 = 595\n",
      "9 x 67 = 604\n",
      "9 x 68 = 613\n",
      "9 x 69 = 622\n",
      "9 x 70 = 631\n",
      "9 x 71 = 640\n",
      "9 x 72 = 649\n",
      "9 x 73 = 658\n",
      "9 x 74 = 667\n",
      "9 x 75 = 676\n",
      "9 x 76 = 685\n",
      "9 x 77 = 694\n",
      "9 x 78 = 703\n",
      "9 x 79 = 712\n",
      "9 x 80 = 721\n",
      "9 x 81 = 730\n",
      "9 x 82 = 739\n",
      "9 x 83 = 748\n",
      "9 x 84 = 757\n",
      "9 x 85 = 766\n",
      "9 x 86 = 775\n",
      "9 x 87 = 784\n",
      "9 x 88 = 793\n",
      "9 x 89 = 802\n",
      "9 x 90 = 811\n",
      "9 x 91 = 820\n",
      "9 x 92 = 829\n",
      "9 x 93 = 838\n",
      "9 x 94 = 847\n",
      "9 x 95 = 856\n",
      "9 x 96 = 865\n",
      "9 x 97 = 874\n",
      "9 x 98 = 883\n",
      "9 x 99 = 892\n",
      "9 x 100 = 901\n",
      "9 x 101 = 910\n"
     ]
    }
   ],
   "source": [
    "def tabuada_com_loop():\n",
    "    count = 10\n",
    "    n = 9\n",
    "    \n",
    "    while count < 102:\n",
    "        print('{} x {} = {}'.format(n, count,(n * count + 1)))\n",
    "        count += + 1\n",
    "        \n",
    "    \n",
    "tabuada_com_loop()"
   ]
  },
  {
   "cell_type": "markdown",
   "metadata": {},
   "source": [
    "#### Faça um programa que recebe um número inteiro do usuário e imprime na tela a quantidade de divisores desse número e quais são eles.\n",
    " <pre><strong>\n",
    "Exemplo 1\n",
    "\n",
    "input: 10\n",
    "output:\n",
    "Divisor: 1\n",
    "Divisor: 2\n",
    "Divisor: 5\n",
    "Total de divisores: 3\n",
    "\n",
    "\n",
    "Exemplo 2\n",
    "input: 15\n",
    "output:\n",
    "Divisor: 1\n",
    "Divisor: 3\n",
    "Divisor: 5\n",
    "Total de divisores: 3\n"
   ]
  },
  {
   "cell_type": "code",
   "execution_count": 19,
   "metadata": {},
   "outputs": [
    {
     "name": "stdout",
     "output_type": "stream",
     "text": [
      "Divisores [1, 2, 4, 13, 26], total de divisores 5\n"
     ]
    }
   ],
   "source": [
    "def divisores_naturais(num):\n",
    "    divisores = ([i for i in range(1, num // 2 + 1) if num % i == 0])\n",
    "    total = len(divisores)\n",
    "    print('Divisores {}, total de divisores {}'.format(divisores, total))\n",
    "\n",
    "          \n",
    "divisores_naturais(52)          "
   ]
  },
  {
   "cell_type": "markdown",
   "metadata": {},
   "source": [
    "#### Faça um programa, usando loops, que peça para um usuário digitar um número e que só finaliza quando o usuário digitar 0. Ao final imprima a soma de todos os números digitados."
   ]
  },
  {
   "cell_type": "code",
   "execution_count": 5,
   "metadata": {},
   "outputs": [
    {
     "ename": "UnboundLocalError",
     "evalue": "local variable 'numero' referenced before assignment",
     "output_type": "error",
     "traceback": [
      "\u001b[0;31m---------------------------------------------------------------------------\u001b[0m",
      "\u001b[0;31mUnboundLocalError\u001b[0m                         Traceback (most recent call last)",
      "\u001b[0;32m<ipython-input-5-ec8f5adc26ca>\u001b[0m in \u001b[0;36m<module>\u001b[0;34m\u001b[0m\n\u001b[1;32m      7\u001b[0m         \u001b[0mcount\u001b[0m \u001b[0;34m+=\u001b[0m \u001b[0mnumero\u001b[0m\u001b[0;34m\u001b[0m\u001b[0;34m\u001b[0m\u001b[0m\n\u001b[1;32m      8\u001b[0m \u001b[0;34m\u001b[0m\u001b[0m\n\u001b[0;32m----> 9\u001b[0;31m \u001b[0mdigita_zero\u001b[0m\u001b[0;34m(\u001b[0m\u001b[0;34m)\u001b[0m\u001b[0;34m\u001b[0m\u001b[0;34m\u001b[0m\u001b[0m\n\u001b[0m",
      "\u001b[0;32m<ipython-input-5-ec8f5adc26ca>\u001b[0m in \u001b[0;36mdigita_zero\u001b[0;34m()\u001b[0m\n\u001b[1;32m      1\u001b[0m \u001b[0;32mdef\u001b[0m \u001b[0mdigita_zero\u001b[0m\u001b[0;34m(\u001b[0m\u001b[0;34m)\u001b[0m\u001b[0;34m:\u001b[0m\u001b[0;34m\u001b[0m\u001b[0;34m\u001b[0m\u001b[0m\n\u001b[1;32m      2\u001b[0m     \u001b[0mcount\u001b[0m \u001b[0;34m=\u001b[0m \u001b[0;36m0\u001b[0m\u001b[0;34m\u001b[0m\u001b[0;34m\u001b[0m\u001b[0m\n\u001b[0;32m----> 3\u001b[0;31m     \u001b[0;32mwhile\u001b[0m \u001b[0mnumero\u001b[0m \u001b[0;34m!=\u001b[0m \u001b[0;36m0\u001b[0m\u001b[0;34m:\u001b[0m\u001b[0;34m\u001b[0m\u001b[0;34m\u001b[0m\u001b[0m\n\u001b[0m\u001b[1;32m      4\u001b[0m         \u001b[0mnumero\u001b[0m \u001b[0;34m=\u001b[0m \u001b[0mint\u001b[0m\u001b[0;34m(\u001b[0m\u001b[0minput\u001b[0m\u001b[0;34m(\u001b[0m\u001b[0;34m'Digite o número certo para parar o programa: '\u001b[0m\u001b[0;34m)\u001b[0m\u001b[0;34m)\u001b[0m\u001b[0;34m\u001b[0m\u001b[0;34m\u001b[0m\u001b[0m\n\u001b[1;32m      5\u001b[0m         \u001b[0mnumero\u001b[0m \u001b[0;34m+=\u001b[0m \u001b[0mnumero\u001b[0m\u001b[0;34m\u001b[0m\u001b[0;34m\u001b[0m\u001b[0m\n",
      "\u001b[0;31mUnboundLocalError\u001b[0m: local variable 'numero' referenced before assignment"
     ]
    }
   ],
   "source": [
    "def digita_zero():\n",
    "    count = 0\n",
    "    while numero != 0:\n",
    "        numero = int(input('Digite o número certo para parar o programa: '))\n",
    "        numero += numero\n",
    "        print(count)\n",
    "        count += numero\n",
    "        \n",
    "digita_zero()"
   ]
  },
  {
   "cell_type": "markdown",
   "metadata": {},
   "source": [
    "**Faça um programa que sorteia um número N e peça para o usuário adivinhar o número sorteado. A cada resposta errada, o seu programa deve imprimir um aviso dizendo que a resposta está errada e pedir novamente uma resposta ao usuário.**\n",
    "\n",
    "**Para a realização desse exercício, utilize alguma função da biblioteca random (e.g. randint()).**"
   ]
  },
  {
   "cell_type": "code",
   "execution_count": null,
   "metadata": {},
   "outputs": [],
   "source": []
  },
  {
   "cell_type": "markdown",
   "metadata": {},
   "source": [
    "#### Faça um programa que peça para o usuário digitar a idade, o salário e o sexo de uma pessoa até que as entradas digitadas sejam válidas.\n",
    "\n",
    "<pre><strong>\n",
    "a. Idade: entre 0 e 150;\n",
    "\n",
    "b. Salário: maior que 0;\n",
    "\n",
    "c. Sexo: M, F ou Outro."
   ]
  },
  {
   "cell_type": "code",
   "execution_count": null,
   "metadata": {},
   "outputs": [],
   "source": []
  },
  {
   "cell_type": "markdown",
   "metadata": {},
   "source": [
    "### Desafio! - Calcule a soma de até mil termos da série 1 + 1/2 + 1/4 + 1/8 + 1/16 + ...\n",
    "<pre><strong>\n",
    "Dica: Use três variáveis:\n",
    "\n",
    "• um contador, que começa em zero;\n",
    "\n",
    "• uma variável para a soma de todos os termos, que também começa em zero;\n",
    "\n",
    "• uma variável para cada termo, que começa em 1 e a cada loop é dividida por 2.\n",
    "\n",
    "A repetição da soma de mil termos pode ser feita com a função while contador < 1000."
   ]
  },
  {
   "cell_type": "code",
   "execution_count": null,
   "metadata": {},
   "outputs": [],
   "source": []
  },
  {
   "cell_type": "markdown",
   "metadata": {},
   "source": [
    "### Super Desafio! - Calcule a soma de mil termos dos inversos dos fatoriais: 1/(1!) + 1/(2!) + 1/(3!) + 1/(4!) + ...\n",
    "<strong><pre>\n",
    "Dica: Assim como no exercício anterior use três variáveis: um contador; uma variável para a soma; e uma variável para os termos. Lembre-se de que 4! = 4*3*2*1 que também é igual a 4*3!."
   ]
  },
  {
   "cell_type": "code",
   "execution_count": null,
   "metadata": {},
   "outputs": [],
   "source": []
  }
 ],
 "metadata": {
  "kernelspec": {
   "display_name": "Python 3",
   "language": "python",
   "name": "python3"
  },
  "language_info": {
   "codemirror_mode": {
    "name": "ipython",
    "version": 3
   },
   "file_extension": ".py",
   "mimetype": "text/x-python",
   "name": "python",
   "nbconvert_exporter": "python",
   "pygments_lexer": "ipython3",
   "version": "3.9.6"
  },
  "toc": {
   "base_numbering": 1,
   "nav_menu": {},
   "number_sections": true,
   "sideBar": true,
   "skip_h1_title": false,
   "title_cell": "Table of Contents",
   "title_sidebar": "Contents",
   "toc_cell": false,
   "toc_position": {},
   "toc_section_display": true,
   "toc_window_display": true
  },
  "varInspector": {
   "cols": {
    "lenName": 16,
    "lenType": 16,
    "lenVar": 40
   },
   "kernels_config": {
    "python": {
     "delete_cmd_postfix": "",
     "delete_cmd_prefix": "del ",
     "library": "var_list.py",
     "varRefreshCmd": "print(var_dic_list())"
    },
    "r": {
     "delete_cmd_postfix": ") ",
     "delete_cmd_prefix": "rm(",
     "library": "var_list.r",
     "varRefreshCmd": "cat(var_dic_list()) "
    }
   },
   "types_to_exclude": [
    "module",
    "function",
    "builtin_function_or_method",
    "instance",
    "_Feature"
   ],
   "window_display": false
  }
 },
 "nbformat": 4,
 "nbformat_minor": 5
}
