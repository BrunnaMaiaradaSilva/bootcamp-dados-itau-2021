{
 "cells": [
  {
   "cell_type": "markdown",
   "id": "50d01534",
   "metadata": {},
   "source": [
    "# Revisão"
   ]
  },
  {
   "cell_type": "markdown",
   "id": "fa012d82",
   "metadata": {},
   "source": [
    "Como fechar um notebook?"
   ]
  },
  {
   "cell_type": "markdown",
   "id": "a4e03652",
   "metadata": {},
   "source": [
    "> Home page do jupyter -> Running -> Shutdown "
   ]
  },
  {
   "cell_type": "markdown",
   "id": "2532e07d",
   "metadata": {},
   "source": [
    "Instalar as extensões!\n",
    "* Table of contents e collapse header:\n",
    "[Instalar](https://stackoverflow.com/questions/49647705/jupyter-nbextensions-does-not-appear) \n",
    "[Habilitar](https://medium.com/@jicksy.john/adding-nbextensions-to-jupyter-notebook-2f4070aca5de)"
   ]
  },
  {
   "cell_type": "markdown",
   "id": "a81a76ce",
   "metadata": {},
   "source": [
    "> pip install jupyter_contrib_nbextensions\n",
    "\n",
    "> !jupyter contrib nbextensions install\n",
    "\n",
    "> !jupyter nbextensions_configurator enable — user"
   ]
  },
  {
   "cell_type": "code",
   "execution_count": 116,
   "id": "c6d23334",
   "metadata": {},
   "outputs": [
    {
     "name": "stderr",
     "output_type": "stream",
     "text": [
      "jupyter nbextensions_configurator enable takes no extra arguments\n"
     ]
    }
   ],
   "source": [
    "!jupyter nbextensions_configurator enable —user"
   ]
  },
  {
   "cell_type": "markdown",
   "id": "2b281c6d",
   "metadata": {},
   "source": [
    "# Aula 1 - Introdução ao Python e variáveis"
   ]
  },
  {
   "cell_type": "markdown",
   "id": "628b72d8",
   "metadata": {},
   "source": [
    "Na aula de hoje, vamos explorar os seguintes tópicos em Python:\n",
    "\n",
    "- 1) Introdução: Python;\n",
    "- 2) Variáveis.\n",
    "- 3) Tipos básicos de dados/variáveis;\n",
    "- 4) Comentários;\n",
    "- 5) Saída (output);\n",
    "- 6) Entrada (input);\n",
    "- 7) Operadores Matemáticos;"
   ]
  },
  {
   "cell_type": "markdown",
   "id": "87734bcc",
   "metadata": {},
   "source": [
    "# Habilidades a serem desenvolvidas"
   ]
  },
  {
   "cell_type": "markdown",
   "id": "b1224267",
   "metadata": {},
   "source": [
    "Ao final da aula, o aluno dever saber:\n",
    "\n",
    "\n",
    "- Primeiro programa em Python;\n",
    "    - No Jupyter, mostrar como as células de código são executadas;\n",
    "- Variáveis: conceito, criação e boas práticas;\n",
    "- Saber dos diferentes tipos de dados básicos em Python, e em que situação utilizar cada um;\n",
    "- Saber definir comentários em meio ao código;\n",
    "- Saber fazer a saída de dados através do print;\n",
    "- Saber fazer a entrada de dados através do input:\n",
    "    - Saber converter entre diferentes tipos de dados;\n",
    "    - Fazer as conversões necessárias na entrada de dados.\n",
    "- Conhecer as operações matemáticas e seus símbolos em Python."
   ]
  },
  {
   "cell_type": "markdown",
   "id": "acce995a",
   "metadata": {},
   "source": [
    "# Introdução: Python"
   ]
  },
  {
   "cell_type": "markdown",
   "id": "87434691",
   "metadata": {},
   "source": [
    "Tradicionalmente, o primeiro programa feito em uma nova linguagem de programação consiste em exibir a frase \"Olá, mundo!\" na tela.\n",
    "\n",
    "Vamos fazer isso em Python?\n",
    "\n",
    "Para isso, basta utilizar a função `print()`, e indicar o texto a ser exibido entre aspas: \"Olá, mundo!\""
   ]
  },
  {
   "cell_type": "code",
   "execution_count": null,
   "id": "550d9870",
   "metadata": {},
   "outputs": [],
   "source": [
    "print('Olá, mundo!')"
   ]
  },
  {
   "cell_type": "markdown",
   "id": "4fb2ada3",
   "metadata": {},
   "source": [
    "Parabéns! Seu primeiro programa em Python foi executado com sucesso!"
   ]
  },
  {
   "cell_type": "markdown",
   "id": "69cf07f7",
   "metadata": {},
   "source": [
    "# Variáveis"
   ]
  },
  {
   "cell_type": "markdown",
   "id": "a8e337d1",
   "metadata": {},
   "source": [
    "Seria legal se pudéssemos **guardar** qualquer valor para utlizarmos no futuro, não é mesmo?\n",
    "\n",
    "Isso é possível com o uso das **variáveis**, que são um pedacinho da memória onde armazenamos as operações do Python.\n",
    "\n",
    "\n",
    "Uma variável pode legar qualquer nome, mas existem algumas regras:\n",
    "\n",
    "- O Python **diferencia** maiúscula de minúscula (ex: \"variavel\" é diferente de \"Variavel\", \"VaRiAvEl\" ou \"VARIAVEL\")\n",
    "    - Dica: melhor usar letras minúsculas pra nomes de variáveis\n",
    "- O nome das variáveis **não** pode ter espaço! Use um underline ao invés de espaço: \"minha_variavel\" ao invés de \"minha variavel\"\n",
    "- É melhor que o nome da variável **não** tenha acento (ex: não usar o nome \"variável\")\n",
    "- Existem algumas palavras reservadas do Python, que **não** podem ser usadas como nome de variável, ex: and, or, if, else, lambda, etc.\n",
    "- Também **não** use nome de funções para variáveis (ex: print)\n",
    "- Dica geral: o nome de variavel fica preto em python!\n",
    "    - Se o nome que você for dar ficar colorido, melhor escolher outro nome!"
   ]
  },
  {
   "cell_type": "code",
   "execution_count": null,
   "id": "fb81f6d6",
   "metadata": {},
   "outputs": [],
   "source": [
    "and or print "
   ]
  },
  {
   "cell_type": "code",
   "execution_count": null,
   "id": "b8532eb6",
   "metadata": {},
   "outputs": [],
   "source": [
    "name "
   ]
  },
  {
   "cell_type": "markdown",
   "id": "232e15f4",
   "metadata": {},
   "source": [
    "## Criando três variaveis\n",
    "\n",
    "Agora, vamos criar três variáveis para armazenar os calores dos cálculos matemáticos\n",
    "\n",
    "__IMPORTANTE (dica): O sinal \"=\" é lido como \"recebe\", pois o que estamos fazendo é guardando o valor da operação matemática no pedacinho de memória com o nome da variável, então o pedacinho de memória recebe o valor indicado depois do sinal de \"=\"__\n",
    "\n",
    "Ou seja, lemos o código a seguir como:\n",
    "\n",
    "- A variável que demos o nome de \"meu_numero\", **recebe** o valor da operação \"2+3\" (que é 5);\n",
    "- A variável que demos o nome de \"variavel\", **recebe** o valor da operação \"1+1\" (que é 2);\n",
    "- A variável que demos o nome de \"x\", **recebe** o valor da operação \"2*3\" (que é 6);\n",
    "\n",
    "O código a seguir apenas cria as variáveis: note que não há nenhum output!"
   ]
  },
  {
   "cell_type": "code",
   "execution_count": 5,
   "id": "9e1d4d7f",
   "metadata": {},
   "outputs": [],
   "source": [
    "meu_numero = 5\n",
    "variavel = 2\n",
    "x = 6"
   ]
  },
  {
   "cell_type": "markdown",
   "id": "b46b8416",
   "metadata": {},
   "source": [
    "Para examinarmos o valor armazenado nas variáveis, podemos, individualmente, \"chamar\" a variável na célula:"
   ]
  },
  {
   "cell_type": "code",
   "execution_count": 6,
   "id": "2a62d201",
   "metadata": {},
   "outputs": [
    {
     "data": {
      "text/plain": [
       "5"
      ]
     },
     "execution_count": 6,
     "metadata": {},
     "output_type": "execute_result"
    }
   ],
   "source": [
    "meu_numero"
   ]
  },
  {
   "cell_type": "code",
   "execution_count": 7,
   "id": "c0b9217f",
   "metadata": {},
   "outputs": [
    {
     "data": {
      "text/plain": [
       "2"
      ]
     },
     "execution_count": 7,
     "metadata": {},
     "output_type": "execute_result"
    }
   ],
   "source": [
    "variavel"
   ]
  },
  {
   "cell_type": "code",
   "execution_count": 8,
   "id": "08029f79",
   "metadata": {},
   "outputs": [
    {
     "data": {
      "text/plain": [
       "6"
      ]
     },
     "execution_count": 8,
     "metadata": {},
     "output_type": "execute_result"
    }
   ],
   "source": [
    "x"
   ]
  },
  {
   "cell_type": "markdown",
   "id": "1233af25",
   "metadata": {},
   "source": [
    "Se quisermos exibir o valor das 3 variáveis em seguida, podemos usar o print\n",
    "\n",
    "Note que de fato são exibidos os **valores armazenados nas variáveis!!**"
   ]
  },
  {
   "cell_type": "code",
   "execution_count": 9,
   "id": "a9913489",
   "metadata": {},
   "outputs": [
    {
     "name": "stdout",
     "output_type": "stream",
     "text": [
      "5\n",
      "2\n",
      "6\n"
     ]
    }
   ],
   "source": [
    "print(meu_numero)\n",
    "print(variavel)\n",
    "print(x)"
   ]
  },
  {
   "cell_type": "markdown",
   "id": "fabbc72e",
   "metadata": {},
   "source": [
    "Como o próprio nome diz, variáveis podem variar, ou seja, eu posso mudar o valor que tá armazenado na variável.\n",
    "\n",
    "Se, por exemplo, eu quiser que a variável \"x\" passe a receber o valor \"42\", eu faço simplesmente o código a seguir, que é lido como \"a variável x recebe o valor 42\"."
   ]
  },
  {
   "cell_type": "code",
   "execution_count": 10,
   "id": "f2afe8b8",
   "metadata": {},
   "outputs": [],
   "source": [
    "x = 42"
   ]
  },
  {
   "cell_type": "markdown",
   "id": "1abe64da",
   "metadata": {},
   "source": [
    "Após fazer isso, o valor anterior (acima), é completamente esquecido, e a variável x agora tem apenas o valor 42.\n",
    "\n",
    "Chamando a variável:"
   ]
  },
  {
   "cell_type": "code",
   "execution_count": 11,
   "id": "1767cc91",
   "metadata": {},
   "outputs": [
    {
     "data": {
      "text/plain": [
       "42"
      ]
     },
     "execution_count": 11,
     "metadata": {},
     "output_type": "execute_result"
    }
   ],
   "source": [
    "x"
   ]
  },
  {
   "cell_type": "markdown",
   "id": "8c923b82",
   "metadata": {},
   "source": [
    "## Tipos de dados/variáveis"
   ]
  },
  {
   "cell_type": "markdown",
   "id": "499471f7",
   "metadata": {},
   "source": [
    "Em python, temos 4 **tipos** principais de dados básicos\n",
    "\n",
    "### Tipo **inteiros** (int): são números inteiros, isto é, sem casas decimais.\n",
    "\n",
    "- Ex:\n",
    "    - 1 \n",
    "    - 456\n",
    "    - 124023\n",
    "    - 0\n",
    "    - -2 (números to tipo int podem ser negativos!)\n",
    "\n",
    "No Jupyter, números inteiros são destacados em cor verde clara"
   ]
  },
  {
   "cell_type": "markdown",
   "id": "0dceab9f",
   "metadata": {},
   "source": [
    "Exemplo: a idade de uma pessoa em anos, número de filhos de uma pessoa, etc."
   ]
  },
  {
   "cell_type": "code",
   "execution_count": 12,
   "id": "217a535a",
   "metadata": {},
   "outputs": [],
   "source": [
    "idade = 18"
   ]
  },
  {
   "cell_type": "code",
   "execution_count": 13,
   "id": "d9bae38a",
   "metadata": {},
   "outputs": [
    {
     "data": {
      "text/plain": [
       "18"
      ]
     },
     "execution_count": 13,
     "metadata": {},
     "output_type": "execute_result"
    }
   ],
   "source": [
    "idade"
   ]
  },
  {
   "cell_type": "code",
   "execution_count": 14,
   "id": "c35b4d41",
   "metadata": {},
   "outputs": [
    {
     "data": {
      "text/plain": [
       "int"
      ]
     },
     "execution_count": 14,
     "metadata": {},
     "output_type": "execute_result"
    }
   ],
   "source": [
    "type(idade)"
   ]
  },
  {
   "cell_type": "markdown",
   "id": "31c58656",
   "metadata": {},
   "source": [
    "### Tipo **float** (float): são números com casas decimais (**em python usamos ponto ao invés de vírgula para indicar cadas decimais!**)\n",
    "\n",
    "- Ex:\n",
    "    - 3.1415\n",
    "    - 1.78\n",
    "    - 10.0 (essa é a representação float de um número inteiro, 10) \n",
    "    - -42.73 (números do tipo float podem ser negativos!)\n",
    "\n",
    "No Jupyter, números float também são destacados em cor verde clara"
   ]
  },
  {
   "cell_type": "markdown",
   "id": "cae97b27",
   "metadata": {},
   "source": [
    "Exemplo: a altura de uma pessoa em metros"
   ]
  },
  {
   "cell_type": "code",
   "execution_count": 26,
   "id": "50fe6227",
   "metadata": {},
   "outputs": [],
   "source": [
    "altura = 1.90"
   ]
  },
  {
   "cell_type": "code",
   "execution_count": 27,
   "id": "f9152c0b",
   "metadata": {},
   "outputs": [
    {
     "data": {
      "text/plain": [
       "1.9"
      ]
     },
     "execution_count": 27,
     "metadata": {},
     "output_type": "execute_result"
    }
   ],
   "source": [
    "altura"
   ]
  },
  {
   "cell_type": "code",
   "execution_count": 28,
   "id": "dda71b7a",
   "metadata": {},
   "outputs": [
    {
     "data": {
      "text/plain": [
       "float"
      ]
     },
     "execution_count": 28,
     "metadata": {},
     "output_type": "execute_result"
    }
   ],
   "source": [
    "type(altura)"
   ]
  },
  {
   "cell_type": "markdown",
   "id": "1d69465e",
   "metadata": {},
   "source": [
    "### Tipo **string** (str): são textos, que devem ser indicados entre aspas duplas \" \" ou aspas simples ' ' \n",
    "\n",
    "- Ex:\n",
    "    - \"Olá, mundo!\" (para strings, podemos usar pontuação e acentuação sem problemas!)\n",
    "    - \"Nos encontramos às 9h30 amanhã?\" (strings podem conter numeros!)\n",
    "    - \"100\" (neste caso, é uma string que representa um numero inteiro)\n",
    "    - \"3.1415\" (neste caso, é uma string que representa um numero float)\n",
    "\n",
    "No Jupyter, strings são destacadas em cor vermelha"
   ]
  },
  {
   "cell_type": "markdown",
   "id": "42a4e1fd",
   "metadata": {},
   "source": [
    "Exemplo: uma frase de despedida e um encontro marcado"
   ]
  },
  {
   "cell_type": "code",
   "execution_count": 29,
   "id": "e6a374b2",
   "metadata": {},
   "outputs": [],
   "source": [
    "despedida = \"Isso é tudo, pe-pe-pessoal!\" "
   ]
  },
  {
   "cell_type": "code",
   "execution_count": 30,
   "id": "d5a5dfa6",
   "metadata": {},
   "outputs": [
    {
     "data": {
      "text/plain": [
       "'Isso é tudo, pe-pe-pessoal!'"
      ]
     },
     "execution_count": 30,
     "metadata": {},
     "output_type": "execute_result"
    }
   ],
   "source": [
    "despedida"
   ]
  },
  {
   "cell_type": "code",
   "execution_count": 31,
   "id": "32df7928",
   "metadata": {},
   "outputs": [
    {
     "data": {
      "text/plain": [
       "str"
      ]
     },
     "execution_count": 31,
     "metadata": {},
     "output_type": "execute_result"
    }
   ],
   "source": [
    "type(despedida)"
   ]
  },
  {
   "cell_type": "code",
   "execution_count": 32,
   "id": "6b666fee",
   "metadata": {},
   "outputs": [],
   "source": [
    "altura_2 = \"1.90\""
   ]
  },
  {
   "cell_type": "code",
   "execution_count": 33,
   "id": "be31fe29",
   "metadata": {},
   "outputs": [
    {
     "data": {
      "text/plain": [
       "str"
      ]
     },
     "execution_count": 33,
     "metadata": {},
     "output_type": "execute_result"
    }
   ],
   "source": [
    "type(altura_2)"
   ]
  },
  {
   "cell_type": "markdown",
   "id": "6e06e860",
   "metadata": {},
   "source": [
    "### Tipo **booleanos** (bool): Verdadeiro (True) ou Falso (False)\n",
    "\n",
    "- Únicos dois valores possíveis: **True** ou **False**\n",
    "\n",
    "Vamos entender a enorme importância deste tipo de dado mais a frente no curso (operações lógicas, estruturas condicionais, etc.)\n",
    "\n",
    "No Jupyter, bools são destacados em cor verde escuro"
   ]
  },
  {
   "cell_type": "code",
   "execution_count": 34,
   "id": "0d5493c9",
   "metadata": {},
   "outputs": [
    {
     "data": {
      "text/plain": [
       "True"
      ]
     },
     "execution_count": 34,
     "metadata": {},
     "output_type": "execute_result"
    }
   ],
   "source": [
    "booleano_1 = True \n",
    "booleano_1"
   ]
  },
  {
   "cell_type": "code",
   "execution_count": 35,
   "id": "147ead39",
   "metadata": {},
   "outputs": [
    {
     "data": {
      "text/plain": [
       "bool"
      ]
     },
     "execution_count": 35,
     "metadata": {},
     "output_type": "execute_result"
    }
   ],
   "source": [
    "type(booleano_1)"
   ]
  },
  {
   "cell_type": "code",
   "execution_count": 36,
   "id": "79cc4253",
   "metadata": {},
   "outputs": [
    {
     "data": {
      "text/plain": [
       "False"
      ]
     },
     "execution_count": 36,
     "metadata": {},
     "output_type": "execute_result"
    }
   ],
   "source": [
    "booleano_2 = False\n",
    "booleano_2"
   ]
  },
  {
   "cell_type": "markdown",
   "id": "56cb9bc2",
   "metadata": {},
   "source": [
    "# Comentários"
   ]
  },
  {
   "cell_type": "markdown",
   "id": "dece415b",
   "metadata": {},
   "source": [
    "\n",
    "São utilizados para melhor explicar um trecho de código.\n",
    "\n",
    "Os comentários não são executados pelo Python. \n",
    "\n",
    "Tudo o que está comentado é ignorado, serve apenas para guiar o usuário.\n",
    "\n",
    "É indicado com o uso da #, e em cor azul marinho no Jupyter\n",
    "\n",
    "- Atalho: CTRL + / : A LINHA VIRA UM COMENTÁRIO"
   ]
  },
  {
   "cell_type": "code",
   "execution_count": 37,
   "id": "b4ebb1ae",
   "metadata": {},
   "outputs": [
    {
     "ename": "SyntaxError",
     "evalue": "invalid syntax (<ipython-input-37-147d58ca3b27>, line 1)",
     "output_type": "error",
     "traceback": [
      "\u001b[1;36m  File \u001b[1;32m\"<ipython-input-37-147d58ca3b27>\"\u001b[1;36m, line \u001b[1;32m1\u001b[0m\n\u001b[1;33m    isso aqui não é um comentário\u001b[0m\n\u001b[1;37m         ^\u001b[0m\n\u001b[1;31mSyntaxError\u001b[0m\u001b[1;31m:\u001b[0m invalid syntax\n"
     ]
    }
   ],
   "source": [
    "isso aqui não é um comentário"
   ]
  },
  {
   "cell_type": "code",
   "execution_count": 38,
   "id": "3c039696",
   "metadata": {},
   "outputs": [],
   "source": [
    "# isso aqui é um comentário"
   ]
  },
  {
   "cell_type": "code",
   "execution_count": 41,
   "id": "bf3ec87a",
   "metadata": {},
   "outputs": [],
   "source": [
    "# altura do jogador em metros\n",
    "altura = 1.5"
   ]
  },
  {
   "cell_type": "code",
   "execution_count": 42,
   "id": "ca5b2338",
   "metadata": {},
   "outputs": [
    {
     "data": {
      "text/plain": [
       "1.5"
      ]
     },
     "execution_count": 42,
     "metadata": {},
     "output_type": "execute_result"
    }
   ],
   "source": [
    "altura"
   ]
  },
  {
   "cell_type": "markdown",
   "id": "7d1709d4",
   "metadata": {},
   "source": [
    "Embora você possa fazer comentários de várias linhas apenas colocando o # na frente de cada linha:"
   ]
  },
  {
   "cell_type": "code",
   "execution_count": 46,
   "id": "934ccd2c",
   "metadata": {},
   "outputs": [],
   "source": [
    "# esse é um comentário muito grande, e por isso pode ser interessante\n",
    "# quebrar ele em várias linhas, para ficar mais fácil de ler\n",
    "# um comentário grande e complexo como esse no meio do código\n",
    "\n",
    "# poderia continuar meu código abaixo\n",
    "\n",
    "# peso em kg\n",
    "peso = 60\n",
    "\n",
    "# lembrar de conferir o peso acima - comentário em qq lugar da célula"
   ]
  },
  {
   "cell_type": "markdown",
   "id": "a6068518",
   "metadata": {},
   "source": [
    "Também é possível fazer comentários de várias linhas utilizando três aspas:"
   ]
  },
  {
   "cell_type": "code",
   "execution_count": 47,
   "id": "a7d673ca",
   "metadata": {},
   "outputs": [
    {
     "data": {
      "text/plain": [
       "'\\nesse é um comentário muito grande, e por isso pode ser interessante\\nquebrar ele em várias linhas, para ficar mais fácil de ler\\num comentário grande e complexo como esse no meio do código\\n\\n'"
      ]
     },
     "execution_count": 47,
     "metadata": {},
     "output_type": "execute_result"
    }
   ],
   "source": [
    "\"\"\"\n",
    "esse é um comentário muito grande, e por isso pode ser interessante\n",
    "quebrar ele em várias linhas, para ficar mais fácil de ler\n",
    "um comentário grande e complexo como esse no meio do código\n",
    "\n",
    "\"\"\""
   ]
  },
  {
   "cell_type": "code",
   "execution_count": 48,
   "id": "faf9ba2a",
   "metadata": {},
   "outputs": [
    {
     "data": {
      "text/plain": [
       "'\\nposso digitar qualquer coisa aqui\\nem várias linhas\\n'"
      ]
     },
     "execution_count": 48,
     "metadata": {},
     "output_type": "execute_result"
    }
   ],
   "source": [
    "\"\"\"\n",
    "posso digitar qualquer coisa aqui\n",
    "em várias linhas\n",
    "\"\"\""
   ]
  },
  {
   "cell_type": "markdown",
   "id": "99ac8a8f",
   "metadata": {},
   "source": [
    "Note que estes \"comentários\" feitos com 3 aspas na verdade são strings de muitas linhas: mas o Python irá ignorá-las caso elas não sejá atribuídas a uma variável, funcionando, assim, como comentário.\n",
    "\n",
    "De qualquer forma, o modo acima, com um # em casa linha é preferível!"
   ]
  },
  {
   "cell_type": "markdown",
   "id": "861551bd",
   "metadata": {},
   "source": [
    "# Saída (output)"
   ]
  },
  {
   "cell_type": "markdown",
   "id": "028d2d47",
   "metadata": {},
   "source": [
    "É como o computador **apresenta dados de saída** para um usuário.\n",
    "\n",
    "Utilizamos a função print() para exibir o conteúdo na tela"
   ]
  },
  {
   "cell_type": "code",
   "execution_count": 49,
   "id": "9fa347a0",
   "metadata": {},
   "outputs": [
    {
     "name": "stdout",
     "output_type": "stream",
     "text": [
      "Exemplo de texto para mostrar no output\n"
     ]
    }
   ],
   "source": [
    "# definição de uma string\n",
    "var_de_texto = 'Exemplo de texto para mostrar no output'\n",
    "\n",
    "# função que exibe para o usuário o que foi pedido\n",
    "print(var_de_texto)"
   ]
  },
  {
   "cell_type": "markdown",
   "id": "56451492",
   "metadata": {},
   "source": [
    "Podemos imprimir diversas strings ou diversas variáveis em sequência, utilizando vírgula para separá-las dentro do print:"
   ]
  },
  {
   "cell_type": "code",
   "execution_count": 50,
   "id": "0f52240b",
   "metadata": {},
   "outputs": [
    {
     "name": "stdout",
     "output_type": "stream",
     "text": [
      "Anderson 26\n"
     ]
    }
   ],
   "source": [
    "# definindo uma variavel do tipo inteiro\n",
    "idade_da_pessoa = 26\n",
    "\n",
    "# definindo uma string\n",
    "nome_da_pessoa = 'Anderson'\n",
    "\n",
    "# exibindo as duas variáveis acima após uma outra string\n",
    "print(nome_da_pessoa, idade_da_pessoa)"
   ]
  },
  {
   "cell_type": "code",
   "execution_count": 51,
   "id": "1f282895",
   "metadata": {},
   "outputs": [
    {
     "name": "stdout",
     "output_type": "stream",
     "text": [
      "Olá Anderson\n"
     ]
    }
   ],
   "source": [
    "print('Olá', nome_da_pessoa)"
   ]
  },
  {
   "cell_type": "markdown",
   "id": "898a8991",
   "metadata": {},
   "source": [
    "Um caractere especial do print é o \"\\n\", que serve para fazer a quebra de linha:"
   ]
  },
  {
   "cell_type": "code",
   "execution_count": 54,
   "id": "35485a11",
   "metadata": {},
   "outputs": [
    {
     "name": "stdout",
     "output_type": "stream",
     "text": [
      "texto na linha 1 \n",
      " texto na linha 2\n"
     ]
    }
   ],
   "source": [
    "print('texto na linha 1 \\n texto na linha 2')"
   ]
  },
  {
   "cell_type": "markdown",
   "id": "bb25c42c",
   "metadata": {},
   "source": [
    "Depois vamos falar melhor sobre operações matemáticas em Python, mas podemos exibir o resultado de algumas operações simples usando a funçao print()\n",
    "\n",
    "Note que as instruções são executadas __na ordem em que aparecem!__"
   ]
  },
  {
   "cell_type": "code",
   "execution_count": 55,
   "id": "49c7ba88",
   "metadata": {},
   "outputs": [
    {
     "name": "stdout",
     "output_type": "stream",
     "text": [
      "4\n",
      "18\n",
      "-6\n"
     ]
    }
   ],
   "source": [
    "print(2+2)\n",
    "print(3*6)\n",
    "print(8-14)"
   ]
  },
  {
   "cell_type": "code",
   "execution_count": 56,
   "id": "50fb7671",
   "metadata": {},
   "outputs": [
    {
     "name": "stdout",
     "output_type": "stream",
     "text": [
      "2+2 = 4\n"
     ]
    }
   ],
   "source": [
    "print('2+2 =',  2+2)"
   ]
  },
  {
   "cell_type": "markdown",
   "id": "c6c185fd",
   "metadata": {},
   "source": [
    "O jupyter nos permite também examinar o valor de uma expressão sem a necessidade de usar o print()\n",
    "\n",
    "Mas note que logo abaixo do código, aparece um \"Out[]\", o que não acontece quando usamos a função print()\n",
    "\n",
    "Esse é um jeito de \"espiar\" o output das operações do Python de forma direta!"
   ]
  },
  {
   "cell_type": "code",
   "execution_count": 57,
   "id": "ccfc49d1",
   "metadata": {},
   "outputs": [
    {
     "data": {
      "text/plain": [
       "4"
      ]
     },
     "execution_count": 57,
     "metadata": {},
     "output_type": "execute_result"
    }
   ],
   "source": [
    "2+2"
   ]
  },
  {
   "cell_type": "code",
   "execution_count": 58,
   "id": "972f5fa5",
   "metadata": {},
   "outputs": [
    {
     "data": {
      "text/plain": [
       "18"
      ]
     },
     "execution_count": 58,
     "metadata": {},
     "output_type": "execute_result"
    }
   ],
   "source": [
    "3*6"
   ]
  },
  {
   "cell_type": "markdown",
   "id": "047bb238",
   "metadata": {},
   "source": [
    "Outra coisa importante é que o Jupyter só permite examinar o valor da **última** expressão no código:"
   ]
  },
  {
   "cell_type": "code",
   "execution_count": 60,
   "id": "4da04ff2",
   "metadata": {},
   "outputs": [
    {
     "name": "stdout",
     "output_type": "stream",
     "text": [
      "olá\n"
     ]
    },
    {
     "data": {
      "text/plain": [
       "18"
      ]
     },
     "execution_count": 60,
     "metadata": {},
     "output_type": "execute_result"
    }
   ],
   "source": [
    "2+2\n",
    "print('olá')\n",
    "3*6"
   ]
  },
  {
   "cell_type": "markdown",
   "id": "7ec6de22",
   "metadata": {},
   "source": [
    "# Entrada (input)"
   ]
  },
  {
   "cell_type": "markdown",
   "id": "a8052f1a",
   "metadata": {},
   "source": [
    "É como o computador **coleta dados de entrada** de um usuário através do teclado.\n",
    "\n",
    "Utilizamos a função input() para receber os dados do usuário, que deve digitá-los\n",
    "\n",
    "Opcionalmente, podemos colocar uma frase de instrução ao usuário na função input, dentro dos parênteses"
   ]
  },
  {
   "cell_type": "code",
   "execution_count": 63,
   "id": "6603d340",
   "metadata": {},
   "outputs": [
    {
     "name": "stdout",
     "output_type": "stream",
     "text": [
      "Digite seu nome: Bruna\n"
     ]
    },
    {
     "data": {
      "text/plain": [
       "'Bruna'"
      ]
     },
     "execution_count": 63,
     "metadata": {},
     "output_type": "execute_result"
    }
   ],
   "source": [
    "# recebo os dados do usuário através da função input,\n",
    "# e armazeno o resultado na variável \"meu_nome\"\n",
    "\n",
    "meu_nome = input('Digite seu nome: ')\n",
    "meu_nome"
   ]
  },
  {
   "cell_type": "code",
   "execution_count": 64,
   "id": "f327912c",
   "metadata": {},
   "outputs": [
    {
     "data": {
      "text/plain": [
       "str"
      ]
     },
     "execution_count": 64,
     "metadata": {},
     "output_type": "execute_result"
    }
   ],
   "source": [
    "type(meu_nome)"
   ]
  },
  {
   "cell_type": "markdown",
   "id": "7ca5bf23",
   "metadata": {},
   "source": [
    "__IMPORTANTE: a função input() toma o que o usuário digitou como uma string! Se o usuário digitar algum número, e algum cálculo for feito com esse número, o número deve ser transformado em int ou float!__\n",
    "\n",
    "A melhor forma de fazer isso, é já transformar o resultado da função input em float.\n",
    "\n",
    "Fazemos isso com uma espécie de sanduíche, colocando a função input() dentro da função float(), que transforma uma string em um float!\n",
    "\n",
    "OBS: é melhor transformar o input em float ao invés de int, pois o float é um tipo numérico mais genérico, apesar de ocupar (um pouco) mais memória"
   ]
  },
  {
   "cell_type": "code",
   "execution_count": 70,
   "id": "431663ab",
   "metadata": {},
   "outputs": [
    {
     "name": "stdout",
     "output_type": "stream",
     "text": [
      "Digite sua altura: 1.9\n"
     ]
    },
    {
     "data": {
      "text/plain": [
       "str"
      ]
     },
     "execution_count": 70,
     "metadata": {},
     "output_type": "execute_result"
    }
   ],
   "source": [
    "minha_altura = input('Digite sua altura: ')\n",
    "type(minha_altura)"
   ]
  },
  {
   "cell_type": "code",
   "execution_count": 66,
   "id": "745d5d7d",
   "metadata": {},
   "outputs": [
    {
     "data": {
      "text/plain": [
       "1.95"
      ]
     },
     "execution_count": 66,
     "metadata": {},
     "output_type": "execute_result"
    }
   ],
   "source": [
    "float(minha_altura)"
   ]
  },
  {
   "cell_type": "code",
   "execution_count": 69,
   "id": "9e359146",
   "metadata": {},
   "outputs": [
    {
     "name": "stdout",
     "output_type": "stream",
     "text": [
      "Digite o primeiro número: 2\n",
      "Digite o segundo número: 3\n"
     ]
    },
    {
     "data": {
      "text/plain": [
       "5.0"
      ]
     },
     "execution_count": 69,
     "metadata": {},
     "output_type": "execute_result"
    }
   ],
   "source": [
    "# pede dois números ao usuário, e já os transforma em float\n",
    "num_1 = float(input('Digite o primeiro número: '))\n",
    "\n",
    "num_2 = float(input('Digite o segundo número: ' ))\n",
    "\n",
    "# calcula a soma dos dois números\n",
    "\n",
    "num_1 + num_2"
   ]
  },
  {
   "cell_type": "code",
   "execution_count": null,
   "id": "6d98b425",
   "metadata": {},
   "outputs": [],
   "source": [
    "Intervalo. Voltamos 17:20"
   ]
  },
  {
   "cell_type": "markdown",
   "id": "fab9953f",
   "metadata": {},
   "source": [
    "# Operadores Matemáticos"
   ]
  },
  {
   "cell_type": "markdown",
   "id": "04973a85",
   "metadata": {},
   "source": [
    "Em Python, temos as principais operações matemáticas, com os respectivos símbolos:\n",
    "\n",
    "- soma: (+)\n",
    "\n",
    "- subtração: (-)\n",
    "\n",
    "- multiplicação: (*)\n",
    "\n",
    "- divisão: (/)\n",
    "\n",
    "- potência: (**)\n",
    "\n",
    "Além disso, temos duas operações especiais:\n",
    "\n",
    "- divisão inteira: (//) retorna a parte inteira da divisão entre dois números\n",
    "\n",
    "- resto da divisão: (%) se lê \"mod\", e retorna o resto da divisão entre dois números"
   ]
  },
  {
   "cell_type": "code",
   "execution_count": 72,
   "id": "432b2f57",
   "metadata": {},
   "outputs": [
    {
     "data": {
      "text/plain": [
       "14"
      ]
     },
     "execution_count": 72,
     "metadata": {},
     "output_type": "execute_result"
    }
   ],
   "source": [
    "# soma\n",
    "5+9"
   ]
  },
  {
   "cell_type": "code",
   "execution_count": 73,
   "id": "6b86c77f",
   "metadata": {},
   "outputs": [
    {
     "data": {
      "text/plain": [
       "-4"
      ]
     },
     "execution_count": 73,
     "metadata": {},
     "output_type": "execute_result"
    }
   ],
   "source": [
    "# subtração\n",
    "5-9"
   ]
  },
  {
   "cell_type": "code",
   "execution_count": 74,
   "id": "3a8bf7ce",
   "metadata": {},
   "outputs": [
    {
     "data": {
      "text/plain": [
       "45"
      ]
     },
     "execution_count": 74,
     "metadata": {},
     "output_type": "execute_result"
    }
   ],
   "source": [
    "# multiplicação\n",
    "5*9"
   ]
  },
  {
   "cell_type": "code",
   "execution_count": 77,
   "id": "549d28c2",
   "metadata": {},
   "outputs": [
    {
     "data": {
      "text/plain": [
       "0.5555555555555556"
      ]
     },
     "execution_count": 77,
     "metadata": {},
     "output_type": "execute_result"
    }
   ],
   "source": [
    "# divisão\n",
    "5/9 "
   ]
  },
  {
   "cell_type": "code",
   "execution_count": 96,
   "id": "67164cde",
   "metadata": {},
   "outputs": [
    {
     "data": {
      "text/plain": [
       "8"
      ]
     },
     "execution_count": 96,
     "metadata": {},
     "output_type": "execute_result"
    }
   ],
   "source": [
    "# potência\n",
    "2**3"
   ]
  },
  {
   "cell_type": "code",
   "execution_count": 78,
   "id": "03d4d990",
   "metadata": {},
   "outputs": [
    {
     "data": {
      "text/plain": [
       "0"
      ]
     },
     "execution_count": 78,
     "metadata": {},
     "output_type": "execute_result"
    }
   ],
   "source": [
    "# divisão inteira\n",
    "5 // 9"
   ]
  },
  {
   "cell_type": "code",
   "execution_count": 79,
   "id": "1a0f392c",
   "metadata": {},
   "outputs": [
    {
     "data": {
      "text/plain": [
       "2"
      ]
     },
     "execution_count": 79,
     "metadata": {},
     "output_type": "execute_result"
    }
   ],
   "source": [
    "5 // 2"
   ]
  },
  {
   "cell_type": "code",
   "execution_count": 83,
   "id": "aac51af9",
   "metadata": {},
   "outputs": [
    {
     "data": {
      "text/plain": [
       "1"
      ]
     },
     "execution_count": 83,
     "metadata": {},
     "output_type": "execute_result"
    }
   ],
   "source": [
    "5 // 3"
   ]
  },
  {
   "cell_type": "code",
   "execution_count": 84,
   "id": "141f2fee",
   "metadata": {},
   "outputs": [
    {
     "data": {
      "text/plain": [
       "2"
      ]
     },
     "execution_count": 84,
     "metadata": {},
     "output_type": "execute_result"
    }
   ],
   "source": [
    "5 % 3"
   ]
  },
  {
   "cell_type": "markdown",
   "id": "76fc2834",
   "metadata": {},
   "source": [
    "OBS: o principal uso do operador resto da divisão (%) é para avaliar se um número é par ou impar:\n",
    "\n",
    "- se o resto da divisão de um número por 2 **É ZERO**, ele é par;\n",
    "- se o resto da divisão de um número por 2 **É UM**, ele é ímpar;\n"
   ]
  },
  {
   "cell_type": "markdown",
   "id": "508c7ef4",
   "metadata": {},
   "source": [
    "# casos interessantes"
   ]
  },
  {
   "cell_type": "code",
   "execution_count": 86,
   "id": "7fb1130a",
   "metadata": {},
   "outputs": [
    {
     "data": {
      "text/plain": [
       "'alo alo alo '"
      ]
     },
     "execution_count": 86,
     "metadata": {},
     "output_type": "execute_result"
    }
   ],
   "source": [
    "# multiplicar int por string\n",
    "3 * 'alo '"
   ]
  },
  {
   "cell_type": "code",
   "execution_count": 88,
   "id": "180a8eb7",
   "metadata": {},
   "outputs": [
    {
     "data": {
      "text/plain": [
       "'alo galera'"
      ]
     },
     "execution_count": 88,
     "metadata": {},
     "output_type": "execute_result"
    }
   ],
   "source": [
    "# string + string\n",
    "'alo ' + 'galera'"
   ]
  },
  {
   "cell_type": "code",
   "execution_count": 89,
   "id": "684aa192",
   "metadata": {},
   "outputs": [
    {
     "ename": "TypeError",
     "evalue": "can't multiply sequence by non-int of type 'float'",
     "output_type": "error",
     "traceback": [
      "\u001b[1;31m---------------------------------------------------------------------------\u001b[0m",
      "\u001b[1;31mTypeError\u001b[0m                                 Traceback (most recent call last)",
      "\u001b[1;32m<ipython-input-89-ba2001afa783>\u001b[0m in \u001b[0;36m<module>\u001b[1;34m\u001b[0m\n\u001b[0;32m      1\u001b[0m \u001b[1;31m# float vezes string\u001b[0m\u001b[1;33m\u001b[0m\u001b[1;33m\u001b[0m\u001b[1;33m\u001b[0m\u001b[0m\n\u001b[1;32m----> 2\u001b[1;33m \u001b[1;36m3.5\u001b[0m \u001b[1;33m*\u001b[0m \u001b[1;34m'alo '\u001b[0m\u001b[1;33m\u001b[0m\u001b[1;33m\u001b[0m\u001b[0m\n\u001b[0m",
      "\u001b[1;31mTypeError\u001b[0m: can't multiply sequence by non-int of type 'float'"
     ]
    }
   ],
   "source": [
    "# float vezes string\n",
    "3.5 * 'alo '"
   ]
  },
  {
   "cell_type": "code",
   "execution_count": 93,
   "id": "b4536de0",
   "metadata": {},
   "outputs": [
    {
     "data": {
      "text/plain": [
       "6.1"
      ]
     },
     "execution_count": 93,
     "metadata": {},
     "output_type": "execute_result"
    }
   ],
   "source": [
    "# operações com boolean\n",
    "# True -> 1\n",
    "# False -> 0\n",
    "\n",
    "5.1 + True"
   ]
  },
  {
   "cell_type": "markdown",
   "id": "d58d503e",
   "metadata": {},
   "source": [
    "# Exercícios"
   ]
  },
  {
   "cell_type": "markdown",
   "id": "8967d0cd",
   "metadata": {},
   "source": [
    "## Faça um programa que receba um valor monetário e eleve esse valor em 15%. "
   ]
  },
  {
   "cell_type": "code",
   "execution_count": 107,
   "id": "33d6211e",
   "metadata": {},
   "outputs": [
    {
     "name": "stdout",
     "output_type": "stream",
     "text": [
      "Entre com o valor: 100\n"
     ]
    },
    {
     "data": {
      "text/plain": [
       "115.0"
      ]
     },
     "execution_count": 107,
     "metadata": {},
     "output_type": "execute_result"
    }
   ],
   "source": [
    "x = float(input('Entre com o valor: '))\n",
    "x_new = round(x*1.15, 3)\n",
    "x_new"
   ]
  },
  {
   "cell_type": "code",
   "execution_count": 109,
   "id": "a7992878",
   "metadata": {},
   "outputs": [
    {
     "name": "stdout",
     "output_type": "stream",
     "text": [
      "Entre com o valor: 100\n"
     ]
    },
    {
     "data": {
      "text/plain": [
       "115.0"
      ]
     },
     "execution_count": 109,
     "metadata": {},
     "output_type": "execute_result"
    }
   ],
   "source": [
    "# em uma única linha\n",
    "round(float(input('Entre com o valor: '))*1.15, 3)"
   ]
  },
  {
   "cell_type": "code",
   "execution_count": 111,
   "id": "4b063ef1",
   "metadata": {},
   "outputs": [
    {
     "name": "stdout",
     "output_type": "stream",
     "text": [
      "Entre com o valor: 100\n"
     ]
    },
    {
     "data": {
      "text/plain": [
       "115.0"
      ]
     },
     "execution_count": 111,
     "metadata": {},
     "output_type": "execute_result"
    }
   ],
   "source": [
    "# outro jeito\n",
    "vlr = float(input('Entre com o valor: '))\n",
    "vlr_2 = vlr + vlr*0.15\n",
    "vlr_2"
   ]
  },
  {
   "cell_type": "code",
   "execution_count": 112,
   "id": "bb35d7d1",
   "metadata": {},
   "outputs": [
    {
     "name": "stdout",
     "output_type": "stream",
     "text": [
      "Entre com o valor: 100\n"
     ]
    },
    {
     "data": {
      "text/plain": [
       "115.0"
      ]
     },
     "execution_count": 112,
     "metadata": {},
     "output_type": "execute_result"
    }
   ],
   "source": [
    "vlr = float(input('Entre com o valor: '))\n",
    "vlr = vlr + vlr*0.15\n",
    "vlr"
   ]
  },
  {
   "cell_type": "markdown",
   "id": "432e39a6",
   "metadata": {},
   "source": [
    "## Faça um programa que receba um valor monetário e diminua esse valor em 15%. "
   ]
  },
  {
   "cell_type": "code",
   "execution_count": 114,
   "id": "9dbe470b",
   "metadata": {},
   "outputs": [
    {
     "name": "stdout",
     "output_type": "stream",
     "text": [
      "Entre com o valor: 10\n"
     ]
    },
    {
     "data": {
      "text/plain": [
       "8.5"
      ]
     },
     "execution_count": 114,
     "metadata": {},
     "output_type": "execute_result"
    }
   ],
   "source": [
    "x = float(input('Entre com o valor: '))\n",
    "x = x*0.85\n",
    "x"
   ]
  },
  {
   "cell_type": "code",
   "execution_count": null,
   "id": "8e527047",
   "metadata": {},
   "outputs": [],
   "source": []
  }
 ],
 "metadata": {
  "kernelspec": {
   "display_name": "Python 3",
   "language": "python",
   "name": "python3"
  },
  "language_info": {
   "codemirror_mode": {
    "name": "ipython",
    "version": 3
   },
   "file_extension": ".py",
   "mimetype": "text/x-python",
   "name": "python",
   "nbconvert_exporter": "python",
   "pygments_lexer": "ipython3",
   "version": "3.8.8"
  },
  "toc": {
   "base_numbering": 1,
   "nav_menu": {},
   "number_sections": true,
   "sideBar": true,
   "skip_h1_title": false,
   "title_cell": "Table of Contents",
   "title_sidebar": "Contents",
   "toc_cell": false,
   "toc_position": {
    "height": "calc(100% - 180px)",
    "left": "10px",
    "top": "150px",
    "width": "319px"
   },
   "toc_section_display": true,
   "toc_window_display": true
  },
  "varInspector": {
   "cols": {
    "lenName": 16,
    "lenType": 16,
    "lenVar": 40
   },
   "kernels_config": {
    "python": {
     "delete_cmd_postfix": "",
     "delete_cmd_prefix": "del ",
     "library": "var_list.py",
     "varRefreshCmd": "print(var_dic_list())"
    },
    "r": {
     "delete_cmd_postfix": ") ",
     "delete_cmd_prefix": "rm(",
     "library": "var_list.r",
     "varRefreshCmd": "cat(var_dic_list()) "
    }
   },
   "types_to_exclude": [
    "module",
    "function",
    "builtin_function_or_method",
    "instance",
    "_Feature"
   ],
   "window_display": false
  }
 },
 "nbformat": 4,
 "nbformat_minor": 5
}
